{
 "cells": [
  {
   "cell_type": "markdown",
   "metadata": {},
   "source": [
    "### *.txt* to *.json* -- appropriate for WDL\n",
    "#### *config file variable is also input:*\n",
    "```python\n",
    "paired_end = True # False\n",
    "```"
   ]
  },
  {
   "cell_type": "code",
   "execution_count": 1,
   "metadata": {},
   "outputs": [
    {
     "data": {
      "text/plain": [
       "['PairedEnd_MultiLane.txt',\n",
       " 'nos_otros.txt',\n",
       " 'SingleEnd_SingleLane.txt',\n",
       " 'PairedEnd_SinlgeLane.txt',\n",
       " 'Untitled.ipynb',\n",
       " 'SingleEnd_MultiLane.txt',\n",
       " 'JointAnalysisGroups_SameNormal_MultipleTumors.txt',\n",
       " '.ipynb_checkpoints',\n",
       " 'JointAnalysisGroups.txt']"
      ]
     },
     "execution_count": 1,
     "metadata": {},
     "output_type": "execute_result"
    }
   ],
   "source": [
    "import os\n",
    "import sys\n",
    "import numpy as np\n",
    "import pandas as pd\n",
    "os.listdir()"
   ]
  },
  {
   "cell_type": "code",
   "execution_count": 71,
   "metadata": {},
   "outputs": [],
   "source": [
    "def display_text_file(txt_file_name):\n",
    "    lines = ''\n",
    "    with open(txt_file_name, 'r') as fh:\n",
    "        lines = fh.readlines()\n",
    "    \n",
    "    print('%50s: %3i lines'%(txt_file_name, len(lines)))\n",
    "    if len(lines) > 0:\n",
    "        for line in lines:\n",
    "            print(line)\n",
    "            \n",
    "        line_number = 0\n",
    "        for l in lines:\n",
    "            l_list = l.strip().split(' ')\n",
    "            n_space_separated = len(l_list)\n",
    "            if n_space_separated == 1:\n",
    "                spc_loc = l.find(' ')\n",
    "                if spc_loc == -1:\n",
    "                    n_space_separated = 0\n",
    "            lt_list = l.strip().split('\\t')\n",
    "            n_tab_separated = len(lt_list)\n",
    "            if n_tab_separated == 1:\n",
    "                tab_loc = l.find('\\t')\n",
    "                if tab_loc == -1:\n",
    "                    n_tab_separated = 0\n",
    "            contains_hashtag = l.find('#')\n",
    "            contains_doublequote = l.find('\"')\n",
    "                    \n",
    "            line_number += 1\n",
    "            print('%46s:%3i\\t%2i tab, %2i spc,\\thashtag: %i, doublequote: %i'%('line',\n",
    "                                                                          line_number, \n",
    "                                                                          n_tab_separated, \n",
    "                                                                          n_space_separated, \n",
    "                                                                          contains_hashtag==0, \n",
    "                                                                          contains_doublequote>=0))\n",
    "            \n",
    "    print('\\n\\n')\n",
    "    \n",
    "# txt_file_name = 'PairedEnd_MultiLane.txt'\n",
    "# display_text_file(txt_file_name)"
   ]
  },
  {
   "cell_type": "code",
   "execution_count": 72,
   "metadata": {},
   "outputs": [
    {
     "name": "stdout",
     "output_type": "stream",
     "text": [
      "                           PairedEnd_MultiLane.txt:   4 lines\n",
      "#FASTQ:sampleA=sampleA.L1.R1.fastq.gz\tsampleA.L1.R2.fastq.gz\tsampleA.L2.R1.fastq.gz\tsampleA.L2.R2.fastq.gz\tsampleA.L3.R1.fastq.gz\tsampleA.L3.R2.fastq.gz\n",
      "\n",
      "#FASTQ:sampleB=sampleB.L1.R1.fastq.gz\tsampleB.L1.R2.fastq.gz\tsampleB.L2.R1.fastq.gz\tsampleB.L2.R2.fastq.gz\tsampleB.L3.R1.fastq.gz\tsampleB.L3.R2.fastq.gz\n",
      "\n",
      "#FASTQ:sampleC=sampleC.L1.R1.fastq.gz\tsampleC.L1.R2.fastq.gz\tsampleC.L2.R1.fastq.gz\tsampleC.L2.R2.fastq.gz\tsampleC.L3.R1.fastq.gz\tsampleC.L3.R2.fastq.gz\n",
      "\n",
      "#FASTQ:sampleD=sampleD.L1.R1.fastq.gz\tsampleD.L1.R2.fastq.gz\tsampleD.L2.R1.fastq.gz\tsampleD.L2.R2.fastq.gz\tsampleD.L3.R1.fastq.gz\tsampleD.L3.R2.fastq.gz\n",
      "\n",
      "                                          line:  1\t 6 tab,  0 spc\thashtag: 1, doublequote: 0\n",
      "                                          line:  2\t 6 tab,  0 spc\thashtag: 1, doublequote: 0\n",
      "                                          line:  3\t 6 tab,  0 spc\thashtag: 1, doublequote: 0\n",
      "                                          line:  4\t 6 tab,  0 spc\thashtag: 1, doublequote: 0\n",
      "\n",
      "\n",
      "\n",
      "                          SingleEnd_SingleLane.txt:   4 lines\n",
      "#FASTQ:sampleA=sampleA.R1.fastq.gz\n",
      "\n",
      "#FASTQ:sampleB=sampleB.R1.fastq.gz\n",
      "\n",
      "#FASTQ:sampleC=sampleC.R1.fastq.gz\n",
      "\n",
      "#FASTQ:sampleD=sampleD.R1.fastq.gz\n",
      "\n",
      "                                          line:  1\t 0 tab,  0 spc\thashtag: 1, doublequote: 0\n",
      "                                          line:  2\t 0 tab,  0 spc\thashtag: 1, doublequote: 0\n",
      "                                          line:  3\t 0 tab,  0 spc\thashtag: 1, doublequote: 0\n",
      "                                          line:  4\t 0 tab,  0 spc\thashtag: 1, doublequote: 0\n",
      "\n",
      "\n",
      "\n",
      "                          PairedEnd_SinlgeLane.txt:   4 lines\n",
      "#FASTQ:sampleA=sampleA.R1.fastq.gz\tsampleA.R2.fastq.gz\n",
      "\n",
      "#FASTQ:sampleB=sampleB.R1.fastq.gz\tsampleB.R2.fastq.gz\n",
      "\n",
      "#FASTQ:sampleC=sampleC.R1.fastq.gz\tsampleC.R2.fastq.gz\n",
      "\n",
      "#FASTQ:sampleD=sampleD.R1.fastq.gz\tsampleD.R2.fastq.gz\n",
      "\n",
      "                                          line:  1\t 2 tab,  0 spc\thashtag: 1, doublequote: 0\n",
      "                                          line:  2\t 2 tab,  0 spc\thashtag: 1, doublequote: 0\n",
      "                                          line:  3\t 2 tab,  0 spc\thashtag: 1, doublequote: 0\n",
      "                                          line:  4\t 2 tab,  0 spc\thashtag: 1, doublequote: 0\n",
      "\n",
      "\n",
      "\n",
      "                           SingleEnd_MultiLane.txt:   4 lines\n",
      "#FASTQ:sampleA=sampleA.L1.R1.fastq.gz\tsampleA.L2.R1.fastq.gz\tsampleA.L3.R1.fastq.gz\n",
      "\n",
      "#FASTQ:sampleB=sampleB.L1.R1.fastq.gz\tsampleB.L2.R1.fastq.gz\tsampleB.L3.R1.fastq.gz\n",
      "\n",
      "#FASTQ:sampleC=sampleC.L1.R1.fastq.gz\tsampleC.L2.R1.fastq.gz\tsampleC.L3.R1.fastq.gz\n",
      "\n",
      "#FASTQ:sampleD=sampleC.L1.R1.fastq.gz\tsampleD.L2.R1.fastq.gz\tsampleD.L3.R1.fastq.gz\n",
      "\n",
      "                                          line:  1\t 3 tab,  0 spc\thashtag: 1, doublequote: 0\n",
      "                                          line:  2\t 3 tab,  0 spc\thashtag: 1, doublequote: 0\n",
      "                                          line:  3\t 3 tab,  0 spc\thashtag: 1, doublequote: 0\n",
      "                                          line:  4\t 3 tab,  0 spc\thashtag: 1, doublequote: 0\n",
      "\n",
      "\n",
      "\n",
      " JointAnalysisGroups_SameNormal_MultipleTumors.txt:   2 lines\n",
      "group1=\"sampleA sampleB sampleC\"\n",
      "\n",
      "group2=\"sampleA sampleD\"\n",
      "\n",
      "                                          line:  1\t 0 tab,  3 spc\thashtag: 0, doublequote: 1\n",
      "                                          line:  2\t 0 tab,  2 spc\thashtag: 0, doublequote: 1\n",
      "\n",
      "\n",
      "\n",
      "                           JointAnalysisGroups.txt:   2 lines\n",
      "group1=\"sampleA sampleB\"\n",
      "\n",
      "group2=\"sampleC sampleD\"\n",
      "\n",
      "                                          line:  1\t 0 tab,  2 spc\thashtag: 0, doublequote: 1\n",
      "                                          line:  2\t 0 tab,  2 spc\thashtag: 0, doublequote: 1\n",
      "\n",
      "\n",
      "\n"
     ]
    }
   ],
   "source": [
    "for maybe_file in os.listdir():\n",
    "    de_nada, f_ext = os.path.splitext(maybe_file)\n",
    "    if f_ext == '.txt' and de_nada != 'nos_otros':\n",
    "        display_text_file(maybe_file)\n",
    "            "
   ]
  },
  {
   "cell_type": "code",
   "execution_count": null,
   "metadata": {},
   "outputs": [],
   "source": []
  },
  {
   "cell_type": "code",
   "execution_count": null,
   "metadata": {},
   "outputs": [],
   "source": []
  },
  {
   "cell_type": "code",
   "execution_count": null,
   "metadata": {},
   "outputs": [],
   "source": []
  },
  {
   "cell_type": "code",
   "execution_count": null,
   "metadata": {},
   "outputs": [],
   "source": []
  },
  {
   "cell_type": "code",
   "execution_count": null,
   "metadata": {},
   "outputs": [],
   "source": []
  },
  {
   "cell_type": "code",
   "execution_count": null,
   "metadata": {},
   "outputs": [],
   "source": []
  },
  {
   "cell_type": "code",
   "execution_count": null,
   "metadata": {},
   "outputs": [],
   "source": []
  },
  {
   "cell_type": "code",
   "execution_count": null,
   "metadata": {},
   "outputs": [],
   "source": []
  },
  {
   "cell_type": "code",
   "execution_count": null,
   "metadata": {},
   "outputs": [],
   "source": []
  },
  {
   "cell_type": "code",
   "execution_count": null,
   "metadata": {},
   "outputs": [],
   "source": []
  },
  {
   "cell_type": "code",
   "execution_count": null,
   "metadata": {},
   "outputs": [],
   "source": []
  },
  {
   "cell_type": "code",
   "execution_count": null,
   "metadata": {},
   "outputs": [],
   "source": []
  }
 ],
 "metadata": {
  "kernelspec": {
   "display_name": "Python 3",
   "language": "python",
   "name": "python3"
  },
  "language_info": {
   "codemirror_mode": {
    "name": "ipython",
    "version": 3
   },
   "file_extension": ".py",
   "mimetype": "text/x-python",
   "name": "python",
   "nbconvert_exporter": "python",
   "pygments_lexer": "ipython3",
   "version": "3.6.5"
  }
 },
 "nbformat": 4,
 "nbformat_minor": 2
}
