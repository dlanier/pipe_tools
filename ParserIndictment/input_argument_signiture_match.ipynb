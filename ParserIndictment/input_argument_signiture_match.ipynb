{
 "cells": [
  {
   "cell_type": "markdown",
   "metadata": {},
   "source": [
    "# signature match\n",
    "```bash\n",
    "Using same signiture as current config_parser.py\n",
    "#             Fill In the JSON template                  (python)\n",
    "python parserpiggie.py ConfigsBeingUsed --jsonTemplate workflow.template.json -o workflow.FilledIn.json\n",
    "\n",
    "#            Validate FilledIn JSON key file              (pyton)\n",
    "python python/key_validator.py -i workflow.FilledIn.json --KeyTypeFile key_types.json\n",
    "```"
   ]
  },
  {
   "cell_type": "code",
   "execution_count": 1,
   "metadata": {},
   "outputs": [
    {
     "name": "stdout",
     "output_type": "stream",
     "text": [
      "Writing signiture_parse.py\n"
     ]
    }
   ],
   "source": [
    "%%writefile signiture_parse.py\n",
    "import argparse\n",
    "import sys\n",
    "import json\n",
    "\n",
    "def parse_args(args):\n",
    "    \"\"\"\n",
    "    By default, argparse treats all arguments that begin with '-' or '--' as optional in the help menu\n",
    "      (preferring to have required arguments be positional).\n",
    "\n",
    "    To get around this, we must define a required group to contain the required arguments\n",
    "      This will cause the help menu to be displayed correctly\n",
    "    \"\"\"\n",
    "    parser = argparse.ArgumentParser()\n",
    "\n",
    "    required_group = parser.add_argument_group('required arguments')\n",
    "    required_group.add_argument(\"-i\", action='append', required=True, metavar='',\n",
    "                                help=\"The input configuration files (Multiple entries of this flag are allowed)\"\n",
    "                                )\n",
    "    required_group.add_argument(\"--jsonTemplate\", required=True, metavar='',\n",
    "                                help='The json template file that is filled in with data from the input files'\n",
    "                                )\n",
    "    required_group.add_argument(\"-o\", required=True, metavar='',\n",
    "                                help='The location of the output file'\n",
    "                                )\n",
    "    # Truly optional argument\n",
    "    parser.add_argument('--jobID', type=str, metavar='', help='The job ID', default=None, required=False)\n",
    "    \n",
    "    # Debug mode is on when the flag is present and is false by default\n",
    "    parser.add_argument(\"-d\", action=\"store_true\", help=\"Turns on debug mode\", default=False, required=False)\n",
    "    \n",
    "    return parser.parse_args(args)\n",
    "\n",
    "\n",
    "def main(args):\n",
    "    parsed_args = parse_args(args)\n",
    "\n",
    "    #                  for function development:\n",
    "    args_dict = json.dumps(vars(parsed_args), indent=4)\n",
    "    with open('test_in_args.json', 'w') as fh:\n",
    "        fh.writelines(args_dict)\n",
    "        \n",
    "if __name__ == '__main__':\n",
    "    main(sys.argv[1:])\n"
   ]
  },
  {
   "cell_type": "code",
   "execution_count": 2,
   "metadata": {},
   "outputs": [
    {
     "name": "stdout",
     "output_type": "stream",
     "text": [
      "10 lines found\n",
      "{\n",
      "     \"i\": [\n",
      "     \"conf.txt\",\n",
      "     \"null_filename.txt\"\n",
      "     ],\n",
      "     \"jsonTemplate\": \"workflow.template.json\",\n",
      "     \"o\": \"workflow.FilledIn.json\",\n",
      "     \"jobID\": null,\n",
      "     \"d\": false\n",
      "}\n"
     ]
    }
   ],
   "source": [
    "import os\n",
    "\n",
    "ConfigsBeingUsed = ' -i conf.txt -i null_filename.txt'\n",
    "S = 'python3 signiture_parse.py'\n",
    "S = S + ConfigsBeingUsed\n",
    "S = S + ' --jsonTemplate workflow.template.json -o workflow.FilledIn.json'\n",
    "# S = S + ' &> jalog.txt'\n",
    "os.system(S)\n",
    "# with open('jalog.txt', 'r') as fh:\n",
    "#     lines = fh.readlines()\n",
    "\n",
    "# for line in lines:\n",
    "#     print(line.strip())\n",
    "    \n",
    "with open('test_in_args.json', 'r') as fh:\n",
    "    lines = fh.readlines()\n",
    "print(len(lines), 'lines found')\n",
    "for line in lines:\n",
    "    if '{' in line or '}' in line:\n",
    "        print(line.strip())\n",
    "    else:\n",
    "        print('    ',line.strip())"
   ]
  },
  {
   "cell_type": "code",
   "execution_count": null,
   "metadata": {},
   "outputs": [],
   "source": []
  }
 ],
 "metadata": {
  "kernelspec": {
   "display_name": "Python 3",
   "language": "python",
   "name": "python3"
  },
  "language_info": {
   "codemirror_mode": {
    "name": "ipython",
    "version": 3
   },
   "file_extension": ".py",
   "mimetype": "text/x-python",
   "name": "python",
   "nbconvert_exporter": "python",
   "pygments_lexer": "ipython3",
   "version": "3.6.7"
  }
 },
 "nbformat": 4,
 "nbformat_minor": 2
}
