{
 "cells": [
  {
   "cell_type": "markdown",
   "metadata": {},
   "source": [
    "# signature match\n",
    "```bash\n",
    "Using same signiture as current config_parser.py\n",
    "#             Fill In the JSON template                  (python)\n",
    "python parserpiggie.py ConfigsBeingUsed --jsonTemplate workflow.template.json -o workflow.FilledIn.json\n",
    "\n",
    "#            Validate FilledIn JSON key file              (pyton)\n",
    "python python/key_validator.py -i workflow.FilledIn.json --KeyTypeFile key_types.json\n",
    "```"
   ]
  },
  {
   "cell_type": "code",
   "execution_count": 7,
   "metadata": {},
   "outputs": [
    {
     "name": "stdout",
     "output_type": "stream",
     "text": [
      "Overwriting parserpiggie.py\n"
     ]
    }
   ],
   "source": [
    "%%writefile parserpiggie.py\n",
    "import argparse\n",
    "import sys\n",
    "# from config.parser.parsing import Parser\n",
    "\n",
    "\n",
    "def parse_args(args):\n",
    "    \"\"\"\n",
    "    By default, argparse treats all arguments that begin with '-' or '--' as optional in the help menu\n",
    "      (preferring to have required arguments be positional).\n",
    "\n",
    "    To get around this, we must define a required group to contain the required arguments\n",
    "      This will cause the help menu to be displayed correctly\n",
    "    \"\"\"\n",
    "    parser = argparse.ArgumentParser()\n",
    "\n",
    "    required_group = parser.add_argument_group('required arguments')\n",
    "    required_group.add_argument(\"-i\", action='append', required=True, metavar='',\n",
    "                                help=\"The input configuration files (Multiple entries of this flag are allowed)\"\n",
    "                                )\n",
    "    required_group.add_argument(\"--jsonTemplate\", required=True, metavar='',\n",
    "                                help='The json template file that is filled in with data from the input files'\n",
    "                                )\n",
    "    required_group.add_argument(\"-o\", required=True, metavar='',\n",
    "                                help='The location of the output file'\n",
    "                                )\n",
    "    # Truly optional argument\n",
    "    parser.add_argument('--jobID', type=str, metavar='', help='The job ID', default=None, required=False)\n",
    "    \n",
    "    # Debug mode is on when the flag is present and is false by default\n",
    "    parser.add_argument(\"-d\", action=\"store_true\", help=\"Turns on debug mode\", default=False, required=False)\n",
    "    \n",
    "    return parser.parse_args(args)\n",
    "\n",
    "\n",
    "def main(args):\n",
    "    parsed_args = parse_args(args)\n",
    "    print(parsed_args)\n",
    "    print('type(parsed_args)',type(parsed_args))\n",
    "    \n",
    "    print('i', parsed_args.i, type(parsed_args.i))\n",
    "    print('jsonTemplate', parsed_args.jsonTemplate, type(parsed_args.jsonTemplate))\n",
    "    print('o', parsed_args.o, type(parsed_args.o))\n",
    "    print('jobID', parsed_args.jobID, type(parsed_args.jobID), parsed_args.jobID is None)\n",
    "    print('d', parsed_args.d, type(parsed_args.d))\n",
    "    \n",
    "    print('\\n\\nDictionary Version\\n')\n",
    "    args_dict = vars(parsed_args)\n",
    "    for k, v in args_dict.items():\n",
    "        print('%30s: %s'%(k,v))\n",
    "\n",
    "if __name__ == '__main__':\n",
    "    main(sys.argv[1:])\n"
   ]
  },
  {
   "cell_type": "code",
   "execution_count": 8,
   "metadata": {},
   "outputs": [
    {
     "name": "stdout",
     "output_type": "stream",
     "text": [
      "Namespace(d=False, i=['conf.txt'], jobID=None, jsonTemplate='workflow.template.json', o='workflow.FilledIn.json')\n",
      "type(parsed_args) <class 'argparse.Namespace'>\n",
      "i ['conf.txt'] <class 'list'>\n",
      "jsonTemplate workflow.template.json <class 'str'>\n",
      "o workflow.FilledIn.json <class 'str'>\n",
      "jobID None <class 'NoneType'> True\n",
      "d False <class 'bool'>\n",
      "\n",
      "Dictionary Version\n",
      "\n",
      "i: ['conf.txt']\n",
      "jsonTemplate: workflow.template.json\n",
      "o: workflow.FilledIn.json\n",
      "jobID: None\n",
      "d: False\n"
     ]
    }
   ],
   "source": [
    "import os\n",
    "import sys\n",
    "ConfigsBeingUsed = ' -i conf.txt'\n",
    "S = 'python3 parserpiggie.py'\n",
    "S = S + ConfigsBeingUsed\n",
    "S = S + ' --jsonTemplate workflow.template.json -o workflow.FilledIn.json'\n",
    "S = S + ' &> jalog.txt'\n",
    "os.system(S)\n",
    "with open('jalog.txt', 'r') as fh:\n",
    "    lines = fh.readlines()\n",
    "\n",
    "for line in lines:\n",
    "    print(line.strip())"
   ]
  },
  {
   "cell_type": "code",
   "execution_count": null,
   "metadata": {},
   "outputs": [],
   "source": []
  }
 ],
 "metadata": {
  "kernelspec": {
   "display_name": "Python 3",
   "language": "python",
   "name": "python3"
  },
  "language_info": {
   "codemirror_mode": {
    "name": "ipython",
    "version": 3
   },
   "file_extension": ".py",
   "mimetype": "text/x-python",
   "name": "python",
   "nbconvert_exporter": "python",
   "pygments_lexer": "ipython3",
   "version": "3.6.7"
  }
 },
 "nbformat": 4,
 "nbformat_minor": 2
}
