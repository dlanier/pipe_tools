{
 "cells": [
  {
   "cell_type": "markdown",
   "metadata": {},
   "source": [
    "<a id=\"top\"></a>\n",
    "# WOMTOOL generated json template file get config.txt file values\n",
    "## Alice in WDLand\n",
    "<img src=\"images/HookahCaterpillerAliceInWDLand.jpg\" width=\"200\" height=\"300\"> <br>\n",
    "\n",
    "\n",
    "## WOMTOOL template \n",
    "    * Keys are decimal-point separated, call stack variable names.\n",
    "    * Leftmost Key part is stack bottom (call-start).\n",
    "    * Rightmost Key part is variable name used in Config file (HICKUP).\n",
    "    * Values are wdl types defined in the WDL specification.\n",
    "    \n",
    "## Config.txt convention\n",
    "```bash\n",
    "variable_key_name=\"variable value\"\n",
    "variable_array_key_name=[\"variable value\"]\n",
    "```\n",
    "    * Plain text file with unquoted string keys, equals sign and quoted string variable value.\n",
    "    * arrays are indicated by brackets.\n",
    "    * Note: config file keys may allow AMBIGUOUS json assignment.\n",
    "****\n",
    "[test data generation cells](#generate_test_data) <br>\n",
    "****\n",
    "[read json file](#read_json_file) <br>\n",
    "[read config file](#read_config_file) <br>\n",
    "[put config in json](#put_config_in_json) <br>\n",
    "[write filled in json](#write_filled_in_json) <br>"
   ]
  },
  {
   "cell_type": "code",
   "execution_count": 46,
   "metadata": {},
   "outputs": [],
   "source": [
    "import os\n",
    "import yaml\n",
    "import json\n",
    "from collections import OrderedDict, defaultdict, Counter\n",
    "\n",
    "\n",
    "def configure_json_dict(json_dict, config_dict):\n",
    "    \"\"\" Usage: configured_dict, json_missing_dict, config_used_dict = configure_json_dict(json_dict, config_dict)\n",
    "    \n",
    "    Args:\n",
    "        json_dict:          python dict from json template file\n",
    "        config_dict:        python dict from config.txt file intended to fill in the json template\n",
    "    Returns:\n",
    "        configured_dict:    json dict keys: config dict values\n",
    "        json_missing_dict:  keys: value (= types)  for json dict keys not found in config dict\n",
    "        config_used_dict:   the config file key-value pairs used\n",
    "    \"\"\"\n",
    "    configured_dict = defaultdict()\n",
    "    json_missing_dict = defaultdict()\n",
    "    config_used_dict = defaultdict()\n",
    "    # empty dictionary of lists -- missing config values -- json_key: json_template_value\n",
    "    \n",
    "    keys_d = get_json_keys_config_dict(json_dict)\n",
    "    # dictionary of json key -- rightmost member: json key (all.members.vars)\n",
    "    \n",
    "    json_keys_counter = Counter(json_dict.keys())\n",
    "    # checks to be sure that all keys are filled with some value from the config file\n",
    "    \n",
    "    for k, v in config_dict.items():\n",
    "        # put the config dict values in the json file full-key\n",
    "        if k in keys_d:\n",
    "            config_used_dict[k] = v\n",
    "            # design decision to keep config used dict in usable format - even if ambiguous here\n",
    "            for var_name in keys_d[k]:\n",
    "                configured_dict[var_name] = v.strip('\"')\n",
    "                json_keys_counter[var_name] += 1\n",
    "                \n",
    "    for k, v in json_keys_counter.items():\n",
    "        # counter starts at one ergo json key is missing if v is 1\n",
    "        if v < 2:\n",
    "            json_missing_dict[k] = json_dict[k]\n",
    "                \n",
    "    return configured_dict, json_missing_dict, config_used_dict\n",
    "\n",
    "\n",
    "def get_json_keys_config_dict(json_dict):\n",
    "    \"\"\" Usage:    keys_dict = get_json_keys_config_dict(json_dict) \n",
    "    \n",
    "    Args:\n",
    "        json_dict:      json template file as python dict\n",
    "        \n",
    "    Returns:\n",
    "        keys_dict:      key is righmost member of json key\n",
    "                        value is json key\n",
    "    \"\"\"\n",
    "    keys_dict = defaultdict(list)\n",
    "    for k, v in json_dict.items():\n",
    "        k_list = k.split('.')\n",
    "        keys_dict[k_list[-1]].append(k)\n",
    "    \n",
    "    return keys_dict\n",
    "\n",
    "\n",
    "def get_config_file_dict(configfile_fullpath):\n",
    "    \"\"\" Usage:   config_file_dict = get_config_file_dict(configfile_fullpath)\n",
    "    \n",
    "    User must insure plain text encoding and the format dictated by WOMTOOLS - template.json \n",
    "    key=\"value in a string form\" \n",
    "    key=\"124.7654\"\n",
    "    key=\"0\"\n",
    "    key=\"true\"\n",
    "    key=\"\"\n",
    "    key=[[[\"value1\", \"value2\"]]]\n",
    "    \n",
    "    Args:\n",
    "        configfile_fullpath:    full path to formatted plain text file \n",
    "                                \n",
    "    Returns:\n",
    "        config_file_dict:       python dictionary of key-value pairs \n",
    "                                (suitable for json file insertion)\n",
    "    \"\"\"\n",
    "    \n",
    "    pairs_list = []\n",
    "    \n",
    "    with open(configfile_fullpath, 'r') as fh:\n",
    "        lines = fh.readlines()\n",
    "        \n",
    "    for line in lines:\n",
    "        l = line.strip().split(\"=\")\n",
    "        if len(l) > 0 and len(l[0]) > 0:\n",
    "            lefty = l[0].strip()\n",
    "            if len(lefty) == 0:\n",
    "                continue\n",
    "\n",
    "            if not lefty[0] == \"#\" and len(l) > 1 and len(l[1]) > 0:\n",
    "                righty = l[1].strip()\n",
    "                if len(righty) == 0:\n",
    "                    righty = ' '\n",
    "                        \n",
    "                if len(lefty) > 0:\n",
    "                    pairs_list.append((lefty, righty))\n",
    "\n",
    "    if len(pairs_list) > 0:\n",
    "        config_file_dict = OrderedDict(pairs_list)\n",
    "    else:\n",
    "        config_file_dict = {}\n",
    "\n",
    "    return config_file_dict\n",
    "\n",
    "\n",
    "def get_json_file_dict(data_fullfilename):\n",
    "    \"\"\" Usage: json_dict = get_json_file_dict(data_fullfilename)\n",
    "    \n",
    "    Args:\n",
    "        data_fullfilename: json or yaml format full path filename\n",
    "                                quoted strings or not (if consistant) \n",
    "                                -but no lines start with tab characters\n",
    "    Returns:\n",
    "        json_dict:               python dictionary of name - value parameters.\n",
    "    \"\"\"\n",
    "    with open(data_fullfilename, 'r') as fh:\n",
    "        json_dict = yaml.load(fh)\n",
    "\n",
    "    return json_dict\n"
   ]
  },
  {
   "cell_type": "markdown",
   "metadata": {},
   "source": [
    "<a id=\"generate_test_data\"></a>\n",
    "## Generate Test Data files\n",
    "    * json file has one variable not found in config\n",
    "    * config file has variable not found in json\n",
    "[Top](#top) <br>"
   ]
  },
  {
   "cell_type": "code",
   "execution_count": 2,
   "metadata": {},
   "outputs": [
    {
     "name": "stdout",
     "output_type": "stream",
     "text": [
      "Overwriting jjalltheway.json\n"
     ]
    }
   ],
   "source": [
    "%%writefile jjalltheway.json\n",
    "{\n",
    "    \"wf0.task0.var0\": \"Boolean\",\n",
    "    \"wf0.task0.var1\": \"Int\",\n",
    "    \"wf0.task0.var2\": \"String\",\n",
    "    \"wf0.task0.var3\": \"File\",\n",
    "    \"wf0.task0.var4\": \"Array[File]\",\n",
    "    \"wf0.task0.var5\": \"Array[Array[File]]\",\n",
    "    \"wf0.var6\": \"Array[Array[Array[File]]]\",\n",
    "    \"wf0.var7\": \"Array[Array[Array[File]]]\"\n",
    "}"
   ]
  },
  {
   "cell_type": "code",
   "execution_count": 3,
   "metadata": {},
   "outputs": [
    {
     "name": "stdout",
     "output_type": "stream",
     "text": [
      "Overwriting conf.txt\n"
     ]
    }
   ],
   "source": [
    "%%writefile conf.txt\n",
    "var0=\"true\"\n",
    "var1=\"true\"\n",
    "var2=\"true\"\n",
    "var3=\"fileA\"\n",
    "var4=[\"fileA\",\"fileB\"]\n",
    "var5=[[\"fileA\",\"fileB\"],[\"fileC\",\"fileD\"]]\n",
    "var6=[[[\"fileA\",\"fileB\"],[\"fileC\",\"fileD\"]],[[\"fileE\",\"fileF\"],[\"fileG\",\"fileH\"]]]\n",
    "number9='quacks like a duck'\n"
   ]
  },
  {
   "cell_type": "markdown",
   "metadata": {},
   "source": [
    "<a id=\"read_json_file\"></a> <br>\n",
    "### Python function that reads WOMTOOL generated json template.\n",
    "[json module in python3 standard library](https://docs.python.org/3/library/json.html) <br>\n",
    "```python\n",
    "json_dict = get_json_file_dict(data_fullfilename)\n",
    "```\n",
    "[Top](#top) <br>"
   ]
  },
  {
   "cell_type": "code",
   "execution_count": 47,
   "metadata": {},
   "outputs": [
    {
     "name": "stdout",
     "output_type": "stream",
     "text": [
      "8 variables found\n",
      "\n",
      "                wf0.task0.var0: Boolean\n",
      "                wf0.task0.var1: Int\n",
      "                wf0.task0.var2: String\n",
      "                wf0.task0.var3: File\n",
      "                wf0.task0.var4: Array[File]\n",
      "                wf0.task0.var5: Array[Array[File]]\n",
      "                      wf0.var6: Array[Array[Array[File]]]\n",
      "                      wf0.var7: Array[Array[Array[File]]]\n"
     ]
    }
   ],
   "source": [
    "# demonstrate get_run_file_dict on json with quotes:\n",
    "TestTask_dir = os.getcwd()\n",
    "TestTask_jason_file = 'jjalltheway.json'\n",
    "json_fullfilename = os.path.join(TestTask_dir, TestTask_jason_file)\n",
    "\n",
    "if os.path.isfile(json_fullfilename):\n",
    "    json_template_dict = get_json_file_dict(json_fullfilename)\n",
    "    print('{0} variables found\\n'.format(len(json_template_dict)))\n",
    "    if len(json_template_dict) > 0:\n",
    "        for k, v in json_template_dict.items():\n",
    "            print('%30s: %s'%(k,v))\n",
    "else:\n",
    "    print(json_fullfilename, '\\nNot Found')\n"
   ]
  },
  {
   "cell_type": "markdown",
   "metadata": {},
   "source": [
    "<a id=\"read_config_file\"></a> <br>\n",
    "## python function that reads (special.txt, yaml, json) config files.\n",
    "```python\n",
    "config_file_dict = get_config_file_dict(configfile_fullpath)\n",
    "```\n",
    "[Top](#top) <br>   "
   ]
  },
  {
   "cell_type": "code",
   "execution_count": 48,
   "metadata": {},
   "outputs": [
    {
     "name": "stdout",
     "output_type": "stream",
     "text": [
      "8 variables found\n",
      "\n",
      "                          var0: \"true\"\n",
      "                          var1: \"true\"\n",
      "                          var2: \"true\"\n",
      "                          var3: \"fileA\"\n",
      "                          var4: [\"fileA\",\"fileB\"]\n",
      "                          var5: [[\"fileA\",\"fileB\"],[\"fileC\",\"fileD\"]]\n",
      "                          var6: [[[\"fileA\",\"fileB\"],[\"fileC\",\"fileD\"]],[[\"fileE\",\"fileF\"],[\"fileG\",\"fileH\"]]]\n",
      "                       number9: 'quacks like a duck'\n"
     ]
    }
   ],
   "source": [
    "# demonstrate get_run_file_dict on json with quotes:\n",
    "TestTask_dir = os.getcwd()\n",
    "TestTask_jason_file = 'conf.txt'\n",
    "json_fullfilename = os.path.join(TestTask_dir, TestTask_jason_file)\n",
    "\n",
    "if os.path.isfile(json_fullfilename):\n",
    "    CONFIG_txt_dict = get_config_file_dict(json_fullfilename)\n",
    "    print('{0} variables found\\n'.format(len(CONFIG_txt_dict)))\n",
    "    if len(CONFIG_txt_dict) > 0:\n",
    "        for k, v in CONFIG_txt_dict.items():\n",
    "            print('%30s: %s'%(k,v))\n",
    "else:\n",
    "    print(json_fullfilename, '\\nNot Found')\n"
   ]
  },
  {
   "cell_type": "markdown",
   "metadata": {},
   "source": [
    "<a id=\"put_config_in_json\"></a> <br>\n",
    "## python function puts the config dict o dicts into wombat variables dict.\n",
    "```python\n",
    "configured_dict, data_not_dict = configure_json_dict(json_dict, config_dict)\n",
    "```\n",
    "[Top](#top) <br>"
   ]
  },
  {
   "cell_type": "code",
   "execution_count": 49,
   "metadata": {},
   "outputs": [
    {
     "name": "stdout",
     "output_type": "stream",
     "text": [
      "\n",
      "Configured dictionary\n",
      "\n",
      "                wf0.task0.var0: true\n",
      "                wf0.task0.var1: true\n",
      "                wf0.task0.var2: true\n",
      "                wf0.task0.var3: fileA\n",
      "                wf0.task0.var4: [\"fileA\",\"fileB\"]\n",
      "                wf0.task0.var5: [[\"fileA\",\"fileB\"],[\"fileC\",\"fileD\"]]\n",
      "                      wf0.var6: [[[\"fileA\",\"fileB\"],[\"fileC\",\"fileD\"]],[[\"fileE\",\"fileF\"],[\"fileG\",\"fileH\"]]]\n",
      "\n",
      "\n",
      "Missing data\n",
      "\n",
      "                      wf0.var7: Array[Array[Array[File]]]\n",
      "\n",
      "\n",
      "Inserted data\n",
      "\n",
      "                          var0: \"true\"\n",
      "                          var1: \"true\"\n",
      "                          var2: \"true\"\n",
      "                          var3: \"fileA\"\n",
      "                          var4: [\"fileA\",\"fileB\"]\n",
      "                          var5: [[\"fileA\",\"fileB\"],[\"fileC\",\"fileD\"]]\n",
      "                          var6: [[[\"fileA\",\"fileB\"],[\"fileC\",\"fileD\"]],[[\"fileE\",\"fileF\"],[\"fileG\",\"fileH\"]]]\n"
     ]
    }
   ],
   "source": [
    "configured_dict, json_missing_dict, config_used_dict = configure_json_dict(json_dict=json_template_dict,\n",
    "                                                                           config_dict=CONFIG_txt_dict)\n",
    "\n",
    "print('\\nConfigured dictionary\\n')\n",
    "for k, v in configured_dict.items():\n",
    "    print('%30s: %s'%(k,v))\n",
    "    \n",
    "print('\\n\\nMissing data\\n')\n",
    "for k, v in json_missing_dict.items():\n",
    "    print('%30s: %s'%(k,v))\n",
    "    \n",
    "print('\\n\\nInserted data\\n')\n",
    "for k, v in config_used_dict.items():\n",
    "    print('%30s: %s'%(k,v))"
   ]
  },
  {
   "cell_type": "markdown",
   "metadata": {},
   "source": [
    "<a id=\"write_filled_in_json\"></a> <br>\n",
    "## python function that takes all the above, checks and writes the wombat_data_dict\n",
    "\n",
    "```python\n",
    "    # write the json file with python standard library\n",
    "    with open(json_test_full_filename, 'w') as outfile_handle:\n",
    "        json.dump(json_dict, outfile_handle, indent=\"    \")\n",
    "        \n",
    "    return json_test_full_filename\n",
    "```\n",
    "[Top](#top) <br>\n",
    "\n",
    "\n",
    "# Development State = pending details for write by types in write function\n",
    "    * filled in dictionary, template dictionary -- both are needed as input\n",
    "        * S.T each may be written by type special.\n",
    "        * because Arrays are special if String or File.\n",
    "        \n",
    "```python\n",
    "def write_special_wombat(json_dict, json_template_dict, filename_prefix=None):\n",
    "    \n",
    "    # iterate through json_dict string-format each key-value IAW its type in the json_template_dict\n",
    "    \n",
    "    # open file handle an write the string literally\n",
    "```"
   ]
  },
  {
   "cell_type": "code",
   "execution_count": 51,
   "metadata": {},
   "outputs": [
    {
     "name": "stdout",
     "output_type": "stream",
     "text": [
      "testtemplate.json\n"
     ]
    }
   ],
   "source": [
    "def write_special_wombat(json_dict, json_template_dict, filename_prefix='test'):\n",
    "    \n",
    "    filename_suffix = 'template.json'\n",
    "    if len(filename_prefix) < 1:\n",
    "        full_filename = 'test.' + filename_suffix\n",
    "    else:\n",
    "        full_filename = filename_prefix.strip('.') + filename_suffix\n",
    "        \n",
    "    # iterate through json_dict string-format each key-value IAW its type in the json_template_dict\n",
    "    S = '{\\n'\n",
    "    for json_key, json_value in json_dict.items():\n",
    "        S += '    \"' + json_key + '\":'\n",
    "        if \"Array\" in json_template_dict[json_key]:\n",
    "            S += ' ' + json_value + ',\\n'\n",
    "        else:\n",
    "            S += ' \"' + json_value + '\",\\n'\n",
    "            \n",
    "    out_string = S[:-2] + '\\n}\\n'\n",
    "    # open file handle an write the string literally\n",
    "    with open(full_filename, 'w') as fh:\n",
    "        fh.writelines(out_string)\n",
    "        \n",
    "    return full_filename\n",
    "\n",
    "ug_file = write_special_wombat(json_dict=configured_dict, \n",
    "                               json_template_dict=json_template_dict, \n",
    "                               filename_prefix='test')\n",
    "print(ug_file)"
   ]
  },
  {
   "cell_type": "code",
   "execution_count": 52,
   "metadata": {},
   "outputs": [
    {
     "name": "stdout",
     "output_type": "stream",
     "text": [
      "{\n",
      "     \"wf0.task0.var0\": \"true\",\n",
      "     \"wf0.task0.var1\": \"true\",\n",
      "     \"wf0.task0.var2\": \"true\",\n",
      "     \"wf0.task0.var3\": \"fileA\",\n",
      "     \"wf0.task0.var4\": [\"fileA\",\"fileB\"],\n",
      "     \"wf0.task0.var5\": [[\"fileA\",\"fileB\"],[\"fileC\",\"fileD\"]],\n",
      "     \"wf0.var6\": [[[\"fileA\",\"fileB\"],[\"fileC\",\"fileD\"]],[[\"fileE\",\"fileF\"],[\"fileG\",\"fileH\"]]]\n",
      "}\n"
     ]
    }
   ],
   "source": [
    "with open(ug_file, 'r') as fh:\n",
    "    lines = fh.readlines()\n",
    "    \n",
    "for line in lines:\n",
    "    if '{' in line or '}' in line:\n",
    "        print(line.strip())\n",
    "    else:\n",
    "        print('    ',line.strip())"
   ]
  },
  {
   "cell_type": "code",
   "execution_count": 20,
   "metadata": {},
   "outputs": [
    {
     "name": "stdout",
     "output_type": "stream",
     "text": [
      "{\n",
      "     \"wf0.task0.var0\": \"true\",\n",
      "     \"wf0.task0.var1\": \"true\",\n",
      "     \"wf0.task0.var2\": \"true\",\n",
      "     \"wf0.task0.var3\": \"fileA\",\n",
      "     \"wf0.task0.var4\": \"[fileA,fileB]\",\n",
      "     \"wf0.task0.var5\": \"[[fileA,fileB],[fileC,fileD]]\",\n",
      "     \"wf0.var6\": \"[[[fileA,fileB],[fileC,fileD]],[[fileE,fileF],[fileG,fileH]]]\",\n",
      "     \"wf0.var7\": \"Array[Array[Array[File]]]\"\n",
      "}\n"
     ]
    }
   ],
   "source": [
    "with open('test.FilledIn.json', 'r') as fh:\n",
    "    lines = fh.readlines()\n",
    "    \n",
    "for line in lines:\n",
    "    if '{' in line or '}' in line:\n",
    "        print(line.strip())\n",
    "    else:\n",
    "        print('    ',line.strip())"
   ]
  },
  {
   "cell_type": "code",
   "execution_count": 33,
   "metadata": {},
   "outputs": [
    {
     "name": "stdout",
     "output_type": "stream",
     "text": [
      "wf0.task0.var0 Boolean\n",
      "wf0.task0.var1 Int\n",
      "wf0.task0.var2 String\n",
      "wf0.task0.var3 File\n",
      "wf0.task0.var4 Array[File]\n",
      "wf0.task0.var5 Array[Array[File]]\n",
      "wf0.var6 Array[Array[Array[File]]]\n",
      "wf0.var7 Array[Array[Array[File]]]\n"
     ]
    }
   ],
   "source": [
    "for k, v in json_template_dict.items():\n",
    "    print(k,v)"
   ]
  },
  {
   "cell_type": "code",
   "execution_count": null,
   "metadata": {},
   "outputs": [],
   "source": []
  },
  {
   "cell_type": "code",
   "execution_count": null,
   "metadata": {},
   "outputs": [],
   "source": []
  },
  {
   "cell_type": "code",
   "execution_count": null,
   "metadata": {},
   "outputs": [],
   "source": [
    "def write_filled_in_json_dict(json_dict, json_test_full_filename):\n",
    "    \n",
    "    # write the json file with python standard library\n",
    "    with open(json_test_full_filename, 'w') as outfile_handle:\n",
    "        json.dump(json_dict, outfile_handle, indent=\"    \")\n",
    "        \n",
    "    return json_test_full_filename\n"
   ]
  },
  {
   "cell_type": "code",
   "execution_count": null,
   "metadata": {},
   "outputs": [],
   "source": [
    "with open('test.FilledIn.json', 'r') as fh:\n",
    "    lines = fh.readlines()\n",
    "    \n",
    "for line in lines:\n",
    "    if '{' in line or '}' in line:\n",
    "        print(line.strip())\n",
    "    else:\n",
    "        print('    ',line.strip())"
   ]
  },
  {
   "cell_type": "code",
   "execution_count": null,
   "metadata": {},
   "outputs": [],
   "source": []
  },
  {
   "cell_type": "code",
   "execution_count": null,
   "metadata": {},
   "outputs": [],
   "source": []
  }
 ],
 "metadata": {
  "kernelspec": {
   "display_name": "Python 3",
   "language": "python",
   "name": "python3"
  },
  "language_info": {
   "codemirror_mode": {
    "name": "ipython",
    "version": 3
   },
   "file_extension": ".py",
   "mimetype": "text/x-python",
   "name": "python",
   "nbconvert_exporter": "python",
   "pygments_lexer": "ipython3",
   "version": "3.6.7"
  }
 },
 "nbformat": 4,
 "nbformat_minor": 2
}
