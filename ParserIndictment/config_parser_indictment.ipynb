{
 "cells": [
  {
   "cell_type": "markdown",
   "metadata": {},
   "source": [
    "<img src=\"images/HookahCaterpillerAliceInWDLand.jpg\" width=\"200\" height=\"300\"> <br>\n",
    "# COURT OF aggravated PROGRAMING\n",
    "\n",
    "                v\n",
    "                \n",
    "# MAYOMICSVC SRC PYTHON CONFIG PARSER\n",
    "\n",
    "                aka \n",
    "                \n",
    "# CONFIG PARSER PARSING et al.\n",
    "\n",
    "        I, the undersigned complainant being duly sworn state the following is true and correct \n",
    "        to the best of my knowledge and belief.\n",
    "\n",
    "#### Count One        \n",
    "    From on or about November, 2018 to the present in the district of UIUC, in or about the offices NCSA, the above named code did proceed to aggravate, irritate, insult, inflame and annoy hapless techno-peasents endevoring to translate friviolous file formats in the employ of responsible parties.\n",
    "\n",
    "#### Count Two\n",
    "    Violation of Object Oriented Principles\n",
    "    * Modular - NOT. Scattered mess of files is not modularity\n",
    "    * Reusability - NOT. Not even useable\n",
    "    * Maintainability - REALLY NOT. Spaghetti code speaks for itself.\n",
    "    * Polymorphism - NOT. Special case program - not adaptable.\n",
    "\n",
    "#### Count Three\n",
    "    Cascade of offensive program includes validator, key_types, special adaptation of magic-strings and numerous other offenses"
   ]
  },
  {
   "cell_type": "code",
   "execution_count": null,
   "metadata": {},
   "outputs": [],
   "source": []
  }
 ],
 "metadata": {
  "kernelspec": {
   "display_name": "Python 3",
   "language": "python",
   "name": "python3"
  },
  "language_info": {
   "codemirror_mode": {
    "name": "ipython",
    "version": 3
   },
   "file_extension": ".py",
   "mimetype": "text/x-python",
   "name": "python",
   "nbconvert_exporter": "python",
   "pygments_lexer": "ipython3",
   "version": "3.6.7"
  }
 },
 "nbformat": 4,
 "nbformat_minor": 2
}
