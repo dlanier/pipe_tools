{
 "cells": [
  {
   "cell_type": "markdown",
   "metadata": {},
   "source": [
    "# Git the origin, branch and diff information for integration testing reports\n",
    "[gitpython docs](https://gitpython.readthedocs.io/en/stable/index.html) <br>\n",
    "[git python objects ref](https://gitpython.readthedocs.io/en/stable/tutorial.html#understanding-objects) <br>\n",
    "## Switch branches for test comparison\n"
   ]
  },
  {
   "cell_type": "code",
   "execution_count": 1,
   "metadata": {},
   "outputs": [],
   "source": [
    "import os\n",
    "import sys\n",
    "import git"
   ]
  },
  {
   "cell_type": "code",
   "execution_count": 2,
   "metadata": {},
   "outputs": [],
   "source": [
    "this_dir = '/Users/mojo/git_clone/dlanier/pipe_tools'\n",
    "repo = git.Repo(this_dir)\n",
    "assert not repo.bare"
   ]
  },
  {
   "cell_type": "code",
   "execution_count": 3,
   "metadata": {},
   "outputs": [],
   "source": [
    "assert not repo.is_dirty()"
   ]
  },
  {
   "cell_type": "code",
   "execution_count": 8,
   "metadata": {},
   "outputs": [
    {
     "data": {
      "text/plain": [
       "'* master\\n  remotes/origin/HEAD -> origin/master\\n  remotes/origin/master'"
      ]
     },
     "execution_count": 8,
     "metadata": {},
     "output_type": "execute_result"
    }
   ],
   "source": [
    "git = repo.git\n",
    "git.branch('-a')"
   ]
  },
  {
   "cell_type": "code",
   "execution_count": 4,
   "metadata": {},
   "outputs": [
    {
     "data": {
      "text/plain": [
       "['notebooksGoDemo',\n",
       " 'src_tmp',\n",
       " '.DS_Store',\n",
       " 'LICENSE',\n",
       " 'docker_tools',\n",
       " 'notebooksWDLhakattacks',\n",
       " 'notebooksIPycluster',\n",
       " 'RoslandExercise',\n",
       " 'src_wdl',\n",
       " 'src_cromwell',\n",
       " 'README.md',\n",
       " 'notebooksGenomicsReference',\n",
       " '.gitignore',\n",
       " 'doc',\n",
       " 'python_script_testing',\n",
       " '.ipynb_checkpoints',\n",
       " 'build',\n",
       " '.git',\n",
       " 'notebooksMayoCode',\n",
       " 'data',\n",
       " 'notebooks',\n",
       " 'ParserIndictment',\n",
       " '.idea',\n",
       " 'src']"
      ]
     },
     "execution_count": 4,
     "metadata": {},
     "output_type": "execute_result"
    }
   ],
   "source": [
    "os.listdir('../')"
   ]
  },
  {
   "cell_type": "code",
   "execution_count": 5,
   "metadata": {},
   "outputs": [
    {
     "data": {
      "text/plain": [
       "'/Users/mojo/git_clone/dlanier/pipe_tools/ParserIndictment'"
      ]
     },
     "execution_count": 5,
     "metadata": {},
     "output_type": "execute_result"
    }
   ],
   "source": [
    "os.getcwd()"
   ]
  },
  {
   "cell_type": "code",
   "execution_count": null,
   "metadata": {},
   "outputs": [],
   "source": []
  }
 ],
 "metadata": {
  "kernelspec": {
   "display_name": "Python 3",
   "language": "python",
   "name": "python3"
  },
  "language_info": {
   "codemirror_mode": {
    "name": "ipython",
    "version": 3
   },
   "file_extension": ".py",
   "mimetype": "text/x-python",
   "name": "python",
   "nbconvert_exporter": "python",
   "pygments_lexer": "ipython3",
   "version": "3.6.7"
  }
 },
 "nbformat": 4,
 "nbformat_minor": 2
}
