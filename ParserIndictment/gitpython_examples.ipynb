{
 "cells": [
  {
   "cell_type": "markdown",
   "metadata": {},
   "source": [
    "# Git the origin, branch and diff information for integration testing reports\n",
    "[gitpython docs](https://gitpython.readthedocs.io/en/stable/index.html) <br>\n",
    "[git python objects ref](https://gitpython.readthedocs.io/en/stable/tutorial.html#understanding-objects) <br>\n",
    "\n",
    "### down to \"The Tree Object\" ---"
   ]
  },
  {
   "cell_type": "code",
   "execution_count": 1,
   "metadata": {},
   "outputs": [],
   "source": [
    "import os\n",
    "import sys\n",
    "import time\n",
    "import git"
   ]
  },
  {
   "cell_type": "code",
   "execution_count": 3,
   "metadata": {},
   "outputs": [],
   "source": [
    "code_dir = '/Users/mojo/git_clone/Mayomics-Research/MayomicsVC/'\n",
    "# code_dir = '/Users/mojo/git_clone/dlanier/pipe_tools'\n",
    "repo = git.Repo(code_dir)\n",
    "assert not repo.bare"
   ]
  },
  {
   "cell_type": "code",
   "execution_count": 5,
   "metadata": {},
   "outputs": [],
   "source": [
    "assert repo.is_dirty()"
   ]
  },
  {
   "cell_type": "code",
   "execution_count": 6,
   "metadata": {},
   "outputs": [
    {
     "name": "stdout",
     "output_type": "stream",
     "text": [
      "[]\n",
      "aaa8fa31300086f5868b950f158b56b3f0ebd6cf\n",
      "HEAD\n",
      "Multisample\n",
      "0f50f5bbecd511dbe7bd3adddebace7c76c0d83e\n",
      "0f50f5bbecd511dbe7bd3adddebace7c76c0d83e\n"
     ]
    }
   ],
   "source": [
    "print(repo.tags)\n",
    "print(repo.tree())\n",
    "print(repo.head)\n",
    "print(repo.head.reference)\n",
    "print(repo.head.reference.commit)\n",
    "print(repo.head.commit)"
   ]
  },
  {
   "cell_type": "code",
   "execution_count": 8,
   "metadata": {},
   "outputs": [
    {
     "data": {
      "text/plain": [
       "'* master\\n  remotes/origin/HEAD -> origin/master\\n  remotes/origin/master'"
      ]
     },
     "execution_count": 8,
     "metadata": {},
     "output_type": "execute_result"
    }
   ],
   "source": [
    "git = repo.git\n",
    "git.branch('-a')"
   ]
  },
  {
   "cell_type": "code",
   "execution_count": 17,
   "metadata": {},
   "outputs": [
    {
     "name": "stdout",
     "output_type": "stream",
     "text": [
      "f59b83b729f5b9f6232de709315f81a1d0cb949d\n",
      "13909f21b52bf3e9b74ef7b93e61c54c77aab5c6\n",
      "990339319f47446c8ac51e126aa1f28833624651\n",
      "7a8651d7d2bd9a3c846ea11de0c15bc32a074ff6\n",
      "6a09107f8f24c13c4159495379726fa2a030c28e\n",
      "7aeaa1beea32cbb98cc5e9c872c943580ddefc65\n",
      "f39622556f6adc6671cbb7bb9a736e40d631862a\n",
      "6bb0b557b7593f9898a21c42aeab18a8cf1a9bb5\n",
      "7f6b0bd69f146d875342d25bf1b8025d5fd45818\n",
      "5dbaf8a1f3507acf656755201e0761bd4098b72f\n",
      "41cf1f2ad8967179ee5f444c212ce2cfb4f1fedf\n",
      "f78206dbb4dad9b124122ab422831290c60d8cac\n",
      "8f113deede27f06f0e1ac94fb7e8165834758314\n",
      "9793e64cec3aab2dbc00c3b49a49563157d89519\n",
      "be6b602d8a7969597538b106a0ad94bcf63e29ca\n",
      "cdca577b95125325535e1168c3875475ada5f028\n",
      "6ead36ee791e264027793b4f95ee20e482ceb009\n",
      "93e08dd7652e165e81071ca233b3f9cc8b1f6d64\n",
      "3deca4ef71e9a6d7f821a4719837b8a18fad8e77\n",
      "84ad48157edc7e32488f33885bc268803b978f4a\n",
      "be648e31f0d73ddfe21ce3ac96b274fce907e894\n",
      "a3f5cf759b1eefc03388834f1b48e7dccde000a6\n",
      "4a86f9110f99d941670b6046cc21b9d391ea2025\n",
      "ab4901b678e5704cf5f5fd55d67772fa0fb93f55\n",
      "153df1aa021d1c57d840a47d9a96ed56f4000beb\n",
      "920f42cb899b0b38d458c4ce6541bd833f87da3d\n",
      "af7f5892359ec56a072a06b0fde72c511f58b7c6\n",
      "350da34fd7bb02ea737ea0d237e391cc8da46e75\n",
      "498e05cb2a89390205cb88281da552ca3de8c21d\n",
      "b14719a383a297a5d331deca29743ebb117145b1\n",
      "9c822e0ca8b7cf83df33062e43e05650530af1e6\n",
      "fa0357fc6428c8e2bd5a6bf384ab7a8ca06bfad5\n",
      "090fba5cd7793a90c13eb6dfa04ca6f7cada197d\n",
      "712cb7be7e8f67e59624626ebc684dc507f739b3\n",
      "05b2021512a8142c9e6b093d08d29f504e1b2215\n",
      "461d5ce45bec0ba3fe8302d1310874a86fa16139\n",
      "7b0f53a20b0640f9a1d4ba2b61918046514e17c0\n",
      "ee17991ace98d37dbfd4e2fd8e6b63af01e6a968\n",
      "2f00588f1d449feb92ee769f84106e1e0f36e5a0\n",
      "efa95c5b783c4b688534f08781b7031ad2a67814\n",
      "3f285fe6a965005c29664a85c5c05271c57179be\n",
      "309d77f8bbaceea9596e15e38420382bd3a75f37\n",
      "d4a1e285247b8c30d5c0786be6b7e100a08ddefb\n",
      "70fe1c22f68fd2733898adbb733d488e5f473ee9\n",
      "6a3974d72931265038ac0a4643f5c7f1f134bbf9\n",
      "b3261903ea92000db567ddb3294d087b726b3b54\n",
      "3821a689f307880a7b6815d28f4513d6ff6fea4b\n",
      "d79c1de13835a2d9c7ab1b0508f7d15de05b1927\n",
      "d9467a0d73d00bc167d7f54d6558d0991d626089\n",
      "cf853da83db3ad97d57ec66fbdeda7ce7877d1f2\n"
     ]
    }
   ],
   "source": [
    "fifty_first_commits = list(repo.iter_commits('master', max_count=50))\n",
    "for cmt in fifty_first_commits:\n",
    "    print(cmt)"
   ]
  },
  {
   "cell_type": "code",
   "execution_count": 20,
   "metadata": {},
   "outputs": [
    {
     "name": "stdout",
     "output_type": "stream",
     "text": [
      "Wed Mar  6 15:40:21 2019\n",
      "Wed, 06 Mar 2019 15:40\n"
     ]
    }
   ],
   "source": [
    "import time\n",
    "print(time.asctime(time.gmtime(repo.head.commit.committed_date)))\n",
    "print(time.strftime(\"%a, %d %b %Y %H:%M\", time.gmtime(repo.head.commit.committed_date)))"
   ]
  },
  {
   "cell_type": "code",
   "execution_count": 4,
   "metadata": {},
   "outputs": [
    {
     "data": {
      "text/plain": [
       "['notebooksGoDemo',\n",
       " 'src_tmp',\n",
       " '.DS_Store',\n",
       " 'LICENSE',\n",
       " 'docker_tools',\n",
       " 'notebooksWDLhakattacks',\n",
       " 'notebooksIPycluster',\n",
       " 'RoslandExercise',\n",
       " 'src_wdl',\n",
       " 'src_cromwell',\n",
       " 'README.md',\n",
       " 'notebooksGenomicsReference',\n",
       " '.gitignore',\n",
       " 'doc',\n",
       " 'python_script_testing',\n",
       " '.ipynb_checkpoints',\n",
       " 'build',\n",
       " '.git',\n",
       " 'notebooksMayoCode',\n",
       " 'data',\n",
       " 'notebooks',\n",
       " 'ParserIndictment',\n",
       " '.idea',\n",
       " 'src']"
      ]
     },
     "execution_count": 4,
     "metadata": {},
     "output_type": "execute_result"
    }
   ],
   "source": [
    "os.listdir('../')"
   ]
  },
  {
   "cell_type": "code",
   "execution_count": 2,
   "metadata": {},
   "outputs": [
    {
     "data": {
      "text/plain": [
       "['json_inputs',\n",
       " 'ChangeLog',\n",
       " 'template.config',\n",
       " 'archives',\n",
       " 'README.md',\n",
       " 'testing',\n",
       " '.gitignore',\n",
       " 'key_types.json',\n",
       " '.git',\n",
       " 'LICENSE.txt',\n",
       " 'qsubs',\n",
       " 'media',\n",
       " 'src']"
      ]
     },
     "execution_count": 2,
     "metadata": {},
     "output_type": "execute_result"
    }
   ],
   "source": [
    "code_dir = '/Users/mojo/git_clone/Mayomics-Research/MayomicsVC/'\n",
    "os.listdir(code_dir)\n"
   ]
  },
  {
   "cell_type": "code",
   "execution_count": null,
   "metadata": {},
   "outputs": [],
   "source": []
  }
 ],
 "metadata": {
  "kernelspec": {
   "display_name": "Python 3",
   "language": "python",
   "name": "python3"
  },
  "language_info": {
   "codemirror_mode": {
    "name": "ipython",
    "version": 3
   },
   "file_extension": ".py",
   "mimetype": "text/x-python",
   "name": "python",
   "nbconvert_exporter": "python",
   "pygments_lexer": "ipython3",
   "version": "3.6.7"
  }
 },
 "nbformat": 4,
 "nbformat_minor": 2
}
