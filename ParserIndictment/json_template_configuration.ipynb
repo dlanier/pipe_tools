{
 "cells": [
  {
   "cell_type": "code",
   "execution_count": 1,
   "metadata": {},
   "outputs": [],
   "source": [
    "import os\n",
    "import yaml\n",
    "import json\n",
    "from collections import OrderedDict, defaultdict, Counter\n",
    "\n",
    "def configure_json_dict(json_dict, config_dict):\n",
    "    \"\"\" Usage: configured_dict, data_not_dict = configure_json_dict(json_dict, config_dict) \n",
    "    \"\"\"\n",
    "    configured_dict = json_dict\n",
    "    data_not_dict = defaultdict()\n",
    "    \n",
    "    keys_d = get_json_keys_config_dict(json_dict)\n",
    "    \n",
    "    json_keys_counter = Counter(json_dict.keys())\n",
    "    \n",
    "    for k, v in config_dict.items():\n",
    "        if k in keys_d:\n",
    "            for var_name in keys_d[k]:\n",
    "                configured_dict[var_name] = v\n",
    "                json_keys_counter[var_name] += 1\n",
    "                \n",
    "    for k, v in json_keys_counter.items():\n",
    "        if v < 2:\n",
    "            data_not_dict[k] = configured_dict[k]\n",
    "                \n",
    "    return configured_dict, data_not_dict\n",
    "\n",
    "\n",
    "def get_json_keys_config_dict(json_dict):\n",
    "    keys_dict = defaultdict(list)\n",
    "    for k, v in json_dict.items():\n",
    "        k_list = k.split('.')\n",
    "        keys_dict[k_list[-1]].append(k)\n",
    "    \n",
    "    return keys_dict\n",
    "\n",
    "\n",
    "def get_config_file_dict(configfile_fullpath):\n",
    "    \"\"\" Usage: config_file_dict = get_config_file_dict(configfile_fullpath) \n",
    "    \"\"\"\n",
    "    \n",
    "    pairs_list = []\n",
    "    \n",
    "    with open(configfile_fullpath, 'r') as fh:\n",
    "        lines = fh.readlines()\n",
    "        \n",
    "    for line in lines:\n",
    "        l = line.strip().split(\"=\")\n",
    "        if len(l) > 0 and len(l[0]) > 0:\n",
    "            lefty = l[0].strip()\n",
    "            if len(lefty) == 0:\n",
    "                continue\n",
    "\n",
    "            if not lefty[0] == \"#\" and len(l) > 1 and len(l[1]) > 0:\n",
    "                righty = l[1].strip()\n",
    "                if len(righty) == 0:\n",
    "                    righty = ' '\n",
    "                        \n",
    "                if len(lefty) > 0:\n",
    "                    pairs_list.append((lefty, righty))\n",
    "\n",
    "    if len(pairs_list) > 0:\n",
    "        config_file_dict = OrderedDict(pairs_list)\n",
    "    else:\n",
    "        config_file_dict = {}\n",
    "\n",
    "    return config_file_dict\n",
    "\n",
    "\n",
    "def get_run_file_dict(data_fullfilename):\n",
    "    \"\"\" Read json, yaml or key: value text file into a dictionary.\n",
    "    Adapted from     --    get_run_parameters(run_directory, run_file): \n",
    "    https://github.com/KnowEnG/KnowEnG_Pipelines_Library/tree/master/knpackage/toolbox.py\n",
    "    \n",
    "    Args:\n",
    "        data_fullfilename: json or yaml format full path filename\n",
    "                                quoted strings or not (if consistant) \n",
    "                                -but no lines start with tab characters\n",
    "    Returns:\n",
    "        json_dict:               python dictionary of name - value parameters.\n",
    "    \"\"\"\n",
    "    with open(data_fullfilename, 'r') as file_handle:\n",
    "        json_dict = yaml.load(file_handle)\n",
    "\n",
    "    return json_dict\n",
    "\n",
    "\n",
    "def get_localized_wdl_dict(json_template, template_key_dict):\n",
    "    \"\"\" Usage: FilledIn_wdl_dict = get_localized_wdl_dict(json_template, template_key_dict)\n",
    "    Args:\n",
    "        json_template:     \n",
    "        template_key_dict: \n",
    "    Returns:\n",
    "        FilledIn_wdl_dict: python dictionary of key value strings\n",
    "    \n",
    "    \"\"\"\n",
    "    json_dict = get_run_file_dict(json_template)\n",
    "    keys_dict = get_run_file_dict(template_key_dict)\n",
    "\n",
    "    FilledIn_wdl_dict = {}\n",
    "    \n",
    "    # for each (line) key in the json template file dictionary\n",
    "    for wdl_key, wdl_value in json_dict.items():\n",
    "        FilledIn_wdl_dict[wdl_key] = wdl_value\n",
    "        \n",
    "        # look for each key in the template key dictionary\n",
    "        for template_key, template_value in keys_dict.items():\n",
    "            \n",
    "            if len(wdl_value) > 0 and template_key in wdl_value:    \n",
    "                # replace the json template-key string with the template-key value string\n",
    "                FilledIn_wdl_dict[wdl_key] = wdl_value.replace(template_key, template_value)\n",
    "    \n",
    "    return FilledIn_wdl_dict\n",
    "\n",
    "def write_json_from_templates(json_template, \n",
    "                         template_key_dict, \n",
    "                         json_test_filename, \n",
    "                         json_file_path=None):\n",
    "    \"\"\" write a json file with updated-localized path names from a json template and the template keys \n",
    "    Args:\n",
    "        test_env_template_json_fullpath: \n",
    "        test_env_yaml_fullpath:\n",
    "        json_test_filename:\n",
    "        (default=cwd) json_file_path:\n",
    "        \n",
    "    Writes:\n",
    "        json_file:                       that will work with cromwell wdl\n",
    "        \n",
    "    \"\"\"\n",
    "    if json_file_path is None or os.path.isdir(json_file_path) == False:\n",
    "        # set default path to current directory\n",
    "        json_file_path = os.getcwd()\n",
    "        \n",
    "    json_test_full_filename = os.path.join(json_file_path, json_test_filename)\n",
    "    \n",
    "    # call to replace the strings in the json template defined in the template keys dictionary\n",
    "    localized_cromwell_wdl_dict = get_localized_wdl_dict(json_template, template_key_dict)\n",
    "    \n",
    "    # write the json file with default quotes, full colon separator, comma w/o spaces at the end of each line\n",
    "    with open(json_test_full_filename, 'w') as outfile:\n",
    "        json.dump(localized_cromwell_wdl_dict, outfile, indent=\"    \")\n",
    "        \n",
    "    return json_test_full_filename\n",
    "\n",
    "def get_key_righties_dict_from_json(json_fullfilename):\n",
    "    \"\"\" Usage: key_righties_dict = get_key_righties_dict_from_json(json_fullfilename) \"\"\"\n",
    "    json_dict = get_run_file_dict(json_fullfilename)\n",
    "    key_righties_pairs = []\n",
    "    for k, v in json_dict.items():\n",
    "        k_list = k.strip().strip('\"').split('.')\n",
    "        if isinstance(v, list):\n",
    "            key_righties_pairs.append((k_list[-1], v))\n",
    "        elif isinstance(v, str):\n",
    "            key_righties_pairs.append((k_list[-1], v.strip().strip(',').strip('\"')))\n",
    "        \n",
    "    if len(key_righties_pairs) > 0:\n",
    "        key_righties_dict = OrderedDict(key_righties_pairs)\n",
    "    else:\n",
    "        key_righties_dict = {}\n",
    "        \n",
    "    return key_righties_dict"
   ]
  },
  {
   "cell_type": "markdown",
   "metadata": {},
   "source": [
    "# What Should Be: Post config_parser & parsing indictment"
   ]
  },
  {
   "cell_type": "code",
   "execution_count": 2,
   "metadata": {},
   "outputs": [
    {
     "name": "stdout",
     "output_type": "stream",
     "text": [
      "Overwriting jjalltheway.json\n"
     ]
    }
   ],
   "source": [
    "%%writefile jjalltheway.json\n",
    "{\n",
    "    \"wf0.task0.var0\": \"Boolean\",\n",
    "    \"wf0.task0.var1\": \"Int\",\n",
    "    \"wf0.task0.var2\": \"String\",\n",
    "    \"wf0.task0.var3\": \"File\",\n",
    "    \"wf0.task0.var4\": \"Array[File]\",\n",
    "    \"wf0.task0.var5\": \"Array[Array[File]]\",\n",
    "    \"wf0.var6\": \"Array[Array[Array[File]]]\",\n",
    "    \"wf0.var7\": \"Array[Array[Array[File]]]\"\n",
    "}"
   ]
  },
  {
   "cell_type": "code",
   "execution_count": 3,
   "metadata": {},
   "outputs": [
    {
     "name": "stdout",
     "output_type": "stream",
     "text": [
      "Overwriting conf.txt\n"
     ]
    }
   ],
   "source": [
    "%%writefile conf.txt\n",
    "var0=\"true\"\n",
    "var1=\"true\"\n",
    "var2=\"true\"\n",
    "var3=\"fileA\"\n",
    "var4=[\"fileA\",\"fileB\"]\n",
    "var5=[[\"fileA\",\"fileB\"],[\"fileC\",\"fileD\"]]\n",
    "var6=[[[\"fileA\",\"fileB\"],[\"fileC\",\"fileD\"]],[[\"fileE\",\"fileF\"],[\"fileG\",\"fileH\"]]]\n"
   ]
  },
  {
   "cell_type": "markdown",
   "metadata": {},
   "source": [
    "## Definition of json WOMTOOL template \n",
    "    * Keys are decimal-point separated, call stack variable names.\n",
    "    * Leftmost Key part is stack bottom (call-start).\n",
    "    * Rightmost Key part is variable name used in Config file (HICKUP).\n",
    "    * Values are wdl types defined in the WDL specification.\n",
    "    \n",
    "### Variable Name Space HICKUP(s):\n",
    "    * Json keys are multipart nameing but config files are key-value sets.\n",
    "    * Config file keys and convention allow AMBIGUOUS json assignment.\n",
    "<img src=\"images/HookahCaterpillerAliceInWDLand.jpg\" width=\"200\" height=\"300\"> <br>\n",
    "#### Alice in WDLand\n",
    "\n",
    "### Python function that reads WOMTOOL generated json template.\n",
    "    * wombat_dict, wombat_config_vars = \n",
    "    "
   ]
  },
  {
   "cell_type": "code",
   "execution_count": 4,
   "metadata": {},
   "outputs": [
    {
     "name": "stdout",
     "output_type": "stream",
     "text": [
      "8 variables found\n",
      "\n",
      "wf0.task0.var0\n",
      "\tBoolean\n",
      "\n",
      "wf0.task0.var1\n",
      "\tInt\n",
      "\n",
      "wf0.task0.var2\n",
      "\tString\n",
      "\n",
      "wf0.task0.var3\n",
      "\tFile\n",
      "\n",
      "wf0.task0.var4\n",
      "\tArray[File]\n",
      "\n",
      "wf0.task0.var5\n",
      "\tArray[Array[File]]\n",
      "\n",
      "wf0.var6\n",
      "\tArray[Array[Array[File]]]\n",
      "\n",
      "wf0.var7\n",
      "\tArray[Array[Array[File]]]\n",
      "\n"
     ]
    }
   ],
   "source": [
    "# demonstrate get_run_file_dict on json with quotes:\n",
    "TestTask_dir = os.getcwd()\n",
    "TestTask_jason_file = 'jjalltheway.json'\n",
    "json_fullfilename = os.path.join(TestTask_dir, TestTask_jason_file)\n",
    "\n",
    "if os.path.isfile(json_fullfilename):\n",
    "    WOMTOOL_wdl_dict = get_run_file_dict(json_fullfilename)\n",
    "    print('{0} variables found\\n'.format(len(WOMTOOL_wdl_dict)))\n",
    "    if len(WOMTOOL_wdl_dict) > 0:\n",
    "        for k, v in WOMTOOL_wdl_dict.items():\n",
    "            print('%s\\n\\t%s\\n'%(k,v))\n",
    "else:\n",
    "    print(json_fullfilename, '\\nNot Found')\n"
   ]
  },
  {
   "cell_type": "markdown",
   "metadata": {},
   "source": [
    "## python function that reads (special.txt, yaml, json) config files.\n",
    "    * config_dict_o_dicts = \n",
    "   "
   ]
  },
  {
   "cell_type": "code",
   "execution_count": 5,
   "metadata": {},
   "outputs": [
    {
     "name": "stdout",
     "output_type": "stream",
     "text": [
      "7 variables found\n",
      "\n",
      "var0\n",
      "\t\"true\"\n",
      "\n",
      "var1\n",
      "\t\"true\"\n",
      "\n",
      "var2\n",
      "\t\"true\"\n",
      "\n",
      "var3\n",
      "\t\"fileA\"\n",
      "\n",
      "var4\n",
      "\t[\"fileA\",\"fileB\"]\n",
      "\n",
      "var5\n",
      "\t[[\"fileA\",\"fileB\"],[\"fileC\",\"fileD\"]]\n",
      "\n",
      "var6\n",
      "\t[[[\"fileA\",\"fileB\"],[\"fileC\",\"fileD\"]],[[\"fileE\",\"fileF\"],[\"fileG\",\"fileH\"]]]\n",
      "\n"
     ]
    }
   ],
   "source": [
    "# demonstrate get_run_file_dict on json with quotes:\n",
    "TestTask_dir = os.getcwd()\n",
    "TestTask_jason_file = 'conf.txt'\n",
    "json_fullfilename = os.path.join(TestTask_dir, TestTask_jason_file)\n",
    "\n",
    "if os.path.isfile(json_fullfilename):\n",
    "    CONFIG_txt_dict = get_config_file_dict(json_fullfilename)\n",
    "    print('{0} variables found\\n'.format(len(CONFIG_txt_dict)))\n",
    "    if len(CONFIG_txt_dict) > 0:\n",
    "        for k, v in CONFIG_txt_dict.items():\n",
    "            print('%s\\n\\t%s\\n'%(k,v))\n",
    "else:\n",
    "    print(json_fullfilename, '\\nNot Found')\n"
   ]
  },
  {
   "cell_type": "markdown",
   "metadata": {},
   "source": [
    " \n",
    "## python function puts the config dict o dicts into wombat variables dict.\n",
    "    * wombat_data_dict = \n",
    "    "
   ]
  },
  {
   "cell_type": "code",
   "execution_count": 7,
   "metadata": {},
   "outputs": [
    {
     "name": "stdout",
     "output_type": "stream",
     "text": [
      "                wf0.task0.var0: \"true\"\n",
      "                wf0.task0.var1: \"true\"\n",
      "                wf0.task0.var2: \"true\"\n",
      "                wf0.task0.var3: \"fileA\"\n",
      "                wf0.task0.var4: [\"fileA\",\"fileB\"]\n",
      "                wf0.task0.var5: [[\"fileA\",\"fileB\"],[\"fileC\",\"fileD\"]]\n",
      "                      wf0.var6: [[[\"fileA\",\"fileB\"],[\"fileC\",\"fileD\"]],[[\"fileE\",\"fileF\"],[\"fileG\",\"fileH\"]]]\n",
      "                      wf0.var7: Array[Array[Array[File]]]\n",
      "\n",
      "\n",
      "Missing data?\n",
      "\n",
      "                      wf0.var7: Array[Array[Array[File]]]\n"
     ]
    }
   ],
   "source": [
    "fi_dict, missedata = configure_json_dict(json_dict=WOMTOOL_wdl_dict, config_dict=CONFIG_txt_dict)\n",
    "for k, v in fi_dict.items():\n",
    "    print('%30s: %s'%(k,v))\n",
    "    \n",
    "print('\\n\\nMissing data?\\n')\n",
    "for k, v in missedata.items():\n",
    "    print('%30s: %s'%(k,v))"
   ]
  },
  {
   "cell_type": "markdown",
   "metadata": {},
   "source": [
    "## python function that takes all the above, checks and writes the wombat_data_dict\n",
    "    * status, full_filename = "
   ]
  },
  {
   "cell_type": "code",
   "execution_count": null,
   "metadata": {},
   "outputs": [],
   "source": []
  },
  {
   "cell_type": "code",
   "execution_count": null,
   "metadata": {},
   "outputs": [],
   "source": []
  },
  {
   "cell_type": "code",
   "execution_count": null,
   "metadata": {},
   "outputs": [],
   "source": []
  },
  {
   "cell_type": "code",
   "execution_count": null,
   "metadata": {},
   "outputs": [],
   "source": []
  },
  {
   "cell_type": "code",
   "execution_count": null,
   "metadata": {},
   "outputs": [],
   "source": []
  },
  {
   "cell_type": "code",
   "execution_count": null,
   "metadata": {},
   "outputs": [],
   "source": []
  },
  {
   "cell_type": "code",
   "execution_count": null,
   "metadata": {},
   "outputs": [],
   "source": []
  },
  {
   "cell_type": "code",
   "execution_count": null,
   "metadata": {},
   "outputs": [],
   "source": []
  },
  {
   "cell_type": "code",
   "execution_count": null,
   "metadata": {},
   "outputs": [],
   "source": []
  }
 ],
 "metadata": {
  "kernelspec": {
   "display_name": "Python 3",
   "language": "python",
   "name": "python3"
  },
  "language_info": {
   "codemirror_mode": {
    "name": "ipython",
    "version": 3
   },
   "file_extension": ".py",
   "mimetype": "text/x-python",
   "name": "python",
   "nbconvert_exporter": "python",
   "pygments_lexer": "ipython3",
   "version": "3.6.7"
  }
 },
 "nbformat": 4,
 "nbformat_minor": 2
}
