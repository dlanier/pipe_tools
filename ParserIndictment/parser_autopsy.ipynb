{
 "cells": [
  {
   "cell_type": "markdown",
   "metadata": {},
   "source": [
    "\n",
    "# What Should Be: Post config_parser & parsing indictment\n",
    "\n",
    "## python function that reads WOMTOOL json template.\n",
    "    * wombat_dict, wombat_config_vars = \n",
    "    \n",
    "## python function that reads (special.txt, yaml, json) config files.\n",
    "    * config_dict_o_dicts = \n",
    "    \n",
    "## python function puts the config dict o dicts into wombat variables dict.\n",
    "    * wombat_data_dict = \n",
    "    \n",
    "## python function that takes all the above, checks and writes the wombat_data_dict\n",
    "    * status, full_filename = \n",
    "    \n"
   ]
  },
  {
   "cell_type": "code",
   "execution_count": 6,
   "metadata": {},
   "outputs": [
    {
     "name": "stdout",
     "output_type": "stream",
     "text": [
      "/Users/yo/git_clone/ncsa_genomics/Research\n"
     ]
    },
    {
     "data": {
      "text/plain": [
       "['OPTIONAL_KEYS',\n",
       " 'Parser',\n",
       " 'ProjectLogger',\n",
       " '__builtins__',\n",
       " '__cached__',\n",
       " '__doc__',\n",
       " '__file__',\n",
       " '__loader__',\n",
       " '__name__',\n",
       " '__package__',\n",
       " '__spec__',\n",
       " 'json',\n",
       " 'logging',\n",
       " 'read_json_file',\n",
       " 'sys']"
      ]
     },
     "execution_count": 6,
     "metadata": {},
     "output_type": "execute_result"
    }
   ],
   "source": [
    "import os\n",
    "import sys\n",
    "import numpy as np\n",
    "import pandas as pd\n",
    "\n",
    "repo_path = os.getcwd()\n",
    "print(repo_path)\n",
    "\n",
    "integration_test_path = os.path.join(repo_path, 'MayomicsVC/testing/python_script_testing/src')\n",
    "sys.path.insert(1, integration_test_path)\n",
    "from integration_test import *\n",
    "\n",
    "config_parser_path = os.path.join(repo_path, 'MayomicsVC/src/python')\n",
    "sys.path.insert(1, os.path.join(repo_path, config_parser_path))\n",
    "import config_parser\n",
    "\n",
    "parsing_path = os.path.join(repo_path, 'MayomicsVC/src/python/config/parser')\n",
    "sys.path.insert(1, os.path.join(repo_path, parsing_path))\n",
    "util_path = os.path.join(repo_path, 'MayomicsVC/src/python/config/util')\n",
    "sys.path.insert(1, os.path.join(repo_path, util_path))\n",
    "import parsing\n",
    "dir(parsing)"
   ]
  },
  {
   "cell_type": "code",
   "execution_count": 3,
   "metadata": {},
   "outputs": [
    {
     "name": "stdout",
     "output_type": "stream",
     "text": [
      "OPTIONAL_KEYS \n",
      " str(object='') -> str\n",
      "str(bytes_or_buffer[, encoding[, errors]]) -> str\n",
      "\n",
      "Create a new string object from the given object. If encoding or\n",
      "errors is specified, then the object must expose a data buffer\n",
      "that will be decoded using the given encoding and error handler.\n",
      "Otherwise, returns the result of object.__str__() (if defined)\n",
      "or repr(object).\n",
      "encoding defaults to sys.getdefaultencoding().\n",
      "errors defaults to 'strict'. \n",
      "\n",
      "\n",
      "Parser \n",
      " str(object='') -> str\n",
      "str(bytes_or_buffer[, encoding[, errors]]) -> str\n",
      "\n",
      "Create a new string object from the given object. If encoding or\n",
      "errors is specified, then the object must expose a data buffer\n",
      "that will be decoded using the given encoding and error handler.\n",
      "Otherwise, returns the result of object.__str__() (if defined)\n",
      "or repr(object).\n",
      "encoding defaults to sys.getdefaultencoding().\n",
      "errors defaults to 'strict'. \n",
      "\n",
      "\n",
      "ProjectLogger \n",
      " str(object='') -> str\n",
      "str(bytes_or_buffer[, encoding[, errors]]) -> str\n",
      "\n",
      "Create a new string object from the given object. If encoding or\n",
      "errors is specified, then the object must expose a data buffer\n",
      "that will be decoded using the given encoding and error handler.\n",
      "Otherwise, returns the result of object.__str__() (if defined)\n",
      "or repr(object).\n",
      "encoding defaults to sys.getdefaultencoding().\n",
      "errors defaults to 'strict'. \n",
      "\n",
      "\n",
      "__builtins__ \n",
      " str(object='') -> str\n",
      "str(bytes_or_buffer[, encoding[, errors]]) -> str\n",
      "\n",
      "Create a new string object from the given object. If encoding or\n",
      "errors is specified, then the object must expose a data buffer\n",
      "that will be decoded using the given encoding and error handler.\n",
      "Otherwise, returns the result of object.__str__() (if defined)\n",
      "or repr(object).\n",
      "encoding defaults to sys.getdefaultencoding().\n",
      "errors defaults to 'strict'. \n",
      "\n",
      "\n",
      "__cached__ \n",
      " str(object='') -> str\n",
      "str(bytes_or_buffer[, encoding[, errors]]) -> str\n",
      "\n",
      "Create a new string object from the given object. If encoding or\n",
      "errors is specified, then the object must expose a data buffer\n",
      "that will be decoded using the given encoding and error handler.\n",
      "Otherwise, returns the result of object.__str__() (if defined)\n",
      "or repr(object).\n",
      "encoding defaults to sys.getdefaultencoding().\n",
      "errors defaults to 'strict'. \n",
      "\n",
      "\n",
      "__doc__ \n",
      " str(object='') -> str\n",
      "str(bytes_or_buffer[, encoding[, errors]]) -> str\n",
      "\n",
      "Create a new string object from the given object. If encoding or\n",
      "errors is specified, then the object must expose a data buffer\n",
      "that will be decoded using the given encoding and error handler.\n",
      "Otherwise, returns the result of object.__str__() (if defined)\n",
      "or repr(object).\n",
      "encoding defaults to sys.getdefaultencoding().\n",
      "errors defaults to 'strict'. \n",
      "\n",
      "\n",
      "__file__ \n",
      " str(object='') -> str\n",
      "str(bytes_or_buffer[, encoding[, errors]]) -> str\n",
      "\n",
      "Create a new string object from the given object. If encoding or\n",
      "errors is specified, then the object must expose a data buffer\n",
      "that will be decoded using the given encoding and error handler.\n",
      "Otherwise, returns the result of object.__str__() (if defined)\n",
      "or repr(object).\n",
      "encoding defaults to sys.getdefaultencoding().\n",
      "errors defaults to 'strict'. \n",
      "\n",
      "\n",
      "__loader__ \n",
      " str(object='') -> str\n",
      "str(bytes_or_buffer[, encoding[, errors]]) -> str\n",
      "\n",
      "Create a new string object from the given object. If encoding or\n",
      "errors is specified, then the object must expose a data buffer\n",
      "that will be decoded using the given encoding and error handler.\n",
      "Otherwise, returns the result of object.__str__() (if defined)\n",
      "or repr(object).\n",
      "encoding defaults to sys.getdefaultencoding().\n",
      "errors defaults to 'strict'. \n",
      "\n",
      "\n",
      "__name__ \n",
      " str(object='') -> str\n",
      "str(bytes_or_buffer[, encoding[, errors]]) -> str\n",
      "\n",
      "Create a new string object from the given object. If encoding or\n",
      "errors is specified, then the object must expose a data buffer\n",
      "that will be decoded using the given encoding and error handler.\n",
      "Otherwise, returns the result of object.__str__() (if defined)\n",
      "or repr(object).\n",
      "encoding defaults to sys.getdefaultencoding().\n",
      "errors defaults to 'strict'. \n",
      "\n",
      "\n",
      "__package__ \n",
      " str(object='') -> str\n",
      "str(bytes_or_buffer[, encoding[, errors]]) -> str\n",
      "\n",
      "Create a new string object from the given object. If encoding or\n",
      "errors is specified, then the object must expose a data buffer\n",
      "that will be decoded using the given encoding and error handler.\n",
      "Otherwise, returns the result of object.__str__() (if defined)\n",
      "or repr(object).\n",
      "encoding defaults to sys.getdefaultencoding().\n",
      "errors defaults to 'strict'. \n",
      "\n",
      "\n",
      "__spec__ \n",
      " str(object='') -> str\n",
      "str(bytes_or_buffer[, encoding[, errors]]) -> str\n",
      "\n",
      "Create a new string object from the given object. If encoding or\n",
      "errors is specified, then the object must expose a data buffer\n",
      "that will be decoded using the given encoding and error handler.\n",
      "Otherwise, returns the result of object.__str__() (if defined)\n",
      "or repr(object).\n",
      "encoding defaults to sys.getdefaultencoding().\n",
      "errors defaults to 'strict'. \n",
      "\n",
      "\n",
      "json \n",
      " str(object='') -> str\n",
      "str(bytes_or_buffer[, encoding[, errors]]) -> str\n",
      "\n",
      "Create a new string object from the given object. If encoding or\n",
      "errors is specified, then the object must expose a data buffer\n",
      "that will be decoded using the given encoding and error handler.\n",
      "Otherwise, returns the result of object.__str__() (if defined)\n",
      "or repr(object).\n",
      "encoding defaults to sys.getdefaultencoding().\n",
      "errors defaults to 'strict'. \n",
      "\n",
      "\n",
      "logging \n",
      " str(object='') -> str\n",
      "str(bytes_or_buffer[, encoding[, errors]]) -> str\n",
      "\n",
      "Create a new string object from the given object. If encoding or\n",
      "errors is specified, then the object must expose a data buffer\n",
      "that will be decoded using the given encoding and error handler.\n",
      "Otherwise, returns the result of object.__str__() (if defined)\n",
      "or repr(object).\n",
      "encoding defaults to sys.getdefaultencoding().\n",
      "errors defaults to 'strict'. \n",
      "\n",
      "\n",
      "read_json_file \n",
      " str(object='') -> str\n",
      "str(bytes_or_buffer[, encoding[, errors]]) -> str\n",
      "\n",
      "Create a new string object from the given object. If encoding or\n",
      "errors is specified, then the object must expose a data buffer\n",
      "that will be decoded using the given encoding and error handler.\n",
      "Otherwise, returns the result of object.__str__() (if defined)\n",
      "or repr(object).\n",
      "encoding defaults to sys.getdefaultencoding().\n",
      "errors defaults to 'strict'. \n",
      "\n",
      "\n",
      "sys \n",
      " str(object='') -> str\n",
      "str(bytes_or_buffer[, encoding[, errors]]) -> str\n",
      "\n",
      "Create a new string object from the given object. If encoding or\n",
      "errors is specified, then the object must expose a data buffer\n",
      "that will be decoded using the given encoding and error handler.\n",
      "Otherwise, returns the result of object.__str__() (if defined)\n",
      "or repr(object).\n",
      "encoding defaults to sys.getdefaultencoding().\n",
      "errors defaults to 'strict'. \n",
      "\n",
      "\n"
     ]
    }
   ],
   "source": [
    "parsing_methods = dir(parsing)\n",
    "for metho_funco in parsing_methods:\n",
    "    print(metho_funco, '\\n', metho_funco.__doc__, '\\n\\n')"
   ]
  },
  {
   "cell_type": "code",
   "execution_count": 2,
   "metadata": {},
   "outputs": [
    {
     "data": {
      "text/plain": [
       "['Parser',\n",
       " '__builtins__',\n",
       " '__cached__',\n",
       " '__doc__',\n",
       " '__file__',\n",
       " '__loader__',\n",
       " '__name__',\n",
       " '__package__',\n",
       " '__spec__',\n",
       " 'argparse',\n",
       " 'main',\n",
       " 'parse_args',\n",
       " 'sys']"
      ]
     },
     "execution_count": 2,
     "metadata": {},
     "output_type": "execute_result"
    }
   ],
   "source": [
    "dir(config_parser)"
   ]
  },
  {
   "cell_type": "code",
   "execution_count": 4,
   "metadata": {},
   "outputs": [
    {
     "data": {
      "text/plain": [
       "('debugmode',\n",
       " 'normalinputread2',\n",
       " 'tumorinputread1',\n",
       " 'tumorinputread2',\n",
       " 'PanelNormal')"
      ]
     },
     "execution_count": 4,
     "metadata": {},
     "output_type": "execute_result"
    }
   ],
   "source": [
    "OK_stuff = parsing.OPTIONAL_KEYS\n",
    "OK_stuff"
   ]
  },
  {
   "cell_type": "code",
   "execution_count": null,
   "metadata": {},
   "outputs": [],
   "source": [
    "#Display dictionary with the first function.\n",
    "#    Get the dictionary with the second one.\n",
    "string_fragment = 'bam.bai'\n",
    "dir_name = '../src/shell'\n",
    "\n",
    "display_string_found_dict(string_fragment, dir_name)\n",
    "files_string_dict = find_string_fragment_in_dir_tree(string_fragment, dir_name)"
   ]
  },
  {
   "cell_type": "code",
   "execution_count": 8,
   "metadata": {},
   "outputs": [
    {
     "name": "stdout",
     "output_type": "stream",
     "text": [
      "OPTIONAL_KEYS\n",
      "Parser\n",
      "ProjectLogger\n",
      "__builtins__\n",
      "__cached__\n",
      "__doc__\n",
      "__file__\n",
      "__loader__\n",
      "__name__\n",
      "__package__\n",
      "__spec__\n",
      "json\n",
      "logging\n",
      "read_json_file\n",
      "sys\n"
     ]
    }
   ],
   "source": [
    "dir_name = config_parser_path\n",
    "vbl_xref_dict = {}\n",
    "\n",
    "for s in dir(parsing):\n",
    "    vbl_xref_dict[s] = find_string_fragment_in_dir_tree(s, dir_name)\n",
    "    print(s)"
   ]
  },
  {
   "cell_type": "code",
   "execution_count": 19,
   "metadata": {},
   "outputs": [
    {
     "data": {
      "text/plain": [
       "OrderedDict([('/Users/yo/git_clone/ncsa_genomics/Research/MayomicsVC/src/python/config_parser.py',\n",
       "              [6, 17, 39, 41, 43]),\n",
       "             ('/Users/yo/git_clone/ncsa_genomics/Research/MayomicsVC/src/python/run_tests.py',\n",
       "              [5]),\n",
       "             ('/Users/yo/git_clone/ncsa_genomics/Research/MayomicsVC/src/python/create_callgraph_diagrams.py',\n",
       "              [12]),\n",
       "             ('/Users/yo/git_clone/ncsa_genomics/Research/MayomicsVC/src/python/key_validator.py',\n",
       "              [18]),\n",
       "             ('/Users/yo/git_clone/ncsa_genomics/Research/MayomicsVC/src/python/workflow_generator.py',\n",
       "              [18]),\n",
       "             ('/Users/yo/git_clone/ncsa_genomics/Research/MayomicsVC/src/python/config/validator/key_validation.py',\n",
       "              [62]),\n",
       "             ('/Users/yo/git_clone/ncsa_genomics/Research/MayomicsVC/src/python/config/parser/test_parsing.py',\n",
       "              [4, 7, 9, 10, 19, 25]),\n",
       "             ('/Users/yo/git_clone/ncsa_genomics/Research/MayomicsVC/src/python/config/parser/parsing.py',\n",
       "              [42, 46, 48, 81])])"
      ]
     },
     "execution_count": 19,
     "metadata": {},
     "output_type": "execute_result"
    }
   ],
   "source": [
    "vbl_xref_dict['Parser']"
   ]
  },
  {
   "cell_type": "code",
   "execution_count": null,
   "metadata": {},
   "outputs": [],
   "source": []
  }
 ],
 "metadata": {
  "kernelspec": {
   "display_name": "Python 3",
   "language": "python",
   "name": "python3"
  },
  "language_info": {
   "codemirror_mode": {
    "name": "ipython",
    "version": 3
   },
   "file_extension": ".py",
   "mimetype": "text/x-python",
   "name": "python",
   "nbconvert_exporter": "python",
   "pygments_lexer": "ipython3",
   "version": "3.6.5"
  }
 },
 "nbformat": 4,
 "nbformat_minor": 2
}
