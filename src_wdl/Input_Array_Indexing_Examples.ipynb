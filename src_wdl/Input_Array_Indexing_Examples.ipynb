{
 "cells": [
  {
   "cell_type": "markdown",
   "metadata": {},
   "source": [
    "# Write test files for running in docker-cromwell container:\n",
    "[on docker hub](https://hub.docker.com/r/aka1spanky/ncsa) <br>\n",
    "## Indexing examples for wdl file multi-dimensional Arrays\n",
    "```bash\n",
    "docker run -p 8888:8888 -v `pwd`:/home/tmpusr/run_dir -it aka1spanky/ncsa:devwdlV01 jupyter notebook --port=8888 --ip=0.0.0.0 --allow-root\n",
    "```\n",
    "****\n",
    "## Next cell writes hard coded 3 d array and iterates through it with a single iterator:\n",
    "### Run HelloIdxArray.wdl In container:\n",
    "```bash\n",
    "java -jar /usr/locl/etc/cromwell-36.jar run HelloIdxArray.wdl\n",
    "```"
   ]
  },
  {
   "cell_type": "code",
   "execution_count": null,
   "metadata": {},
   "outputs": [],
   "source": [
    "%%writefile HelloIdxArray.wdl\n",
    "###########################\n",
    "#       HelloIdxArray.wdl\n",
    "# Usage: \n",
    "# java -jar full/path/to/cromwell run HelloIdxArray.wdl\n",
    "###########################\n",
    "\n",
    "task hello {\n",
    "  String addressee\n",
    "  Int One\n",
    "  Int Two\n",
    "  Int Three\n",
    "  Int sIx\n",
    "  command {\n",
    "    echo \"Input String =  ${addressee} With Iterator Index: ${sIx}  [${One}][${Two}][${Three}]\"\n",
    "  }\n",
    "  output {\n",
    "    String message = read_string(stdout())\n",
    "  }\n",
    "}\n",
    "\n",
    "workflow wf_hello {\n",
    "\n",
    "  Array[Array[Array[String]]] ImpString = [ [ [\"0:0:0\", \"0:0:1\"], [\"0:1:0\",\"0:1:1\"] ],  [ [\"1:0:0\", \"1:0:1\"], [\"1:1:0\",\"1:1:1\"] ] ]\n",
    "  Int arr1_size = length(ImpString)\n",
    "  Int arr2_size = length(ImpString[0])\n",
    "  Int arr3_size = length(ImpString[0][0])\n",
    "\n",
    "  Array[Int] Index = range(arr1_size * arr2_size * arr3_size)\n",
    "\n",
    "  scatter (idx in Index) {\n",
    "\n",
    "    Int reads_idx = idx % arr1_size\n",
    "\n",
    "    Int lanes_idx = (idx / arr2_size) % arr2_size\n",
    "\n",
    "    Int samples_idx = idx / (arr3_size * arr2_size)\n",
    "\n",
    "    call hello as howdy {\n",
    "      input:\n",
    "        addressee = ImpString[samples_idx][lanes_idx][reads_idx],\n",
    "        One = samples_idx,\n",
    "        Two = lanes_idx,\n",
    "        Three = reads_idx,\n",
    "        sIx = idx\n",
    "    }\n",
    "  }\n",
    "\n",
    "  output {\n",
    "     howdy.message\n",
    "  }\n",
    "}\n"
   ]
  },
  {
   "cell_type": "markdown",
   "metadata": {},
   "source": [
    "****\n",
    "## Next two cells: 3 d array case (running inside container)\n",
    "```bash\n",
    "java -jar /usr/locl/etc/cromwell-36.jar run AAA_T2IdxArray.wdl -i AAA_json.json\n",
    "```"
   ]
  },
  {
   "cell_type": "code",
   "execution_count": null,
   "metadata": {},
   "outputs": [],
   "source": [
    "%%writefile AAA_T2IdxArray.wdl\n",
    "###########################\n",
    "#              AAA_T2IdxArray.wdl\n",
    "# Usage:\n",
    "# java -jar full/path/to/cromwell run AAA_T2IdxArray.wdl -i AAA_json.json\n",
    "# wf_hello.ImpString = [[[\"1\"]]] \n",
    "###########################\n",
    "\n",
    "task hello {\n",
    "  String addressee\n",
    "  Int One\n",
    "  Int Two\n",
    "  Int Three\n",
    "  Int sIx\n",
    "  command {\n",
    "    echo \"Input String =  ${addressee} With Iterator Index: ${sIx}  [${One}][${Two}][${Three}]\"\n",
    "  }\n",
    "  output {\n",
    "    String message = read_string(stdout())\n",
    "  }\n",
    "}\n",
    "\n",
    "workflow wf_hello {\n",
    "\n",
    "  Array[Array[Array[String]]] ImpString\n",
    "  Int arr1_size = length(ImpString)\n",
    "  Int arr2_size = length(ImpString[0])\n",
    "  Int arr3_size = length(ImpString[0][0])\n",
    "\n",
    "  Array[Int] Index = range(arr1_size * arr2_size * arr3_size)\n",
    "\n",
    "  scatter (idx in Index) {\n",
    "\n",
    "    Int reads_idx = idx % arr3_size\n",
    "\n",
    "    Int lanes_idx = (idx / arr2_size) % arr2_size\n",
    "\n",
    "    Int samples_idx = (idx / (arr3_size * arr2_size)) % arr1_size\n",
    "\n",
    "    call hello as howdy {\n",
    "      input:\n",
    "        addressee = ImpString[samples_idx][lanes_idx][reads_idx],\n",
    "        One = samples_idx,\n",
    "        Two = lanes_idx,\n",
    "        Three = reads_idx,\n",
    "        sIx = idx\n",
    "    }\n",
    "  }\n",
    "\n",
    "  output {\n",
    "     howdy.message\n",
    "  }\n",
    "}\n"
   ]
  },
  {
   "cell_type": "code",
   "execution_count": null,
   "metadata": {},
   "outputs": [],
   "source": [
    "%%writefile AAA_json.json\n",
    "{\n",
    "    \"wf_hello.ImpString\": [ \n",
    "                          [ [\"0:0:0\", \"0:0:1\"], \n",
    "                            [\"0:1:0\",\"0:1:1\"] ],  \n",
    "                          [ [\"1:0:0\", \"1:0:1\"], \n",
    "                            [\"1:1:0\",\"1:1:1\"] ], \n",
    "                          [ [\"2:0:0\", \"2:0:1\"], \n",
    "                            [\"2:1:0\",\"2:1:1\"] ] ]\n",
    "}\n"
   ]
  },
  {
   "cell_type": "markdown",
   "metadata": {},
   "source": [
    "****\n",
    "## Next two cells: 2 d array case (running inside container)\n",
    "```bash\n",
    "java -jar /usr/locl/etc/cromwell-36.jar run AA_T1IdxArray.wdl -i AA_json.json\n",
    "```"
   ]
  },
  {
   "cell_type": "code",
   "execution_count": 7,
   "metadata": {},
   "outputs": [
    {
     "name": "stdout",
     "output_type": "stream",
     "text": [
      "Overwriting AA_T1IdxArray.wdl\n"
     ]
    }
   ],
   "source": [
    "%%writefile AA_T1IdxArray.wdl\n",
    "###########################\n",
    "#              AA_T1IdxArray.wdl\n",
    "# Usage:\n",
    "# java -jar full/path/to/cromwell run AA_T1IdxArray.wdl -i AA_json.json\n",
    "# wf_hello.ImpString = [[[\"1\"]]] \n",
    "###########################\n",
    "\n",
    "task hello {\n",
    "  String addressee\n",
    "  Int Two\n",
    "  Int Three\n",
    "  Int sIx\n",
    "  command {\n",
    "    echo \"Input String =  ${addressee} With Iterator Index: ${sIx} [${Two}][${Three}]\"\n",
    "  }\n",
    "  output {\n",
    "    String message = read_string(stdout())\n",
    "  }\n",
    "}\n",
    "\n",
    "workflow wf_hello {\n",
    "\n",
    "  Array[Array[String]] ImpString\n",
    "  Int arr1_size = length(ImpString)\n",
    "  Int arr2_size = length(ImpString[0])\n",
    "\n",
    "  Array[Int] Index = range(arr1_size * arr2_size)\n",
    "\n",
    "  scatter (idx in Index) {\n",
    "\n",
    "    Int reads_idx = idx % arr2_size\n",
    "\n",
    "    Int lanes_idx = (idx / arr1_size) % arr1_size\n",
    "\n",
    "    call hello as howdy {\n",
    "      input:\n",
    "        addressee = ImpString[lanes_idx][reads_idx],\n",
    "        Two = lanes_idx,\n",
    "        Three = reads_idx,\n",
    "        sIx = idx\n",
    "    }\n",
    "  }\n",
    "\n",
    "  output {\n",
    "     howdy.message\n",
    "  }\n",
    "}"
   ]
  },
  {
   "cell_type": "code",
   "execution_count": 8,
   "metadata": {},
   "outputs": [
    {
     "name": "stdout",
     "output_type": "stream",
     "text": [
      "Overwriting AA_json.json\n"
     ]
    }
   ],
   "source": [
    "%%writefile AA_json.json\n",
    "{\n",
    "    \"wf_hello.ImpString\": [ [\"0:0\", \"0:1\"], \n",
    "                            [\"1:0\", \"1:1\"]\n",
    "                          ]\n",
    "}\n"
   ]
  },
  {
   "cell_type": "code",
   "execution_count": 5,
   "metadata": {},
   "outputs": [
    {
     "data": {
      "text/plain": [
       "0"
      ]
     },
     "execution_count": 5,
     "metadata": {},
     "output_type": "execute_result"
    }
   ],
   "source": [
    "import os\n",
    "run_str = 'java -jar /usr/locl/etc/cromwell-36.jar run AA_T1IdxArray.wdl -i AA_json.json &> log.txt &'\n",
    "os.system(run_str)"
   ]
  }
 ],
 "metadata": {
  "kernelspec": {
   "display_name": "Python 3",
   "language": "python",
   "name": "python3"
  },
  "language_info": {
   "codemirror_mode": {
    "name": "ipython",
    "version": 3
   },
   "file_extension": ".py",
   "mimetype": "text/x-python",
   "name": "python",
   "nbconvert_exporter": "python",
   "pygments_lexer": "ipython3",
   "version": "3.6.7"
  }
 },
 "nbformat": 4,
 "nbformat_minor": 2
}
