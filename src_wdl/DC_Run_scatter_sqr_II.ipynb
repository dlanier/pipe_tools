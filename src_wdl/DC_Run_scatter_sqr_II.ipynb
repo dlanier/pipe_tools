{
 "cells": [
  {
   "cell_type": "markdown",
   "metadata": {},
   "source": [
    "# Scatter in a Scatter Test --- Bottom Line: Very Messy Output\n",
    "\n",
    "## each scatter block creates a directory tree in each tree:\n",
    "\n",
    "\n",
    "### (terminal w docker) Start the container:\n",
    "```bash\n",
    "docker run -p 8888:8888 -v `pwd`:/home/tmpusr/run_dir -it aka1spanky/ncsa:devwdlV01 jupyter notebook --port=8888 --ip=0.0.0.0 --allow-root\n",
    "```\n",
    "### (python3) In notebook -- running in the container -- path to cromwell, path to run_directory:\n",
    "```python\n",
    "os.listdir('/usr/locl/etc/')\n",
    "os.listdir('/home/tmpusr/run_dir/'\n",
    "```\n",
    "\n",
    "### (terminal w docker) Run string example:\n",
    "```bash\n",
    "docker exec -i funny_docker java -jar /usr/locl/etc/cromwell-36.jar /home/tmpusr/run_dir/run scatter_hello.wdl\n",
    "```\n"
   ]
  },
  {
   "cell_type": "code",
   "execution_count": 1,
   "metadata": {},
   "outputs": [],
   "source": [
    "import os\n",
    "import sys\n",
    "import numpy as np\n",
    "import pandas as pd"
   ]
  },
  {
   "cell_type": "code",
   "execution_count": 4,
   "metadata": {},
   "outputs": [
    {
     "data": {
      "text/plain": [
       "'/home/tmpusr/run_dir'"
      ]
     },
     "execution_count": 4,
     "metadata": {},
     "output_type": "execute_result"
    }
   ],
   "source": [
    "# running jupyter inside the container - this is the externally mounted directory\n",
    "os.getcwd()"
   ]
  },
  {
   "cell_type": "code",
   "execution_count": 5,
   "metadata": {},
   "outputs": [
    {
     "data": {
      "text/plain": [
       "['womtool-36.jar', 'cromwell-36.jar', '.DS_Store']"
      ]
     },
     "execution_count": 5,
     "metadata": {},
     "output_type": "execute_result"
    }
   ],
   "source": [
    "#           location of the cromwell files\n",
    "os.listdir('/usr/locl/etc')"
   ]
  },
  {
   "cell_type": "code",
   "execution_count": 10,
   "metadata": {},
   "outputs": [
    {
     "data": {
      "text/plain": [
       "['scatter_hello.wdl',\n",
       " 'DC_Run_scatter_sqr.ipynb',\n",
       " '.ipynb_checkpoints',\n",
       " 'Input_Array_Indexing_Examples.ipynb']"
      ]
     },
     "execution_count": 10,
     "metadata": {},
     "output_type": "execute_result"
    }
   ],
   "source": [
    "#           before and after cell >> cromwell-* will show up after running the next cell\n",
    "#           Iff and Only If you run the writefile below \n",
    "os.listdir()"
   ]
  },
  {
   "cell_type": "code",
   "execution_count": 47,
   "metadata": {},
   "outputs": [
    {
     "name": "stdout",
     "output_type": "stream",
     "text": [
      "Overwriting scatter_hello.wdl\n"
     ]
    }
   ],
   "source": [
    "%%writefile scatter_hello.wdl\n",
    "###########################\n",
    "# Usage: \n",
    "# java -jar full/path/to/cromwell run scatter_hello.wdl\n",
    "###########################\n",
    "\n",
    "task hello {\n",
    "    String addressee_1\n",
    "    String addressee_2\n",
    "    Int ix_1\n",
    "    Int ix_2\n",
    "    \n",
    "    command {\n",
    "      echo \"[${ix_1}][${ix_2}][Left]: ${addressee_1}\\n[${ix_1}][${ix_2}][Right]: ${addressee_2}\"\n",
    "    }\n",
    "    \n",
    "    output {\n",
    "        String message = read_string(stdout())\n",
    "    }\n",
    "}"
   ]
  },
  {
   "cell_type": "code",
   "execution_count": 48,
   "metadata": {},
   "outputs": [
    {
     "name": "stdout",
     "output_type": "stream",
     "text": [
      "Overwriting call_scatter_hello.wdl\n"
     ]
    }
   ],
   "source": [
    "%%writefile call_scatter_hello.wdl\n",
    "###########################\n",
    "#           call_scatter_hello.wdl\n",
    "###########################\n",
    "\n",
    "import \"/home/tmpusr/run_dir/scatter_hello.wdl\" as HELLO\n",
    "\n",
    "workflow inner_hello {\n",
    "    Array[Array[String]] InnerInputStrArr\n",
    "    Int ix_1\n",
    "    \n",
    "    Int arr_inp_size = length(InnerInputStrArr)\n",
    "    Array[Int] InnerIndex = range(arr_inp_size)\n",
    "    \n",
    "    scatter (idx in InnerIndex) {\n",
    "        \n",
    "        call HELLO.hello as howdy {\n",
    "            input:\n",
    "                addressee_1 = InnerInputStrArr[idx][0],\n",
    "                addressee_2 = InnerInputStrArr[idx][1],\n",
    "                ix_1 = ix_1,\n",
    "                ix_2 = idx\n",
    "        }\n",
    "    }\n",
    "    \n",
    "#     output {\n",
    "#         Array[String] message = howdy.message\n",
    "#     }\n",
    "}"
   ]
  },
  {
   "cell_type": "code",
   "execution_count": 49,
   "metadata": {},
   "outputs": [
    {
     "name": "stdout",
     "output_type": "stream",
     "text": [
      "Overwriting scatter_call_scatter_hello.wdl\n"
     ]
    }
   ],
   "source": [
    "%%writefile scatter_call_scatter_hello.wdl\n",
    "###########################\n",
    "#           scatter_call_scatter_hello.wdl\n",
    "###########################\n",
    "\n",
    "import \"/home/tmpusr/run_dir/call_scatter_hello.wdl\" as CALL_SCATTER\n",
    "\n",
    "workflow outer_hello {\n",
    "    Array[Array[Array[String]]] InStrArr = [ [ [\"0:0:0\", \"0:0:1\"], [\"0:1:0\",\"0:1:1\"] ],  [ [\"1:0:0\", \"1:0:1\"], [\"1:1:0\",\"1:1:1\"] ] ]\n",
    "    Int arr1_size = length(InStrArr)\n",
    "    Array[Int] Index = range(arr1_size)\n",
    "    \n",
    "    scatter (idx in Index) {\n",
    "        \n",
    "        call CALL_SCATTER.inner_hello as hiho {\n",
    "            input:\n",
    "                InnerInputStrArr = InStrArr[idx],\n",
    "                ix_1 = idx\n",
    "        }\n",
    "    }\n",
    "    \n",
    "    output {\n",
    "        Array[Array[String]] hiho_out = hiho.message\n",
    "    }\n",
    "}"
   ]
  },
  {
   "cell_type": "markdown",
   "metadata": {},
   "source": [
    "### Note that directory names will differ after container is closed."
   ]
  },
  {
   "cell_type": "code",
   "execution_count": 15,
   "metadata": {},
   "outputs": [
    {
     "data": {
      "text/plain": [
       "['call-howdy']"
      ]
     },
     "execution_count": 15,
     "metadata": {},
     "output_type": "execute_result"
    }
   ],
   "source": [
    "#           before and after cell >> cromwell-* will show up after running the next cell\n",
    "#           Iff and Only If you run the writefile below \n",
    "base_dir = '/home/tmpusr/run_dir/cromwell-executions'\n",
    "dir_string = os.path.join(base_dir, 'outer_hello/73bca2ff-6f0c-4b85-94cd-f8ac8e7518db')\n",
    "inner_shard = os.path.join(dir_string, 'call-hiho', 'shard-0', 'CALL_SCATTER.inner_hello')\n",
    "new_tree = os.path.join(inner_shard, '73188a57-669d-4007-b05a-d4c94f5dbe3c')\n",
    "os.listdir(new_tree)"
   ]
  },
  {
   "cell_type": "code",
   "execution_count": 18,
   "metadata": {},
   "outputs": [
    {
     "data": {
      "text/plain": [
       "['stdout',\n",
       " 'script.background',\n",
       " 'stderr',\n",
       " 'script.submit',\n",
       " 'script',\n",
       " 'stdout.background',\n",
       " 'rc',\n",
       " 'stderr.background']"
      ]
     },
     "execution_count": 18,
     "metadata": {},
     "output_type": "execute_result"
    }
   ],
   "source": [
    "dir_string_II = os.path.join(new_tree, 'call-howdy', 'shard-0', 'execution')\n",
    "os.listdir(dir_string_II)"
   ]
  },
  {
   "cell_type": "code",
   "execution_count": 21,
   "metadata": {},
   "outputs": [
    {
     "name": "stdout",
     "output_type": "stream",
     "text": [
      "[0][0][Left]: 0:0:0\\n[0][0][Right]: 0:0:1\n",
      "\n"
     ]
    }
   ],
   "source": [
    "out_file = os.path.join(dir_string_II, 'stdout')\n",
    "with open(out_file, 'r') as fh:\n",
    "    lines = fh.readlines()\n",
    "    \n",
    "for line in lines:\n",
    "    print(line)"
   ]
  },
  {
   "cell_type": "code",
   "execution_count": 22,
   "metadata": {},
   "outputs": [
    {
     "name": "stdout",
     "output_type": "stream",
     "text": [
      "[0][0][Left]: 0:0:0\\n[0][0][Right]: 0:0:1\n",
      "\n",
      "[0][1][Left]: 0:1:0\\n[0][1][Right]: 0:1:1\n",
      "\n",
      "[1][0][Left]: 1:0:0\\n[1][0][Right]: 1:0:1\n",
      "\n",
      "[1][1][Left]: 1:1:0\\n[1][1][Right]: 1:1:1\n",
      "\n"
     ]
    }
   ],
   "source": [
    "def get_stdout_wdl_list(base_dir):\n",
    "    \"\"\" Usage: outies = get_stdout_wdl_list(base_dir) \"\"\"\n",
    "    look_4_file = 'stdout'\n",
    "    stdout_wdl_list = []\n",
    "    for dir_name, dirs_list, files_list in os.walk(base_dir):\n",
    "        for file_name in files_list:\n",
    "            if len(file_name) == len(look_4_file) and file_name == look_4_file:\n",
    "                stdout_wdl_list.append(os.path.join(dir_name, file_name))\n",
    "    return stdout_wdl_list\n",
    "\n",
    "outies = get_stdout_wdl_list(base_dir=dir_string)\n",
    "for outie in outies:\n",
    "    with open(outie, 'r') as fh:\n",
    "        lines = fh.readlines()\n",
    "    for line in lines:\n",
    "        print(line)"
   ]
  }
 ],
 "metadata": {
  "kernelspec": {
   "display_name": "Python 3",
   "language": "python",
   "name": "python3"
  },
  "language_info": {
   "codemirror_mode": {
    "name": "ipython",
    "version": 3
   },
   "file_extension": ".py",
   "mimetype": "text/x-python",
   "name": "python",
   "nbconvert_exporter": "python",
   "pygments_lexer": "ipython3",
   "version": "3.6.7"
  }
 },
 "nbformat": 4,
 "nbformat_minor": 2
}
