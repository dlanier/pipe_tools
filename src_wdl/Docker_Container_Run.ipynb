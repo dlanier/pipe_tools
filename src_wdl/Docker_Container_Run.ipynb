{
 "cells": [
  {
   "cell_type": "markdown",
   "metadata": {},
   "source": [
    "# Indexing examples for wdl file multi-dimensional Arrays\n",
    "```bash\n",
    "docker run -p 8888:8888 -v `pwd`:/home/tmpusr/run_dir -it aka1spanky/ncsa:devwdlV01 jupyter notebook --port=8888 --ip=0.0.0.0 --allow-root\n",
    "```"
   ]
  },
  {
   "cell_type": "code",
   "execution_count": 1,
   "metadata": {},
   "outputs": [],
   "source": [
    "import os\n",
    "import sys\n",
    "import numpy as np\n",
    "import pandas as pd"
   ]
  },
  {
   "cell_type": "code",
   "execution_count": 5,
   "metadata": {},
   "outputs": [
    {
     "data": {
      "text/plain": [
       "'/home/tmpusr/run_dir'"
      ]
     },
     "execution_count": 5,
     "metadata": {},
     "output_type": "execute_result"
    }
   ],
   "source": [
    "# running jupyter inside the container - this is the externally mounted directory\n",
    "os.getcwd()"
   ]
  },
  {
   "cell_type": "code",
   "execution_count": 3,
   "metadata": {},
   "outputs": [
    {
     "data": {
      "text/plain": [
       "['womtool-36.jar', 'cromwell-36.jar', '.DS_Store']"
      ]
     },
     "execution_count": 3,
     "metadata": {},
     "output_type": "execute_result"
    }
   ],
   "source": [
    "#           location of the cromwell files\n",
    "os.listdir('/usr/locl/etc')"
   ]
  },
  {
   "cell_type": "code",
   "execution_count": 9,
   "metadata": {},
   "outputs": [
    {
     "data": {
      "text/plain": [
       "['HelloIdxArray.wdl',\n",
       " '.ipynb_checkpoints',\n",
       " 'cromwell-executions',\n",
       " 'Input_Array_Indexing_Examples.ipynb',\n",
       " 'cromwell-workflow-logs']"
      ]
     },
     "execution_count": 9,
     "metadata": {},
     "output_type": "execute_result"
    }
   ],
   "source": [
    "#           before and after cell >> cromwell-* will show up after running the next cell\n",
    "#           Iff and Only If you run the writefile below \n",
    "os.listdir()"
   ]
  },
  {
   "cell_type": "code",
   "execution_count": 4,
   "metadata": {},
   "outputs": [
    {
     "name": "stdout",
     "output_type": "stream",
     "text": [
      "Writing HelloIdxArray.wdl\n"
     ]
    }
   ],
   "source": [
    "%%writefile HelloIdxArray.wdl\n",
    "###########################\n",
    "#       HelloIdxArray.wdl\n",
    "# Usage: \n",
    "# java -jar full/path/to/cromwell run HelloIdxArray.wdl\n",
    "###########################\n",
    "\n",
    "task hello {\n",
    "  String addressee\n",
    "  Int One\n",
    "  Int Two\n",
    "  Int Three\n",
    "  Int sIx\n",
    "  command {\n",
    "    echo \"Input String =  ${addressee} With Iterator Index: ${sIx}  [${One}][${Two}][${Three}]\"\n",
    "  }\n",
    "  output {\n",
    "    String message = read_string(stdout())\n",
    "  }\n",
    "}\n",
    "\n",
    "workflow wf_hello {\n",
    "\n",
    "  Array[Array[Array[String]]] ImpString = [ [ [\"0:0:0\", \"0:0:1\"], [\"0:1:0\",\"0:1:1\"] ],  [ [\"1:0:0\", \"1:0:1\"], [\"1:1:0\",\"1:1:1\"] ] ]\n",
    "  Int arr1_size = length(ImpString)\n",
    "  Int arr2_size = length(ImpString[0])\n",
    "  Int arr3_size = length(ImpString[0][0])\n",
    "\n",
    "  Array[Int] Index = range(arr1_size * arr2_size * arr3_size)\n",
    "\n",
    "  scatter (idx in Index) {\n",
    "\n",
    "    Int reads_idx = idx % arr1_size\n",
    "\n",
    "    Int lanes_idx = (idx / arr2_size) % arr2_size\n",
    "\n",
    "    Int samples_idx = idx / (arr3_size * arr2_size)\n",
    "\n",
    "    call hello as howdy {\n",
    "      input:\n",
    "        addressee = ImpString[samples_idx][lanes_idx][reads_idx],\n",
    "        One = samples_idx,\n",
    "        Two = lanes_idx,\n",
    "        Three = reads_idx,\n",
    "        sIx = idx\n",
    "    }\n",
    "  }\n",
    "\n",
    "  output {\n",
    "     howdy.message\n",
    "  }\n",
    "}\n"
   ]
  },
  {
   "cell_type": "code",
   "execution_count": null,
   "metadata": {},
   "outputs": [],
   "source": [
    "#           construct the call string and start a new separate process\n",
    "hak_str = 'java -jar /usr/locl/etc/cromwell-36.jar run HelloIdxArray.wdl'\n",
    "os.system(hak_str)"
   ]
  },
  {
   "cell_type": "code",
   "execution_count": 10,
   "metadata": {},
   "outputs": [
    {
     "name": "stdout",
     "output_type": "stream",
     "text": [
      "Writing T2IdxArray.wdl\n"
     ]
    }
   ],
   "source": [
    "%%writefile T2IdxArray.wdl\n",
    "###########################\n",
    "#              AAA_T2IdxArray.wdl\n",
    "# Usage:\n",
    "# java -jar full/path/to/cromwell run AAA_T2IdxArray.wdl -i AAA_json.json\n",
    "# wf_hello.ImpString = [[[\"1\"]]] \n",
    "###########################\n",
    "\n",
    "task hello {\n",
    "  String addressee\n",
    "  Int One\n",
    "  Int Two\n",
    "  Int Three\n",
    "  Int sIx\n",
    "  command {\n",
    "    echo \"Input String =  ${addressee} With Iterator Index: ${sIx}  [${One}][${Two}][${Three}]\"\n",
    "  }\n",
    "  output {\n",
    "    String message = read_string(stdout())\n",
    "  }\n",
    "}\n",
    "\n",
    "workflow wf_hello {\n",
    "\n",
    "  Array[Array[Array[String]]] ImpString\n",
    "  Int arr1_size = length(ImpString)\n",
    "  Int arr2_size = length(ImpString[0])\n",
    "  Int arr3_size = length(ImpString[0][0])\n",
    "\n",
    "  Array[Int] Index = range(arr1_size * arr2_size * arr3_size)\n",
    "\n",
    "  scatter (idx in Index) {\n",
    "\n",
    "    Int reads_idx = idx % arr3_size\n",
    "\n",
    "    Int lanes_idx = (idx / arr2_size) % arr2_size\n",
    "\n",
    "    Int samples_idx = (idx / (arr3_size * arr2_size)) % arr1_size\n",
    "\n",
    "    call hello as howdy {\n",
    "      input:\n",
    "        addressee = ImpString[samples_idx][lanes_idx][reads_idx],\n",
    "        One = samples_idx,\n",
    "        Two = lanes_idx,\n",
    "        Three = reads_idx,\n",
    "        sIx = idx\n",
    "    }\n",
    "  }\n",
    "\n",
    "  output {\n",
    "     howdy.message\n",
    "  }\n",
    "}\n"
   ]
  },
  {
   "cell_type": "code",
   "execution_count": 12,
   "metadata": {},
   "outputs": [
    {
     "name": "stdout",
     "output_type": "stream",
     "text": [
      "Writing AAA_json.json\n"
     ]
    }
   ],
   "source": [
    "%%writefile AAA_json.json\n",
    "{\n",
    "    \"wf_hello.ImpString\": [ \n",
    "                          [ [\"0:0:0\", \"0:0:1\"], \n",
    "                            [\"0:1:0\",\"0:1:1\"] ],  \n",
    "                          [ [\"1:0:0\", \"1:0:1\"], \n",
    "                            [\"1:1:0\",\"1:1:1\"] ], \n",
    "                          [ [\"2:0:0\", \"2:0:1\"], \n",
    "                            [\"2:1:0\",\"2:1:1\"] ] ]\n",
    "}\n"
   ]
  },
  {
   "cell_type": "code",
   "execution_count": 14,
   "metadata": {},
   "outputs": [
    {
     "data": {
      "text/plain": [
       "0"
      ]
     },
     "execution_count": 14,
     "metadata": {},
     "output_type": "execute_result"
    }
   ],
   "source": [
    "#           construct the call string and start a new separate process\n",
    "hak_str = 'java -jar /usr/locl/etc/cromwell-36.jar run T2IdxArray.wdl -i AAA_json.json'\n",
    "os.system(hak_str)"
   ]
  },
  {
   "cell_type": "code",
   "execution_count": 16,
   "metadata": {},
   "outputs": [
    {
     "data": {
      "text/plain": [
       "['c773d129-8092-4095-876a-10e7c70b555f',\n",
       " 'cae6045a-41cb-4d28-8934-b3ba880bffe4']"
      ]
     },
     "execution_count": 16,
     "metadata": {},
     "output_type": "execute_result"
    }
   ],
   "source": [
    "#           before and after cell >> cromwell-* will show up after running the next cell\n",
    "#           Iff and Only If you run the writefile below \n",
    "os.listdir('cromwell-executions/wf_hello')"
   ]
  }
 ],
 "metadata": {
  "kernelspec": {
   "display_name": "Python 3",
   "language": "python",
   "name": "python3"
  },
  "language_info": {
   "codemirror_mode": {
    "name": "ipython",
    "version": 3
   },
   "file_extension": ".py",
   "mimetype": "text/x-python",
   "name": "python",
   "nbconvert_exporter": "python",
   "pygments_lexer": "ipython3",
   "version": "3.6.7"
  }
 },
 "nbformat": 4,
 "nbformat_minor": 2
}
