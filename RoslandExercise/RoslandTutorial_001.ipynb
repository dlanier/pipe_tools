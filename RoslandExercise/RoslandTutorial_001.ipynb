{
 "cells": [
  {
   "cell_type": "markdown",
   "metadata": {},
   "source": [
    "# Rosland example problem - tutorial number 1\n",
    "[dna toy example](http://rosalind.info/problems/dna/) <br>"
   ]
  },
  {
   "cell_type": "code",
   "execution_count": null,
   "metadata": {},
   "outputs": [],
   "source": [
    "# Experiment cell\n",
    "import numpy as np\n",
    "g_string =list('AGCTTTTCATTCTGACTGCAACGGGCAATATGTCTCTGTGTGGATTAAAAAAAGAGTGTCTGATAGCAGC')\n",
    "g_string_symbols = list(np.unique(set(g_string))[0])\n",
    "\n",
    "# print(g_string_symbols)\n",
    "g_string_count_dictionary = {s: sum(s==np.array(g_string)) for s in g_string_symbols}\n",
    "for s, c in g_string_count_dictionary.items():\n",
    "    print('%5s: %i'%(s,c))"
   ]
  },
  {
   "cell_type": "code",
   "execution_count": null,
   "metadata": {},
   "outputs": [],
   "source": [
    "# function development cell\n",
    "import os\n",
    "import numpy as np\n",
    "\n",
    "def get_symbol_string_count_dictionary(string_file):\n",
    "    if os.path.isfile(string_file):\n",
    "        with open(string_file,'r') as fh:\n",
    "            lines = fh.readlines()\n",
    "        long_string = ''\n",
    "        for line in lines:\n",
    "            long_string += line.strip()\n",
    "        g_string = list(long_string)\n",
    "    g_string_symbols = list(np.unique(set(g_string))[0])\n",
    "\n",
    "    g_string_count_dictionary = {s: sum(s==np.array(g_string)) for s in g_string_symbols}\n",
    "\n",
    "    return g_string_count_dictionary\n",
    "\n",
    "data_dir = '../data/Rosland'\n",
    "print('Path?', os.path.isdir(data_dir))\n",
    "data_file = 'rosalind_dna.txt'\n",
    "data_fullfile = os.path.join(data_dir, data_file)\n",
    "print('File?', os.path.isfile(data_fullfile))\n",
    "\n",
    "g_string_count_dictionary = get_symbol_string_count_dictionary(string_file=data_fullfile)\n",
    "\n",
    "for s, c in g_string_count_dictionary.items():\n",
    "    print('%5s: %i'%(s,c))\n",
    "    "
   ]
  },
  {
   "cell_type": "code",
   "execution_count": null,
   "metadata": {},
   "outputs": [],
   "source": []
  }
 ],
 "metadata": {
  "kernelspec": {
   "display_name": "Python 3",
   "language": "python",
   "name": "python3"
  },
  "language_info": {
   "codemirror_mode": {
    "name": "ipython",
    "version": 3
   },
   "file_extension": ".py",
   "mimetype": "text/x-python",
   "name": "python",
   "nbconvert_exporter": "python",
   "pygments_lexer": "ipython3",
   "version": "3.6.5"
  }
 },
 "nbformat": 4,
 "nbformat_minor": 2
}
