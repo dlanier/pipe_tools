{
 "cells": [
  {
   "cell_type": "markdown",
   "metadata": {},
   "source": [
    "# Rosland example problem - tutorial number 1\n",
    "[dna toy example](http://rosalind.info/problems/dna/) <br>"
   ]
  },
  {
   "cell_type": "code",
   "execution_count": 22,
   "metadata": {},
   "outputs": [
    {
     "name": "stdout",
     "output_type": "stream",
     "text": [
      "    A: 20\n",
      "    G: 17\n",
      "    T: 21\n",
      "    C: 12\n"
     ]
    }
   ],
   "source": [
    "import numpy as np\n",
    "g_string =list('AGCTTTTCATTCTGACTGCAACGGGCAATATGTCTCTGTGTGGATTAAAAAAAGAGTGTCTGATAGCAGC')\n",
    "g_string_symbols = list(np.unique(set(g_string))[0])\n",
    "\n",
    "# print(g_string_symbols)\n",
    "g_string_count_dictionary = {s: sum(s==np.array(g_string)) for s in g_string_symbols}\n",
    "for s, c in g_string_count_dictionary.items():\n",
    "    print('%5s: %i'%(s,c))"
   ]
  }
 ],
 "metadata": {
  "kernelspec": {
   "display_name": "Python 3",
   "language": "python",
   "name": "python3"
  },
  "language_info": {
   "codemirror_mode": {
    "name": "ipython",
    "version": 3
   },
   "file_extension": ".py",
   "mimetype": "text/x-python",
   "name": "python",
   "nbconvert_exporter": "python",
   "pygments_lexer": "ipython3",
   "version": "3.6.5"
  }
 },
 "nbformat": 4,
 "nbformat_minor": 2
}
