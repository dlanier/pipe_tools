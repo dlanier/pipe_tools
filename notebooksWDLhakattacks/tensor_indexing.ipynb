{
 "cells": [
  {
   "cell_type": "markdown",
   "metadata": {},
   "source": [
    "# Indexing for single normal, multi-tumor, multi-lane, paired ends or not."
   ]
  },
  {
   "cell_type": "code",
   "execution_count": 1,
   "metadata": {},
   "outputs": [],
   "source": []
  },
  {
   "cell_type": "code",
   "execution_count": 2,
   "metadata": {},
   "outputs": [
    {
     "name": "stdout",
     "output_type": "stream",
     "text": [
      "matrix A with 3 rows, 4 cols, 12 elements\n",
      "\n",
      "[1. 2. 3. 4.]\n",
      "[5. 6. 7. 8.]\n",
      "[ 9. 10. 11. 12.]\n",
      "\n",
      "\n",
      "A[r,c] = n_idx\n",
      "\n",
      "A[0,0] =   1\n",
      "A[0,1] =   2\n",
      "A[0,2] =   3\n",
      "A[0,3] =   4\n",
      "A[1,0] =   5\n",
      "A[1,1] =   6\n",
      "A[1,2] =   7\n",
      "A[1,3] =   8\n",
      "A[2,0] =   9\n",
      "A[2,1] =  10\n",
      "A[2,2] =  11\n",
      "A[2,3] =  12\n"
     ]
    }
   ],
   "source": [
    "import numpy as np\n",
    "#                                define\n",
    "n_rows = 3\n",
    "n_cols = 4\n",
    "n = n_rows * n_cols\n",
    "\n",
    "#                                allocate\n",
    "n_idx = np.cumsum(np.ones(n))\n",
    "n_arr = n_idx.reshape(n_rows, n_cols)\n",
    "print('matrix A with %i rows, %i cols, %i elements\\n'%(n_rows,n_cols,n))\n",
    "for r in range(n_rows):\n",
    "    print(n_arr[r,:])\n",
    "\n",
    "print('\\n\\nA[r,c] = n_idx\\n')\n",
    "\n",
    "#                                index & iterate\n",
    "r = -1\n",
    "for idx in n_idx:\n",
    "    c = int(np.mod(idx+n_cols-1,n_cols))\n",
    "    if c == 0:\n",
    "        r += 1\n",
    "        \n",
    "    print('A[%i,%i] = %3i'%(r, c, n_arr[r,c]))"
   ]
  },
  {
   "cell_type": "code",
   "execution_count": 4,
   "metadata": {},
   "outputs": [
    {
     "name": "stdout",
     "output_type": "stream",
     "text": [
      "3 diminsional tensor A:\n",
      " [[[ 1.  2.]\n",
      "  [ 3.  4.]\n",
      "  [ 5.  6.]\n",
      "  [ 7.  8.]]\n",
      "\n",
      " [[ 9. 10.]\n",
      "  [11. 12.]\n",
      "  [13. 14.]\n",
      "  [15. 16.]]\n",
      "\n",
      " [[17. 18.]\n",
      "  [19. 20.]\n",
      "  [21. 22.]\n",
      "  [23. 24.]]] \n",
      "\n",
      "A[0,0,0] =   1\n",
      "A[0,0,1] =   2\n",
      "A[0,1,0] =   3\n",
      "A[0,1,1] =   4\n",
      "A[0,2,0] =   5\n",
      "A[0,2,1] =   6\n",
      "A[0,3,0] =   7\n",
      "A[0,3,1] =   8\n",
      "A[1,0,0] =   9\n",
      "A[1,0,1] =  10\n",
      "A[1,1,0] =  11\n",
      "A[1,1,1] =  12\n",
      "A[1,2,0] =  13\n",
      "A[1,2,1] =  14\n",
      "A[1,3,0] =  15\n",
      "A[1,3,1] =  16\n",
      "A[2,0,0] =  17\n",
      "A[2,0,1] =  18\n",
      "A[2,1,0] =  19\n",
      "A[2,1,1] =  20\n",
      "A[2,2,0] =  21\n",
      "A[2,2,1] =  22\n",
      "A[2,3,0] =  23\n",
      "A[2,3,1] =  24\n"
     ]
    }
   ],
   "source": [
    "import numpy as np\n",
    "#                                define\n",
    "n_d1 = 3\n",
    "n_d2 = 4\n",
    "n_d3 = 2\n",
    "n = n_d1 * n_d2 * n_d3\n",
    "\n",
    "#                                allocate\n",
    "n_d_idx = np.cumsum(np.ones(n))\n",
    "n_d_arr = n_d_idx.reshape(n_d1, n_d2, n_d3)\n",
    "print('3 diminsional tensor A:\\n',n_d_arr,'\\n')\n",
    "\n",
    "#                                index & iterate\n",
    "d2_idx = -1\n",
    "d1_idx = -1\n",
    "for idx in n_d_idx:\n",
    "    d3_idx = int(np.mod(idx+n_d3-1, n_d3))\n",
    "    if d3_idx == 0:\n",
    "        d2_idx += 1\n",
    "        d2_idx = int(np.mod(d2_idx, n_d2))\n",
    "        if d2_idx == 0:\n",
    "            d1_idx += 1\n",
    "            d1_idx = int(np.mod(d1_idx, n_d1))\n",
    "            \n",
    "    print('A[%i,%i,%i] = %3i'%(d1_idx, d2_idx, d3_idx, n_d_arr[d1_idx, d2_idx, d3_idx]))"
   ]
  },
  {
   "cell_type": "code",
   "execution_count": null,
   "metadata": {},
   "outputs": [],
   "source": []
  }
 ],
 "metadata": {
  "kernelspec": {
   "display_name": "Python 3",
   "language": "python",
   "name": "python3"
  },
  "language_info": {
   "codemirror_mode": {
    "name": "ipython",
    "version": 3
   },
   "file_extension": ".py",
   "mimetype": "text/x-python",
   "name": "python",
   "nbconvert_exporter": "python",
   "pygments_lexer": "ipython3",
   "version": "3.6.7"
  }
 },
 "nbformat": 4,
 "nbformat_minor": 2
}
