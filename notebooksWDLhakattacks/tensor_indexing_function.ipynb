{
 "cells": [
  {
   "cell_type": "code",
   "execution_count": 1,
   "metadata": {},
   "outputs": [
    {
     "name": "stdout",
     "output_type": "stream",
     "text": [
      "3 diminsional tensor A:\n",
      " [[[ 1.  2.]\n",
      "  [ 3.  4.]\n",
      "  [ 5.  6.]]\n",
      "\n",
      " [[ 7.  8.]\n",
      "  [ 9. 10.]\n",
      "  [11. 12.]]\n",
      "\n",
      " [[13. 14.]\n",
      "  [15. 16.]\n",
      "  [17. 18.]]\n",
      "\n",
      " [[19. 20.]\n",
      "  [21. 22.]\n",
      "  [23. 24.]]] \n",
      "\n",
      " 1\tA[0,0,0] =   1\n",
      " 2\tA[0,0,1] =   2\n",
      " 3\tA[0,1,0] =   3\n",
      " 4\tA[0,1,1] =   4\n",
      " 5\tA[0,2,0] =   5\n",
      " 6\tA[0,2,1] =   6\n",
      " 7\tA[1,0,0] =   7\n",
      " 8\tA[1,0,1] =   8\n",
      " 9\tA[1,1,0] =   9\n",
      "10\tA[1,1,1] =  10\n",
      "11\tA[1,2,0] =  11\n",
      "12\tA[1,2,1] =  12\n",
      "13\tA[2,0,0] =  13\n",
      "14\tA[2,0,1] =  14\n",
      "15\tA[2,1,0] =  15\n",
      "16\tA[2,1,1] =  16\n",
      "17\tA[2,2,0] =  17\n",
      "18\tA[2,2,1] =  18\n",
      "19\tA[3,0,0] =  19\n",
      "20\tA[3,0,1] =  20\n",
      "21\tA[3,1,0] =  21\n",
      "22\tA[3,1,1] =  22\n",
      "23\tA[3,2,0] =  23\n",
      "24\tA[3,2,1] =  24\n"
     ]
    }
   ],
   "source": [
    "import numpy as np\n",
    "#                                define\n",
    "n_d1 = 4\n",
    "n_d2 = 3\n",
    "n_d3 = 2\n",
    "n = n_d1 * n_d2 * n_d3\n",
    "\n",
    "#                                allocate\n",
    "n_d_idx = np.cumsum(np.ones(n))\n",
    "n_d_arr = n_d_idx.reshape(n_d1, n_d2, n_d3)\n",
    "print('3 diminsional tensor A:\\n',n_d_arr,'\\n')\n",
    "\n",
    "#                                index & iterate\n",
    "d2_idx = -1\n",
    "d1_idx = -1\n",
    "for idx in n_d_idx:\n",
    "    d3_idx = int(np.mod(idx+n_d3-1, n_d3))\n",
    "    if d3_idx == 0:\n",
    "        d2_idx += 1\n",
    "        d2_idx = int(np.mod(d2_idx, n_d2))\n",
    "        if d2_idx == 0:\n",
    "            d1_idx += 1\n",
    "            d1_idx = int(np.mod(d1_idx, n_d1))\n",
    "            \n",
    "    print('%2i\\tA[%i,%i,%i] = %3i'%(idx, d1_idx, d2_idx, d3_idx, n_d_arr[d1_idx, d2_idx, d3_idx]))"
   ]
  },
  {
   "cell_type": "code",
   "execution_count": 10,
   "metadata": {},
   "outputs": [
    {
     "name": "stdout",
     "output_type": "stream",
     "text": [
      "5 [2 2 2] 8 (3,)\n"
     ]
    }
   ],
   "source": [
    "def get_tensor_idx(idx, dims_array):\n",
    "    \n",
    "    if idx > np.prod(dims_array):\n",
    "        print('INPUT FAIL')\n",
    "        \n",
    "    print(idx, dims_array, np.prod(dims_array), dims_array.shape)\n",
    "\n",
    "idx = 5\n",
    "dims_array = np.array([2,2,2])\n",
    "get_tensor_idx(idx, dims_array)"
   ]
  },
  {
   "cell_type": "code",
   "execution_count": null,
   "metadata": {},
   "outputs": [],
   "source": []
  }
 ],
 "metadata": {
  "kernelspec": {
   "display_name": "Python 3",
   "language": "python",
   "name": "python3"
  },
  "language_info": {
   "codemirror_mode": {
    "name": "ipython",
    "version": 3
   },
   "file_extension": ".py",
   "mimetype": "text/x-python",
   "name": "python",
   "nbconvert_exporter": "python",
   "pygments_lexer": "ipython3",
   "version": "3.6.7"
  }
 },
 "nbformat": 4,
 "nbformat_minor": 2
}
