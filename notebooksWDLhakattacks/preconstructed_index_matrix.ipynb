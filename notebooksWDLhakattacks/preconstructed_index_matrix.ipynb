{
 "cells": [
  {
   "cell_type": "markdown",
   "metadata": {},
   "source": [
    "# tree not matrix\n",
    "* only guarantee is at least lane and read per sample"
   ]
  },
  {
   "cell_type": "code",
   "execution_count": 32,
   "metadata": {},
   "outputs": [
    {
     "name": "stdout",
     "output_type": "stream",
     "text": [
      "[[0, 1], [0, 1]]\n",
      "[[0, 1], [0, 1], [0, 1], [0, 1]]\n",
      "[[0, 1]]\n",
      "[[0, 1], [0, 1], [0, 1]]\n"
     ]
    }
   ],
   "source": [
    "#                          Index four samples with a different number of lanes\n",
    "SLR = [[[0,1],[0,1]],\n",
    "       [[0,1],[0,1],[0,1],[0,1]],\n",
    "       [[0,1]],\n",
    "       [[0,1],[0,1],[0,1]] ]\n",
    "\n",
    "for l in SLR:\n",
    "    print(l)"
   ]
  },
  {
   "cell_type": "code",
   "execution_count": 36,
   "metadata": {},
   "outputs": [
    {
     "data": {
      "text/plain": [
       "20"
      ]
     },
     "execution_count": 36,
     "metadata": {},
     "output_type": "execute_result"
    }
   ],
   "source": [
    "#                          Find the number of elements in any odd sized list\n",
    "def get_number_of_elements(some_odd_list):\n",
    "    n = 0\n",
    "    \n",
    "    for l in some_odd_list:\n",
    "        if isinstance(l, list):\n",
    "            n += get_number_of_elements(l)\n",
    "        else:\n",
    "            n += 1\n",
    "    return n\n",
    "\n",
    "n = get_number_of_elements(some_odd_list=SLR)\n",
    "n"
   ]
  },
  {
   "cell_type": "code",
   "execution_count": 42,
   "metadata": {},
   "outputs": [
    {
     "data": {
      "text/plain": [
       "array([[0., 0., 0.],\n",
       "       [0., 0., 1.],\n",
       "       [0., 1., 0.],\n",
       "       [0., 1., 1.],\n",
       "       [1., 0., 0.],\n",
       "       [1., 0., 1.],\n",
       "       [1., 1., 0.],\n",
       "       [1., 1., 1.],\n",
       "       [1., 2., 0.],\n",
       "       [1., 2., 1.],\n",
       "       [1., 3., 0.],\n",
       "       [1., 3., 1.],\n",
       "       [2., 0., 0.],\n",
       "       [2., 0., 1.],\n",
       "       [3., 0., 0.],\n",
       "       [3., 0., 1.],\n",
       "       [3., 1., 0.],\n",
       "       [3., 1., 1.],\n",
       "       [3., 2., 0.],\n",
       "       [3., 2., 1.]])"
      ]
     },
     "execution_count": 42,
     "metadata": {},
     "output_type": "execute_result"
    }
   ],
   "source": [
    "#                          get the list of indexes\n",
    "idx_arr = np.zeros((get_number_of_elements(SLR),3))\n",
    "count = 0\n",
    "for r in range(len(SLR)):\n",
    "    for c in range(len(SLR[r])):\n",
    "        for rc in range(len(SLR[r][c])):\n",
    "            idx_arr[count,0] = r\n",
    "            idx_arr[count,1] = c\n",
    "            idx_arr[count,2] = rc\n",
    "            count += 1\n",
    "idx_arr "
   ]
  },
  {
   "cell_type": "code",
   "execution_count": null,
   "metadata": {},
   "outputs": [],
   "source": []
  },
  {
   "cell_type": "code",
   "execution_count": null,
   "metadata": {},
   "outputs": [],
   "source": []
  },
  {
   "cell_type": "code",
   "execution_count": null,
   "metadata": {},
   "outputs": [],
   "source": []
  },
  {
   "cell_type": "code",
   "execution_count": null,
   "metadata": {},
   "outputs": [],
   "source": []
  },
  {
   "cell_type": "code",
   "execution_count": null,
   "metadata": {},
   "outputs": [],
   "source": []
  },
  {
   "cell_type": "code",
   "execution_count": null,
   "metadata": {},
   "outputs": [],
   "source": []
  },
  {
   "cell_type": "code",
   "execution_count": null,
   "metadata": {},
   "outputs": [],
   "source": []
  },
  {
   "cell_type": "code",
   "execution_count": null,
   "metadata": {},
   "outputs": [],
   "source": []
  },
  {
   "cell_type": "code",
   "execution_count": null,
   "metadata": {},
   "outputs": [],
   "source": []
  },
  {
   "cell_type": "code",
   "execution_count": null,
   "metadata": {},
   "outputs": [],
   "source": []
  },
  {
   "cell_type": "code",
   "execution_count": null,
   "metadata": {},
   "outputs": [],
   "source": []
  },
  {
   "cell_type": "code",
   "execution_count": null,
   "metadata": {},
   "outputs": [],
   "source": []
  },
  {
   "cell_type": "code",
   "execution_count": 2,
   "metadata": {},
   "outputs": [
    {
     "name": "stdout",
     "output_type": "stream",
     "text": [
      "3 diminsional tensor A:\n",
      " [[[ 1.  2.]\n",
      "  [ 3.  4.]\n",
      "  [ 5.  6.]]\n",
      "\n",
      " [[ 7.  8.]\n",
      "  [ 9. 10.]\n",
      "  [11. 12.]]] \n",
      "\n",
      " 1\tA[0,0,0] =   1\n",
      " 2\tA[0,0,1] =   2\n",
      " 3\tA[0,1,0] =   3\n",
      " 4\tA[0,1,1] =   4\n",
      " 5\tA[0,2,0] =   5\n",
      " 6\tA[0,2,1] =   6\n",
      " 7\tA[1,0,0] =   7\n",
      " 8\tA[1,0,1] =   8\n",
      " 9\tA[1,1,0] =   9\n",
      "10\tA[1,1,1] =  10\n",
      "11\tA[1,2,0] =  11\n",
      "12\tA[1,2,1] =  12\n"
     ]
    }
   ],
   "source": [
    "import numpy as np\n",
    "#                                define\n",
    "n_d1 = 2\n",
    "n_d2 = 3\n",
    "n_d3 = 2\n",
    "n = n_d1 * n_d2 * n_d3\n",
    "\n",
    "#                                allocate\n",
    "n_d_idx = np.cumsum(np.ones(n))\n",
    "n_d_arr = n_d_idx.reshape(n_d1, n_d2, n_d3)\n",
    "print('3 diminsional tensor A:\\n',n_d_arr,'\\n')\n",
    "\n",
    "#                                index & iterate\n",
    "d2_idx = -1\n",
    "d1_idx = -1\n",
    "for idx in n_d_idx:\n",
    "    d3_idx = int(np.mod(idx+n_d3-1, n_d3))\n",
    "    if d3_idx == 0:\n",
    "        d2_idx += 1\n",
    "        d2_idx = int(np.mod(d2_idx, n_d2))\n",
    "        if d2_idx == 0:\n",
    "            d1_idx += 1\n",
    "            d1_idx = int(np.mod(d1_idx, n_d1))\n",
    "            \n",
    "    print('%2i\\tA[%i,%i,%i] = %3i'%(idx, d1_idx, d2_idx, d3_idx, n_d_arr[d1_idx, d2_idx, d3_idx]))"
   ]
  },
  {
   "cell_type": "code",
   "execution_count": null,
   "metadata": {},
   "outputs": [],
   "source": []
  }
 ],
 "metadata": {
  "kernelspec": {
   "display_name": "Python 3",
   "language": "python",
   "name": "python3"
  },
  "language_info": {
   "codemirror_mode": {
    "name": "ipython",
    "version": 3
   },
   "file_extension": ".py",
   "mimetype": "text/x-python",
   "name": "python",
   "nbconvert_exporter": "python",
   "pygments_lexer": "ipython3",
   "version": "3.6.7"
  }
 },
 "nbformat": 4,
 "nbformat_minor": 2
}
