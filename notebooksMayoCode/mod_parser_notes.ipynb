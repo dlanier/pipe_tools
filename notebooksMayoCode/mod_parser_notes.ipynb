{
 "cells": [
  {
   "cell_type": "markdown",
   "metadata": {},
   "source": [
    "[parser on dev branch](https://git.ncsa.illinois.edu/mayomics/MayomicsVC/tree/dev/src/python) <br>\n",
    "\n",
    "# Fix It Notes: \n",
    "    Keep the Good Stuff, Fix the Bad Stuff\n",
    "    \n",
    "## Parser object calls *fill_in_json_template* \n",
    "1) **read_json_file** - working as advertised, logs errors in an expected format. <br>\n",
    "2) **read config inputs** - OK until **validate_key_value_pairs**                     - coupled redo <br>\n",
    "3) **combine_input_read_arrays** - very tightly coupled to germline master workflow   - coupled redo <br>\n",
    "4) **insert_values_into_dict** - very tightly coupled to germline master workflow     - coupled redo <br>\n",
    "5) **find_variables_in_JSON_not_in_config** - buried exceptions list                  - direct fix-up <br>\n",
    "\n",
    "## Refactoring Overview\n",
    "1) Keep existing **config_parser.py** and add input options to accept deeper arrays\n",
    "2) Refactor **parsing.py** \n",
    "    * Use pythonic types that work directly with standar library json.\n",
    "        * Use dictionary type all the way through\n",
    "            * Check input key-values against input template types\n",
    "            * function for each template type with multi-mayo types (magic strings)\n",
    "        * Redefine the allowed **value** types to include \n",
    "            * extra options strings\n",
    "            * higher diminsional arrays\n",
    "    * Workflow specific functions use workflow specific options validate the inputs.\n"
   ]
  },
  {
   "cell_type": "code",
   "execution_count": null,
   "metadata": {},
   "outputs": [],
   "source": []
  }
 ],
 "metadata": {
  "kernelspec": {
   "display_name": "Python 3",
   "language": "python",
   "name": "python3"
  },
  "language_info": {
   "codemirror_mode": {
    "name": "ipython",
    "version": 3
   },
   "file_extension": ".py",
   "mimetype": "text/x-python",
   "name": "python",
   "nbconvert_exporter": "python",
   "pygments_lexer": "ipython3",
   "version": "3.6.7"
  }
 },
 "nbformat": 4,
 "nbformat_minor": 2
}
