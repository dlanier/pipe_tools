{
 "cells": [
  {
   "cell_type": "markdown",
   "metadata": {},
   "source": [
    "Bug list:\n",
    "\n",
    "    README.md\n",
    "        * 2 dead links on README.md --  Special modules section ???\n",
    "        * github.com/ncsa/Genomics_MGC_GenomeGPS_CromwelWDL/blob/dev/src/AlignmentStage_WDL/Tasks/PreExec_QC.wdl\n",
    "        * __Genomics_MGC_GenomeGPS_CromwelWDL__ DNE\n",
    "        * N/A ? enclose command blocks with <<< >>> (section: Scripting peculiarities imposed by WDL ) ?\n",
    "        * ?? only seen in archived section ??"
   ]
  },
  {
   "cell_type": "markdown",
   "metadata": {},
   "source": [
    "[youtube Mayo Bioinformatics Mayomics GPS](https://www.youtube.com/watch?v=t6TIT2hAkyk) <br>\n",
    "\n",
    "    Genome GPS is the comprehensive secondary analysis pipeline for next-generation sequencing data at Mayo Clinic. \n",
    "    Secondary analysis entails three steps: \n",
    "        * alignment\n",
    "            * FASTQ -> FASTQC -> BWA-MEM Novoalign\n",
    "            * BAM - MarkDuplicates\n",
    "        * single nucleotide and small insertion/deletion variant calling\n",
    "        \n",
    "        * structural variation discovery & summarizing a report\n",
    "\n",
    "[ncsa MayomicsVC](https://github.com/ncsa/MayomicsVC) <br>\n",
    "\n",
    "    Modularity:\n",
    "        * BAM cleaning\n",
    "        * Germline variant calling\n",
    "        * Somatic variant calling\n",
    "        * Copy number variant identification\n",
    "        \n",
    "    File Naming Conventions (naming of tasks, workflows & files):\n",
    "        * Task            : References the command that is run\n",
    "        * Task Names      : Reference functionality and end with \"Task\"\n",
    "        * TestTask Names  : \"Call\" then (ironically) end with (inherited) \"Task\"\n",
    "        * test Task       : start with \"Test\" and name of the script imported\n",
    "        * test stage      : start with \"Test\" name the stage, and end with \"Stage\"\n",
    "        * Alias Names     : import ... ALLCAPSDUPLICATEOFFLIENAMEASDESCRIBEDHEREABOVE\n",
    "        \n",
    "    WDL command block peccadillos:\n",
    "        * peccadillo is peculiar S.T. it did not apply.\n",
    "        \n",
    "[would Edgar Dijkstra use WDL?](https://homepages.cwi.nl/~storm/teaching/reader/Dijkstra68.pdf) <br>"
   ]
  },
  {
   "cell_type": "code",
   "execution_count": null,
   "metadata": {},
   "outputs": [],
   "source": []
  }
 ],
 "metadata": {
  "kernelspec": {
   "display_name": "Python 3",
   "language": "python",
   "name": "python3"
  },
  "language_info": {
   "codemirror_mode": {
    "name": "ipython",
    "version": 3
   },
   "file_extension": ".py",
   "mimetype": "text/x-python",
   "name": "python",
   "nbconvert_exporter": "python",
   "pygments_lexer": "ipython3",
   "version": "3.6.7"
  }
 },
 "nbformat": 4,
 "nbformat_minor": 2
}
