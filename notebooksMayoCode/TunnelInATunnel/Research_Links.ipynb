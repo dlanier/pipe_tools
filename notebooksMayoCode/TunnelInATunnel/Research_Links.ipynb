{
 "cells": [
  {
   "cell_type": "markdown",
   "metadata": {},
   "source": [
    "****\n",
    "# NCSA Roland Haas \"How to...\" Aug 30, 2018 \n",
    "[Jupyter Notevbooks on Blue Waters](https://insidehpc.com/2018/08/tutorial-use-jupyter-notebooks/) <br>\n",
    "[parsl](https://github.com/Parsl/parsl) <br>\n",
    "[yt project](https://yt-project.org/) <br>"
   ]
  },
  {
   "cell_type": "markdown",
   "metadata": {},
   "source": [
    "****\n",
    "# pyHPC: (python 2 notebooks)\n",
    "[pyHPC github repositories](https://github.com/pyHPC) <br>\n",
    "[Tunnel Script pyHPC](https://github.com/pyHPC/ipynbhpc.git) <br>\n",
    "[Tutorial pyHPC](https://github.com/pyHPC/pyhpc-tutorial) <br>"
   ]
  },
  {
   "cell_type": "markdown",
   "metadata": {},
   "source": [
    "# submit multiple jobs from notebook\n",
    "[Corentin Cadiou ipython qsub](https://github.com/cphyc/ipython-qsub) <br>\n",
    "[Corentin Cadiou batch generator](https://github.com/cphyc/batch_generator) <br>\n",
    "[Corentin Cadiou ipyparallel](https://github.com/cphyc/ipyparallel) <br>\n",
    "[docs ipyparallel](https://ipyparallel.readthedocs.io/en/latest/) <br>\n",
    "[ipyparallel](https://github.com/ipython/ipyparallel) <br>"
   ]
  },
  {
   "cell_type": "markdown",
   "metadata": {},
   "source": [
    "## notebook run on PBS\n",
    "[HPC notebooks pdf zrxiv.org](https://arxiv.org/pdf/1807.09929.pdf) <br>\n",
    "[jupyterhub batchspawner](https://github.com/jupyterhub/batchspawner) <br>\n",
    "[single user batchspawner github](https://github.com/jupyterhub/batchspawner/blob/master/batchspawner/singleuser.py) <br>\n",
    "[jupyterhub on Comet](https://github.com/jupyterhub/jupyterhub-deploy-hpc) <br>\n",
    "[nb on clusters](https://matgenb.materialsvirtuallab.org/2017/05/11/Running-Jupyter-Notebook-on-clusters.html) <br>\n",
    "****\n",
    "[HPC Tunnel](https://ipyrad.readthedocs.io/HPC_Tunnel.html#starting-a-jupyter-notebook-remotely-hpc) <br>\n",
    "****"
   ]
  },
  {
   "cell_type": "markdown",
   "metadata": {},
   "source": [
    "****\n",
    "## with qsub scripts:\n",
    "[Cornell](https://www2.vrdc.cornell.edu/news/ecco/step-4-using-ecco/running-a-jupyter-notebook-ipython-kernel-on-a-compute-node/) <br>\n",
    "[Yale](https://research.computing.yale.edu/support/hpc/guides/running-jupyter-notebooks-clusters) <br>\n",
    "[Lars Vilhuber](https://gist.github.com/larsvilhuber/2e720788172f3a399f83921c6aaddd0f) <br>\n",
    "\n",
    "****\n",
    "[Andrea Zonca Intro](https://zonca.github.io/2013/12/run-ipython-notebook-on-HPC-cluster-via-PBS.html) <br>\n",
    "[python scripted qsub](https://github.com/pyHPC/ipynbhpc/blob/master/ipynbhpc) <br>\n",
    "[zonca runipynb.pbs](https://gist.github.com/zonca/5840518) <br>\n",
    "\n",
    "```bash\n",
    "#PBS -q reg_medium\n",
    "#PBS -lnodes=1:ppn=1\n",
    "#PBS -l walltime=08:00:00\n",
    "#PBS -e myjob.$PBS_JOBID.err\n",
    "#PBS -o myjob$PBS_JOBID.out\n",
    "#PBS -V\n",
    "\n",
    "cd (DOLLARSIGN)PBS_O_WORKDIR\n",
    "\n",
    "ipython notebook --pylab=inline &\n",
    "ssh LOGINNODEURL -R 8900:127.0.0.1:8900 sleep 8h\n",
    "```\n",
    "****\n",
    "[jupyter-notebook-nersc-edison](https://zonca.github.io/2015/09/ipython-jupyter-notebook-nersc-edison.html) <br>\n",
    "[zonca notebook_job.pbs](https://gist.github.com/zonca/357d36347fd5addca8f0) <br>\n",
    "```bash\n",
    "#!/bin/bash\n",
    "# this is execute by the batch jon on the computing node\n",
    "# choose a unique port number between 7000 and 9999\n",
    "export PORT=8181\n",
    "# tunnel between the computing node and one edison login node\n",
    "ssh -o StrictHostKeyChecking=no -f -N -p 22 -R (DOLLARSIGN)PORT:localhost:(DOLLARSIGN)PORT (DOLLARSIGN)PBS_O_HOST\n",
    "# launch IPython notebook\n",
    "ipython notebook --port=(DOLLARSIGN)PORT --no-browser\n",
    "```\n",
    "****\n",
    "```bash\n",
    "#!/bin/bash -l\n",
    "#### use ccm_queue for longer jobs, queuing slower\n",
    "####PBS -q ccm_queue\n",
    "#### can use ccm_int for short 30 min jobs, queue is quicker\n",
    "####PBS -q ccm_int\n",
    "#PBS -l mppwidth=24\n",
    "#PBS -l walltime=0:30:00\n",
    "# send email when job starts, finishes or on error\n",
    "#PBS -m abe\n",
    "#PBS -o notebook.log\n",
    "cd (DOLLARSIGN)PBS_O_WORKDIR\n",
    "# need CCM to have access to SSH\n",
    "module load ccm\n",
    "# set full path to the launch_notebook_and_tunnel_to_login.sh script\n",
    "ccmrun sh ~/notebook/launch_notebook_and_tunnel_to_login.sh\n",
    "```\n",
    "****\n",
    "```bash\n",
    "#!/bin/bash\n",
    "# run this on your laptop\n",
    "# tunnels via SSH a port between laptop and Edison login node\n",
    "# then you can connect to localhost:8181 and access 8181 on \n",
    "# edison login node\n",
    "# change YOURUSERNAME with your username on Edison\n",
    "# call the script as bash tunnel_laptop_login.sh ##\n",
    "# where ## is the 2 digits edison login node number, e.g. 03\n",
    "[ (DOLLARSIGN)# -eq 0 ] && { echo \"Usage: bash (DOLLARSIGN)0 ##; where ## is 2 digits edison login node number, e.g. 03\"; exit 1; }\n",
    "ssh -f -N -L 8181:localhost:8181 YOURUSERNAME@edison(DOLLARSIGN){1}-eth5.nersc.gov\n",
    "```\n"
   ]
  },
  {
   "cell_type": "code",
   "execution_count": 3,
   "metadata": {},
   "outputs": [
    {
     "name": "stdout",
     "output_type": "stream",
     "text": [
      "ncsa-p10e4066-ofc.ncsa.illinois.edu\r\n"
     ]
    }
   ],
   "source": [
    "!hostname"
   ]
  },
  {
   "cell_type": "markdown",
   "metadata": {},
   "source": [
    "## AWS maybe:\n",
    "[ipcluster / IPython](https://ipython.readthedocs.io/en/stable/) <br>\n",
    "[OLD ipcluster / IPython](https://ipython.org/ipython-doc/3/parallel/parallel_process.html) <br>\n",
    "[ipyparallel doc](https://ipyparallel.readthedocs.io/en/latest/) <br>"
   ]
  },
  {
   "cell_type": "code",
   "execution_count": 4,
   "metadata": {},
   "outputs": [],
   "source": [
    "# import yt"
   ]
  },
  {
   "cell_type": "code",
   "execution_count": null,
   "metadata": {},
   "outputs": [],
   "source": []
  }
 ],
 "metadata": {
  "kernelspec": {
   "display_name": "Python 3",
   "language": "python",
   "name": "python3"
  },
  "language_info": {
   "codemirror_mode": {
    "name": "ipython",
    "version": 3
   },
   "file_extension": ".py",
   "mimetype": "text/x-python",
   "name": "python",
   "nbconvert_exporter": "python",
   "pygments_lexer": "ipython3",
   "version": "3.6.5"
  }
 },
 "nbformat": 4,
 "nbformat_minor": 2
}
