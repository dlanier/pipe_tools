{
 "cells": [
  {
   "cell_type": "markdown",
   "metadata": {},
   "source": [
    "## iforge data location clues:\n",
    "\n",
    "### Community data:\n",
    "[wiki Somatic Validation ](https://wiki.ncsa.illinois.edu/display/MSD/Somatic+Validation) <br>\n",
    "\n",
    "\n",
    "### Josh's data:\n",
    "* Config current op: /projects/bioinformatics/jallen17/Config/\n",
    "* Datapacks Josh Cp: /projects/bioinformatics/jallen17/Inputs\n",
    "* Reference Genomes: /projects/bioinformatics/jallen17/Reference\n",
    "* Intermediate Data: /projects/bioinformatics/jallen17/Delivery\n",
    "* Simulated ?? Data: /projects/bioinformatics/DataPacks/human/Hg38_chr20_21_22_simulated_data_Jan_2018/fastqs\n",
    "\n",
    "#### put intermediate data:\n",
    "* /projects/mgc/Project1/MayomicsVC_MayoTesting"
   ]
  },
  {
   "cell_type": "markdown",
   "metadata": {},
   "source": [
    "## data links:\n",
    "[gatk broad institute ](https://gatkforums.broadinstitute.org/gatk/discussion/2798/howto-prepare-a-reference-for-use-with-bwa-and-gatk) <br>"
   ]
  },
  {
   "cell_type": "code",
   "execution_count": null,
   "metadata": {},
   "outputs": [],
   "source": []
  }
 ],
 "metadata": {
  "kernelspec": {
   "display_name": "Python 3",
   "language": "python",
   "name": "python3"
  },
  "language_info": {
   "codemirror_mode": {
    "name": "ipython",
    "version": 3
   },
   "file_extension": ".py",
   "mimetype": "text/x-python",
   "name": "python",
   "nbconvert_exporter": "python",
   "pygments_lexer": "ipython3",
   "version": "3.6.1"
  }
 },
 "nbformat": 4,
 "nbformat_minor": 2
}
