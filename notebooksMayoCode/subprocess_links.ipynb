{
 "cells": [
  {
   "cell_type": "markdown",
   "metadata": {},
   "source": [
    "```python\n",
    "# Nix Nix -- python two stuff USE import subprocess\n",
    "import commands\n",
    "```\n",
    "### Python standard library functionality\n",
    "[std-lib os](https://docs.python.org/3/library/os.html) <br>\n",
    "[std-lib sys](https://docs.python.org/3/library/sys.html) <br>\n",
    "[std-lib configparser](https://docs.python.org/3/library/configparser.html#module-configparser) <br>\n",
    "[std-lib shlex](https://docs.python.org/3/library/shlex.html) <br>\n",
    "[std-lib  subprocess](https://docs.python.org/3/library/subprocess.html?highlight=popen#module-subprocess) <br>\n",
    "[std-lib json](https://docs.python.org/3/library/json.html#module-json) <br>\n",
    "[std-lib json CLI](https://docs.python.org/3/library/json.html#json-commandline) <br>\n",
    "****\n",
    "[stackoverflow call extern](https://stackoverflow.com/questions/89228/calling-an-external-command-in-python) <br>\n",
    "[see usage in: ipynbhpc (qsub tunnel)](https://github.com/pyHPC/ipynbhpc/blob/master/ipynbhpc) <br>\n",
    "****\n",
    "[stackoverflow json write](https://stackoverflow.com/questions/12309269/how-do-i-write-json-data-to-a-file) <br>\n",
    "[stackoverflow json read](https://stackoverflow.com/questions/12451431/loading-and-parsing-a-json-file-with-multiple-json-objects-in-python) <br>"
   ]
  },
  {
   "cell_type": "code",
   "execution_count": 2,
   "metadata": {},
   "outputs": [],
   "source": [
    "import os\n",
    "import sys\n",
    "\n",
    "import numpy as np\n",
    "import pandas as pd\n",
    "\n",
    "import configparser\n",
    "import shlex\n",
    "import subprocess"
   ]
  },
  {
   "cell_type": "markdown",
   "metadata": {},
   "source": [
    "```python\n",
    "# Grow up: Use python 3 - else need extra mumbo & aggravate your future\n",
    "import json\n",
    "\n",
    "data = []\n",
    "with open('file') as f:\n",
    "    for line in f:\n",
    "        data.append(json.loads(line))\n",
    "\n",
    "with open('data.json', 'w') as outfile:\n",
    "    json.dump(data, outfile)\n",
    "```\n",
    "```python\n",
    "import shlex, subprocess\n",
    "command_line = input()\n",
    ">>> /bin/vikings -input eggs.txt -output \"spam spam.txt\" -cmd \"echo '$MONEY'\"\n",
    "args = shlex.split(command_line)\n",
    "\n",
    "pyA = subprocess.Popen(args, \n",
    "                       bufsize=-1, \n",
    "                       executable=None, \n",
    "                       stdin=None, \n",
    "                       stdout=None, \n",
    "                       stderr=None, \n",
    "                       preexec_fn=None, \n",
    "                       close_fds=True, \n",
    "                       shell=False, \n",
    "                       cwd=None, \n",
    "                       env=None, \n",
    "                       universal_newlines=None, \n",
    "                       startupinfo=None, \n",
    "                       creationflags=0, \n",
    "                       restore_signals=True, \n",
    "                       start_new_session=False, \n",
    "                       pass_fds=(), \n",
    "                       *, \n",
    "                       encoding=None, \n",
    "                       errors=None, \n",
    "                       text=None)\n",
    "                       \n",
    "pyB = subprocess.run(args, *, \n",
    "                     stdin=None, \n",
    "                     input=None, \n",
    "                     stdout=None, \n",
    "                     stderr=None, \n",
    "                     capture_output=False, \n",
    "                     shell=False, \n",
    "                     cwd=None, \n",
    "                     timeout=None, \n",
    "                     check=False, \n",
    "                     encoding=None, \n",
    "                     errors=None, \n",
    "                     text=None, \n",
    "                     env=None, \n",
    "                     universal_newlines=None)\n",
    "```\n",
    "\n",
    "```python\n",
    "import shlex\n",
    "import subprocess\n",
    "subprocess.run(shlex.split('ls -l'))\n",
    "```"
   ]
  },
  {
   "cell_type": "code",
   "execution_count": 5,
   "metadata": {},
   "outputs": [
    {
     "name": "stdout",
     "output_type": "stream",
     "text": [
      "<class 'subprocess.CompletedProcess'>\n",
      "CompletedProcess(args=['python3', '--version'], returncode=0)\n"
     ]
    }
   ],
   "source": [
    "completed_process = subprocess.run(shlex.split('python3 --version'))\n",
    "print(type(completed_process))\n",
    "print(completed_process)"
   ]
  },
  {
   "cell_type": "code",
   "execution_count": 3,
   "metadata": {},
   "outputs": [
    {
     "data": {
      "text/plain": [
       "environ{'TERM_PROGRAM': 'Apple_Terminal',\n",
       "        'SHELL': '/bin/bash',\n",
       "        'TERM': 'xterm-color',\n",
       "        'TMPDIR': '/var/folders/gf/ybz3wzn55m139k_4dw2v_tvm0000gn/T/',\n",
       "        'Apple_PubSub_Socket_Render': '/private/tmp/com.apple.launchd.ERnXdsNTMw/Render',\n",
       "        'TERM_PROGRAM_VERSION': '404.1',\n",
       "        'TERM_SESSION_ID': '60A69E2C-3983-4CF5-AD99-59F8B841A9B2',\n",
       "        'USER': 'mojo',\n",
       "        'SSH_AUTH_SOCK': '/private/tmp/com.apple.launchd.XsoO1yyBEr/Listeners',\n",
       "        'PATH': '/Library/Frameworks/Python.framework/Versions/3.6/bin:/Users/mojo/zzGCloud/google-cloud-sdk/bin:/usr/local/go/bin:/Library/Frameworks/Python.framework/Versions/3.6/bin:/Library/Frameworks/Python.framework/Versions/3.7/bin:/Library/Frameworks/Python.framework/Versions/3.5/bin:/Library/Frameworks/Python.framework/Versions/3.5/lib/python3.5:/usr/local/bin:/usr/bin:/bin:/usr/sbin:/sbin:/Library/TeX/texbin:/usr/local/go/bin:/opt/X11/bin',\n",
       "        'PWD': '/Users/mojo',\n",
       "        'LANG': 'en_US.UTF-8',\n",
       "        'XPC_FLAGS': '0x0',\n",
       "        'XPC_SERVICE_NAME': '0',\n",
       "        'SHLVL': '1',\n",
       "        'HOME': '/Users/mojo',\n",
       "        'LOGNAME': 'mojo',\n",
       "        'GOPATH': '/Users/mojo/go',\n",
       "        'DISPLAY': '/private/tmp/com.apple.launchd.bD2ipgEoe4/org.macosforge.xquartz:0',\n",
       "        'AIRFLOW_HOME': '/Users/mojo/zzAirFlowHome/',\n",
       "        '_': '/Library/Frameworks/Python.framework/Versions/3.6/bin/jupyter',\n",
       "        '__CF_USER_TEXT_ENCODING': '0x1F5:0x0:0x0',\n",
       "        '__PYVENV_LAUNCHER__': '/Library/Frameworks/Python.framework/Versions/3.6/bin/python3',\n",
       "        'JPY_PARENT_PID': '2860',\n",
       "        'CLICOLOR': '1',\n",
       "        'PAGER': 'cat',\n",
       "        'GIT_PAGER': 'cat',\n",
       "        'MPLBACKEND': 'module://ipykernel.pylab.backend_inline'}"
      ]
     },
     "execution_count": 3,
     "metadata": {},
     "output_type": "execute_result"
    }
   ],
   "source": [
    "os.environ"
   ]
  },
  {
   "cell_type": "code",
   "execution_count": 4,
   "metadata": {},
   "outputs": [
    {
     "name": "stdout",
     "output_type": "stream",
     "text": [
      "2860\n"
     ]
    }
   ],
   "source": [
    "print(int(os.environ.get('JPY_PARENT_PID')))"
   ]
  },
  {
   "cell_type": "code",
   "execution_count": null,
   "metadata": {},
   "outputs": [],
   "source": []
  }
 ],
 "metadata": {
  "kernelspec": {
   "display_name": "Python 3",
   "language": "python",
   "name": "python3"
  },
  "language_info": {
   "codemirror_mode": {
    "name": "ipython",
    "version": 3
   },
   "file_extension": ".py",
   "mimetype": "text/x-python",
   "name": "python",
   "nbconvert_exporter": "python",
   "pygments_lexer": "ipython3",
   "version": "3.6.5"
  }
 },
 "nbformat": 4,
 "nbformat_minor": 2
}
