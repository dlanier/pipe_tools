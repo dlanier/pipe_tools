{
 "cells": [
  {
   "cell_type": "markdown",
   "metadata": {},
   "source": [
    "# Integration Test files: Generate, Populate, Validate\n",
    "\n",
    "## Run java code to generate the template.\n",
    "```bash\n",
    "#                                load java version \"1.8.0_112\", cromwell, python\n",
    "source /etc/profile.d/modules.sh\n",
    "module load /usr/local/apps/bioapps/modules/cromwell/cromwell-34;\n",
    "module load python/python-3.6.1;\n",
    "\n",
    "#                                Generate JSON template\n",
    "java -jar WOMTOOL inputs WorkflowFullPath > Dir/BaseName.template.json\n",
    "```\n",
    "## Run python code to populate the template.\n",
    "```bash\n",
    "#                                Populate the JSON template\n",
    "python config_parser.py ConfigsBeingUsed --jsonTemplate Dir/BaseName.template.json -o Dir/BaseName.FilledIn.json;\n",
    "```\n",
    "## Run python code to validate the populate.\n",
    "```bash\n",
    "#                                Validate the JSON template\n",
    "python key_validator.py -i Dir/BaseName.FilledIn.json --KeyTypeFile Dir/key_types.json\n",
    "```"
   ]
  },
  {
   "cell_type": "code",
   "execution_count": 2,
   "metadata": {},
   "outputs": [],
   "source": [
    "import os\n",
    "import sys\n",
    "import numpy as np\n",
    "import pandas as pd\n",
    "\n",
    "sys.path.insert(1, '../src')\n",
    "from integration_test import *"
   ]
  },
  {
   "cell_type": "code",
   "execution_count": 23,
   "metadata": {},
   "outputs": [],
   "source": [
    "#                       Set the local path names:\n",
    "home_dir = os.environ['HOME']\n",
    "run_dir = '/projects/bioinformatics/DEL'\n",
    "code_dir = 'MayomicsVC/src'\n",
    "python_dir = 'python'\n",
    "\n",
    "config_dir = 'Config/mken_abv/Config'\n",
    "jsons_dir = 'Config/mken_abv/Jsons'\n",
    "workflow_file = 'MayomicsVC/src/wdl/GermlineMasterWorkflow.wdl'\n",
    "\n",
    "run_parameters = {}\n",
    "run_parameters['run_dir'] = run_dir\n",
    "run_parameters['python_src_path'] = os.path.join(run_dir, code_dir, python_dir)\n",
    "run_parameters['config_files_dir'] = os.path.join(home_dir, config_dir)\n",
    "run_parameters['json_files_dir'] = os.path.join(home_dir, jsons_dir)\n",
    "run_parameters['workflow_full_filename'] = os.path.join(run_dir, workflow_file)\n",
    "\n",
    "# if os.path.isfile(run_parameters['workflow_full_filename']) == False:\n",
    "#     print('NOT FOUND\\n',run_parameters['workflow_full_filename'])\n",
    "# os.listdir(run_parameters['json_files_dir'])"
   ]
  },
  {
   "cell_type": "code",
   "execution_count": 16,
   "metadata": {},
   "outputs": [
    {
     "data": {
      "text/plain": [
       "'/ui/ncsa/lanier4'"
      ]
     },
     "execution_count": 16,
     "metadata": {},
     "output_type": "execute_result"
    }
   ],
   "source": [
    "os.environ['HOME']"
   ]
  },
  {
   "cell_type": "code",
   "execution_count": null,
   "metadata": {},
   "outputs": [],
   "source": []
  }
 ],
 "metadata": {
  "kernelspec": {
   "display_name": "Python 3",
   "language": "python",
   "name": "python3"
  },
  "language_info": {
   "codemirror_mode": {
    "name": "ipython",
    "version": 3
   },
   "file_extension": ".py",
   "mimetype": "text/x-python",
   "name": "python",
   "nbconvert_exporter": "python",
   "pygments_lexer": "ipython3",
   "version": "3.6.1"
  }
 },
 "nbformat": 4,
 "nbformat_minor": 2
}
