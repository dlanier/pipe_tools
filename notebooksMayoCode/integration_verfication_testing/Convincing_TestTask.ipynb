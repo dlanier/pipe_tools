{
 "cells": [
  {
   "cell_type": "markdown",
   "metadata": {},
   "source": [
    "# Convincing Argument for TestTask/WorkflowName.json Requirement\n",
    "    * Standardization accross development team\n",
    "    * Standard for Containerization\n",
    "    \n",
    "## Current Development Process\n",
    "    * Script development is tested with a long command line string.\n",
    "    * Task.wdl is written with variables renamed from long command line string.\n",
    "    * TestTask.wdl is constructed with a workflow using Task.wdl variables implicitly.\n",
    "    * Tester searches for days or weeks to find the config variables untill one of the \"good ole programmers\" shares the config variables file he or she spent hours or days putting togeather.\n",
    "    * The code changes during the config search time and the process starts all over again."
   ]
  },
  {
   "cell_type": "code",
   "execution_count": 1,
   "metadata": {},
   "outputs": [],
   "source": [
    "import os\n",
    "import sys\n",
    "import numpy as np\n",
    "import pandas as pd\n",
    "\n",
    "import yaml"
   ]
  },
  {
   "cell_type": "markdown",
   "metadata": {},
   "source": [
    "## Next Cell for hand tuned pathnames for test-task wdl file"
   ]
  },
  {
   "cell_type": "code",
   "execution_count": 2,
   "metadata": {},
   "outputs": [
    {
     "name": "stdout",
     "output_type": "stream",
     "text": [
      "Overwriting ../../data/TestTasks/Testmutect.PATHREF.yml\n"
     ]
    }
   ],
   "source": [
    "%%writefile ../../data/TestTasks/Testmutect.PATHREF.yml\n",
    "BIOAPPS:       /usr/local/apps/bioapps\n",
    "RUNDIR:        /projects/bioinformatics/DEL\n",
    "RUNENV:        /projects/bioinformatics/DEL/Config\n",
    "SRCDIR:        /projects/bioinformatics/DEL/MayomicsVC\n",
    "GATKDATA:      /projects/bioinformatics/DataPacks/human/gatk_bundle_Oct_2017\n",
    "REFERENCEDATA: /projects/bioinformatics/DataPacks/human\n",
    "NORMALDATA:    /projects/mgc/Project_1/BR/MayomicsVC-Dev\n",
    "TUMORDATA:     /projects/bioinformatics/MRW/MayomicsVC-Dev"
   ]
  },
  {
   "cell_type": "code",
   "execution_count": 3,
   "metadata": {},
   "outputs": [
    {
     "name": "stdout",
     "output_type": "stream",
     "text": [
      "             BIOAPPS: /usr/local/apps/bioapps\n",
      "              RUNDIR: /projects/bioinformatics/DEL\n",
      "              RUNENV: /projects/bioinformatics/DEL/Config\n",
      "              SRCDIR: /projects/bioinformatics/DEL/MayomicsVC\n",
      "            GATKDATA: /projects/bioinformatics/DataPacks/human/gatk_bundle_Oct_2017\n",
      "       REFERENCEDATA: /projects/bioinformatics/DataPacks/human\n",
      "          NORMALDATA: /projects/mgc/Project_1/BR/MayomicsVC-Dev\n",
      "           TUMORDATA: /projects/bioinformatics/MRW/MayomicsVC-Dev\n"
     ]
    }
   ],
   "source": [
    "def get_run_file_dict(dir_data_fullfilename):\n",
    "    \"\"\" Read system input arguments run directory name and run_file into a dictionary.\n",
    "    \n",
    "    Adapted from     --    get_run_parameters(run_directory, run_file): \n",
    "    https://github.com/KnowEnG/KnowEnG_Pipelines_Library/tree/master/knpackage/toolbox.py\n",
    "    \n",
    "    Args:\n",
    "        run_directory: directory where run_file is expected.\n",
    "\n",
    "    Returns:\n",
    "        run_parameters: python dictionary of name - value parameters.\n",
    "    \"\"\"\n",
    "    with open(dir_data_fullfilename, 'r') as file_handle:\n",
    "        run_dirs_dict = yaml.load(file_handle)\n",
    "\n",
    "    return run_dirs_dict\n",
    "\n",
    "TestTask_dir = '/Users/mojo/git_clone/dlanier/pipe_tools/data/TestTasks'\n",
    "TestTask_yaml_file = 'Testmutect.PATHREF.yml'\n",
    "dir_data_fullfilename = os.path.join(TestTask_dir, TestTask_yaml_file)\n",
    "\n",
    "if os.path.isfile(dir_data_fullfilename):\n",
    "    dirs_dict = get_run_file_dict(dir_data_fullfilename)\n",
    "    for dir_alias, dir_name in dirs_dict.items():\n",
    "        print('%20s: %s'%(dir_alias, dir_name))\n",
    "else:\n",
    "    print(dir_data_fullfilename, '\\nNot found')"
   ]
  },
  {
   "cell_type": "markdown",
   "metadata": {},
   "source": [
    "## Next Cell for sumulated WOMTOOL & Python FilledIn template - hand tune path names"
   ]
  },
  {
   "cell_type": "code",
   "execution_count": 4,
   "metadata": {},
   "outputs": [
    {
     "name": "stdout",
     "output_type": "stream",
     "text": [
      "Overwriting ../../data/TestTasks/Testmutect.PATHREF.json\n"
     ]
    }
   ],
   "source": [
    "%%writefile ../../data/TestTasks/Testmutect.PATHREF.json\n",
    "{\n",
    "    \"CallMutectTask.mutect.BashPreamble\": \"RUNENV/src/shell/shell_preamble.sh\",\n",
    "    \"CallMutectTask.mutect.BashSharedFunctions\": \"SRCDIR/src/shell/shared_functions.sh\",\n",
    "    \"CallMutectTask.mutect.Bcftools\": \"BIOAPPS/bcftools/bcftools-1.5\",\n",
    "    \"CallMutectTask.mutect.Bgzip\": \"BIOAPPS/bcftools/htslib-1.3.1/bin\",\n",
    "    \"CallMutectTask.mutect.DebugMode\": \"\",\n",
    "    \"CallMutectTask.mutect.FixDPScript\": \"SRCDIR/src/perl/fixDP.pl\",\n",
    "    \"CallMutectTask.mutect.GatkJar\": \"BIOAPPS/gatk/GenomeAnalysisTK-3.8-1-0-gf15c1c3ef\",\n",
    "    \"CallMutectTask.mutect.Java\": \"BIOAPPS/java/java-1.8-64bit/bin\",\n",
    "    \"CallMutectTask.mutect.MutectEnvProfile\": \"RUNDIR/Config/MutectEnvProfile.file\",\n",
    "    \"CallMutectTask.mutect.MutectExtraOptionsString\": \"--dbsnp REFERENCEDATA/gatk_bundle_Oct_2017/gatk_bundle_hg38/dbsnp_138.hg38.vcf\",\n",
    "    \"CallMutectTask.mutect.MutectHardMemLimit\": \"100G\",\n",
    "    \"CallMutectTask.mutect.MutectJavaMemOption\": \"-Xms2G -Xmx8G\",\n",
    "    \"CallMutectTask.mutect.MutectScript\": \"SRCDIR/src/shell/mutect.sh\",\n",
    "    \"CallMutectTask.mutect.MutectSoftMemLimit\": \"100G\",\n",
    "    \"CallMutectTask.mutect.MutectThreads\": \"40\",\n",
    "    \"CallMutectTask.mutect.NormalBais\": \"NORMALDATA/Test_Tumor-Normal_Data/normal_80x_tumor_20x_set/hg38_chr_20_21_22_TN_normal.aligned.sorted.bam.bai\",\n",
    "    \"CallMutectTask.mutect.NormalBams\": \"NORMALDATA/Test_Tumor-Normal_Data/normal_80x_tumor_20x_set/hg38_chr_20_21_22_TN_normal.aligned.sorted.bam\",\n",
    "    \"CallMutectTask.mutect.Ref\": \"REFERENCEDATA/Hg38_chr20_21_22_simulated_data_Jan_2018/reference_and_index/Homo_sapiens_assembly38_chr20_21_22.fasta\",\n",
    "    \"CallMutectTask.mutect.RefAmb\": \"REFERENCEDATA/Hg38_chr20_21_22_simulated_data_Jan_2018/reference_and_index/Homo_sapiens_assembly38_chr20_21_22.fasta.amb\",\n",
    "    \"CallMutectTask.mutect.RefAnn\": \"REFERENCEDATA/Hg38_chr20_21_22_simulated_data_Jan_2018/reference_and_index/Homo_sapiens_assembly38_chr20_21_22.fasta.ann\",\n",
    "    \"CallMutectTask.mutect.RefBwt\": \"REFERENCEDATA/Hg38_chr20_21_22_simulated_data_Jan_2018/reference_and_index/Homo_sapiens_assembly38_chr20_21_22.fasta.bwt\",\n",
    "    \"CallMutectTask.mutect.RefDict\": \"REFERENCEDATA/Hg38_chr20_21_22_simulated_data_Jan_2018/reference_and_index/Homo_sapiens_assembly38_chr20_21_22.dict\",\n",
    "    \"CallMutectTask.mutect.RefFai\": \"REFERENCEDATA/Hg38_chr20_21_22_simulated_data_Jan_2018/reference_and_index/Homo_sapiens_assembly38_chr20_21_22.fasta.fai\",\n",
    "    \"CallMutectTask.mutect.RefPac\": \"REFERENCEDATA/Hg38_chr20_21_22_simulated_data_Jan_2018/reference_and_index/Homo_sapiens_assembly38_chr20_21_22.fasta.pac\",\n",
    "    \"CallMutectTask.mutect.RefSa\": \"REFERENCEDATA/Hg38_chr20_21_22_simulated_data_Jan_2018/reference_and_index/Homo_sapiens_assembly38_chr20_21_22.fasta.sa\",\n",
    "    \"CallMutectTask.mutect.SampleName\": \"WGS_chr1_5X_E0.005_chunk1\",\n",
    "    \"CallMutectTask.mutect.Samtools\": \"BIOAPPS/samtools/samtools-1.5\",\n",
    "    \"CallMutectTask.mutect.TumorBais\": \"TUMORDATA/SharedFunctions/ID_fix/ID_FIX.aligned.sorted.bam.bai\",\n",
    "    \"CallMutectTask.mutect.TumorBams\": \"TUMORDATA/SharedFunctions/ID_fix/ID_FIX.aligned.sorted.bam\"\n",
    "}"
   ]
  },
  {
   "cell_type": "code",
   "execution_count": 5,
   "metadata": {},
   "outputs": [
    {
     "name": "stdout",
     "output_type": "stream",
     "text": [
      "CallMutectTask.mutect.BashPreamble\n",
      "\tRUNENV/src/shell/shell_preamble.sh\n",
      "\n",
      "CallMutectTask.mutect.BashSharedFunctions\n",
      "\tSRCDIR/src/shell/shared_functions.sh\n",
      "\n",
      "CallMutectTask.mutect.Bcftools\n",
      "\tBIOAPPS/bcftools/bcftools-1.5\n",
      "\n",
      "CallMutectTask.mutect.Bgzip\n",
      "\tBIOAPPS/bcftools/htslib-1.3.1/bin\n",
      "\n",
      "CallMutectTask.mutect.DebugMode\n",
      "\t\n",
      "\n",
      "CallMutectTask.mutect.FixDPScript\n",
      "\tSRCDIR/src/perl/fixDP.pl\n",
      "\n",
      "CallMutectTask.mutect.GatkJar\n",
      "\tBIOAPPS/gatk/GenomeAnalysisTK-3.8-1-0-gf15c1c3ef\n",
      "\n",
      "CallMutectTask.mutect.Java\n",
      "\tBIOAPPS/java/java-1.8-64bit/bin\n",
      "\n",
      "CallMutectTask.mutect.MutectEnvProfile\n",
      "\tRUNDIR/Config/MutectEnvProfile.file\n",
      "\n",
      "CallMutectTask.mutect.MutectExtraOptionsString\n",
      "\t--dbsnp REFERENCEDATA/gatk_bundle_Oct_2017/gatk_bundle_hg38/dbsnp_138.hg38.vcf\n",
      "\n",
      "CallMutectTask.mutect.MutectHardMemLimit\n",
      "\t100G\n",
      "\n",
      "CallMutectTask.mutect.MutectJavaMemOption\n",
      "\t-Xms2G -Xmx8G\n",
      "\n",
      "CallMutectTask.mutect.MutectScript\n",
      "\tSRCDIR/src/shell/mutect.sh\n",
      "\n",
      "CallMutectTask.mutect.MutectSoftMemLimit\n",
      "\t100G\n",
      "\n",
      "CallMutectTask.mutect.MutectThreads\n",
      "\t40\n",
      "\n",
      "CallMutectTask.mutect.NormalBais\n",
      "\tNORMALDATA/Test_Tumor-Normal_Data/normal_80x_tumor_20x_set/hg38_chr_20_21_22_TN_normal.aligned.sorted.bam.bai\n",
      "\n",
      "CallMutectTask.mutect.NormalBams\n",
      "\tNORMALDATA/Test_Tumor-Normal_Data/normal_80x_tumor_20x_set/hg38_chr_20_21_22_TN_normal.aligned.sorted.bam\n",
      "\n",
      "CallMutectTask.mutect.Ref\n",
      "\tREFERENCEDATA/Hg38_chr20_21_22_simulated_data_Jan_2018/reference_and_index/Homo_sapiens_assembly38_chr20_21_22.fasta\n",
      "\n",
      "CallMutectTask.mutect.RefAmb\n",
      "\tREFERENCEDATA/Hg38_chr20_21_22_simulated_data_Jan_2018/reference_and_index/Homo_sapiens_assembly38_chr20_21_22.fasta.amb\n",
      "\n",
      "CallMutectTask.mutect.RefAnn\n",
      "\tREFERENCEDATA/Hg38_chr20_21_22_simulated_data_Jan_2018/reference_and_index/Homo_sapiens_assembly38_chr20_21_22.fasta.ann\n",
      "\n",
      "CallMutectTask.mutect.RefBwt\n",
      "\tREFERENCEDATA/Hg38_chr20_21_22_simulated_data_Jan_2018/reference_and_index/Homo_sapiens_assembly38_chr20_21_22.fasta.bwt\n",
      "\n",
      "CallMutectTask.mutect.RefDict\n",
      "\tREFERENCEDATA/Hg38_chr20_21_22_simulated_data_Jan_2018/reference_and_index/Homo_sapiens_assembly38_chr20_21_22.dict\n",
      "\n",
      "CallMutectTask.mutect.RefFai\n",
      "\tREFERENCEDATA/Hg38_chr20_21_22_simulated_data_Jan_2018/reference_and_index/Homo_sapiens_assembly38_chr20_21_22.fasta.fai\n",
      "\n",
      "CallMutectTask.mutect.RefPac\n",
      "\tREFERENCEDATA/Hg38_chr20_21_22_simulated_data_Jan_2018/reference_and_index/Homo_sapiens_assembly38_chr20_21_22.fasta.pac\n",
      "\n",
      "CallMutectTask.mutect.RefSa\n",
      "\tREFERENCEDATA/Hg38_chr20_21_22_simulated_data_Jan_2018/reference_and_index/Homo_sapiens_assembly38_chr20_21_22.fasta.sa\n",
      "\n",
      "CallMutectTask.mutect.SampleName\n",
      "\tWGS_chr1_5X_E0.005_chunk1\n",
      "\n",
      "CallMutectTask.mutect.Samtools\n",
      "\tBIOAPPS/samtools/samtools-1.5\n",
      "\n",
      "CallMutectTask.mutect.TumorBais\n",
      "\tTUMORDATA/SharedFunctions/ID_fix/ID_FIX.aligned.sorted.bam.bai\n",
      "\n",
      "CallMutectTask.mutect.TumorBams\n",
      "\tTUMORDATA/SharedFunctions/ID_fix/ID_FIX.aligned.sorted.bam\n",
      "\n"
     ]
    }
   ],
   "source": [
    "def get_cromwell_wdl_dict(full_filename):\n",
    "    \"\"\" Usage: cromwell_wdl_dict = get_cromwell_json_dict(full_filename) \"\"\"\n",
    "    cromwell_wdl_dict = {}\n",
    "    with open(full_filename, 'r') as fh:\n",
    "        lines = fh.readlines()\n",
    "    if len(lines) > 0:\n",
    "        for line in lines:\n",
    "            line = line.strip().strip(',').split(':')\n",
    "            if len(line) == 2:\n",
    "                cromwell_wdl_dict[line[0].strip().strip('\"')] = line[1].strip().strip('\"')\n",
    "                \n",
    "    return cromwell_wdl_dict\n",
    "\n",
    "TestTask_dir = '/Users/mojo/git_clone/dlanier/pipe_tools/data/TestTasks'\n",
    "TestTask_jason_file = 'Testmutect.PATHREF.json'\n",
    "json_fullfilename = os.path.join(TestTask_dir, TestTask_jason_file)\n",
    "\n",
    "if os.path.isfile(json_fullfilename):\n",
    "    cromwell_wdl_dict = get_run_file_dict(json_fullfilename)\n",
    "    if len(cromwell_wdl_dict) > 0:\n",
    "        for k, v in cromwell_wdl_dict.items():\n",
    "            print('%s\\n\\t%s\\n'%(k,v))\n",
    "else:\n",
    "    print(json_fullfilename, '\\nNot Found')"
   ]
  },
  {
   "cell_type": "markdown",
   "metadata": {},
   "source": [
    "## Convert the python dictionary to a string for a cromwell-wdl-json file"
   ]
  },
  {
   "cell_type": "code",
   "execution_count": 9,
   "metadata": {},
   "outputs": [
    {
     "name": "stdout",
     "output_type": "stream",
     "text": [
      "{\n",
      "\"CallMutectTask.mutect.BashPreamble\": \"RUNENV/src/shell/shell_preamble.sh\",\n",
      "\"CallMutectTask.mutect.BashSharedFunctions\": \"SRCDIR/src/shell/shared_functions.sh\",\n",
      "\"CallMutectTask.mutect.Bcftools\": \"BIOAPPS/bcftools/bcftools-1.5\",\n",
      "\"CallMutectTask.mutect.Bgzip\": \"BIOAPPS/bcftools/htslib-1.3.1/bin\",\n",
      "\"CallMutectTask.mutect.DebugMode\": \"\",\n",
      "\"CallMutectTask.mutect.FixDPScript\": \"SRCDIR/src/perl/fixDP.pl\",\n",
      "\"CallMutectTask.mutect.GatkJar\": \"BIOAPPS/gatk/GenomeAnalysisTK-3.8-1-0-gf15c1c3ef\",\n",
      "\"CallMutectTask.mutect.Java\": \"BIOAPPS/java/java-1.8-64bit/bin\",\n",
      "\"CallMutectTask.mutect.MutectEnvProfile\": \"RUNDIR/Config/MutectEnvProfile.file\",\n",
      "\"CallMutectTask.mutect.MutectExtraOptionsString\": \"--dbsnp REFERENCEDATA/gatk_bundle_Oct_2017/gatk_bundle_hg38/dbsnp_138.hg38.vcf\",\n",
      "\"CallMutectTask.mutect.MutectHardMemLimit\": \"100G\",\n",
      "\"CallMutectTask.mutect.MutectJavaMemOption\": \"-Xms2G -Xmx8G\",\n",
      "\"CallMutectTask.mutect.MutectScript\": \"SRCDIR/src/shell/mutect.sh\",\n",
      "\"CallMutectTask.mutect.MutectSoftMemLimit\": \"100G\",\n",
      "\"CallMutectTask.mutect.MutectThreads\": \"40\",\n",
      "\"CallMutectTask.mutect.NormalBais\": \"NORMALDATA/Test_Tumor-Normal_Data/normal_80x_tumor_20x_set/hg38_chr_20_21_22_TN_normal.aligned.sorted.bam.bai\",\n",
      "\"CallMutectTask.mutect.NormalBams\": \"NORMALDATA/Test_Tumor-Normal_Data/normal_80x_tumor_20x_set/hg38_chr_20_21_22_TN_normal.aligned.sorted.bam\",\n",
      "\"CallMutectTask.mutect.Ref\": \"REFERENCEDATA/Hg38_chr20_21_22_simulated_data_Jan_2018/reference_and_index/Homo_sapiens_assembly38_chr20_21_22.fasta\",\n",
      "\"CallMutectTask.mutect.RefAmb\": \"REFERENCEDATA/Hg38_chr20_21_22_simulated_data_Jan_2018/reference_and_index/Homo_sapiens_assembly38_chr20_21_22.fasta.amb\",\n",
      "\"CallMutectTask.mutect.RefAnn\": \"REFERENCEDATA/Hg38_chr20_21_22_simulated_data_Jan_2018/reference_and_index/Homo_sapiens_assembly38_chr20_21_22.fasta.ann\",\n",
      "\"CallMutectTask.mutect.RefBwt\": \"REFERENCEDATA/Hg38_chr20_21_22_simulated_data_Jan_2018/reference_and_index/Homo_sapiens_assembly38_chr20_21_22.fasta.bwt\",\n",
      "\"CallMutectTask.mutect.RefDict\": \"REFERENCEDATA/Hg38_chr20_21_22_simulated_data_Jan_2018/reference_and_index/Homo_sapiens_assembly38_chr20_21_22.dict\",\n",
      "\"CallMutectTask.mutect.RefFai\": \"REFERENCEDATA/Hg38_chr20_21_22_simulated_data_Jan_2018/reference_and_index/Homo_sapiens_assembly38_chr20_21_22.fasta.fai\",\n",
      "\"CallMutectTask.mutect.RefPac\": \"REFERENCEDATA/Hg38_chr20_21_22_simulated_data_Jan_2018/reference_and_index/Homo_sapiens_assembly38_chr20_21_22.fasta.pac\",\n",
      "\"CallMutectTask.mutect.RefSa\": \"REFERENCEDATA/Hg38_chr20_21_22_simulated_data_Jan_2018/reference_and_index/Homo_sapiens_assembly38_chr20_21_22.fasta.sa\",\n",
      "\"CallMutectTask.mutect.SampleName\": \"WGS_chr1_5X_E0.005_chunk1\",\n",
      "\"CallMutectTask.mutect.Samtools\": \"BIOAPPS/samtools/samtools-1.5\",\n",
      "\"CallMutectTask.mutect.TumorBais\": \"TUMORDATA/SharedFunctions/ID_fix/ID_FIX.aligned.sorted.bam.bai\",\n",
      "\"CallMutectTask.mutect.TumorBams\": \"TUMORDATA/SharedFunctions/ID_fix/ID_FIX.aligned.sorted.bam\"\n",
      "}\n"
     ]
    }
   ],
   "source": [
    "def get_localized_cromwell_wdl_dict_as_json_string(json_fullfilename, dir_data_fullfilename):\n",
    "    \"\"\" Usage: \n",
    "    json_str = get_localized_cromwell_wdl_dict_as_json_string(json_fullfilename, dir_data_fullfilename)\n",
    "    \"\"\"\n",
    "    cromwell_wdl_dict = get_run_file_dict(json_fullfilename)\n",
    "    dirs_dict = get_run_file_dict(dir_data_fullfilename)\n",
    "    \n",
    "    out_file_string = '{\\n'\n",
    "    for k, v in cromwell_wdl_dict.items():\n",
    "        out_file_string += '\"' + k + '\": ' + '\"' + v + '\",\\n'\n",
    "    out_file_string = out_file_string[:-2] + '\\n}'\n",
    "    \n",
    "    return out_file_string\n",
    "\n",
    "json_str = get_localized_cromwell_wdl_dict_as_json_string(json_fullfilename, dir_data_fullfilename)\n",
    "\n",
    "print(json_str)"
   ]
  },
  {
   "cell_type": "markdown",
   "metadata": {},
   "source": [
    "## Alternative: assemble the TestTask.FilledIn.json file as a python dictionary"
   ]
  },
  {
   "cell_type": "code",
   "execution_count": null,
   "metadata": {},
   "outputs": [],
   "source": [
    "def get_localized_wdl_dict(json_fullfilename, dir_data_fullfilename):\n",
    "    \"\"\" Usage:  \"\"\"\n",
    "    cromwell_wdl_dict = get_run_file_dict(json_fullfilename)\n",
    "    relative_dirs_dict = get_run_file_dict(dir_data_fullfilename)\n",
    "\n",
    "    localized_cromwell_wdl_dict = {}\n",
    "    for wdl_key, wdl_value in cromwell_wdl_dict.items():\n",
    "        localized_cromwell_wdl_dict[wdl_key] = wdl_value\n",
    "        for dir_key, dir_value in relative_dirs_dict.items():\n",
    "            if len(wdl_value) > 0 and dir_key in wdl_value:\n",
    "                localized_cromwell_wdl_dict[wdl_key] = wdl_value.replace(dir_key, dir_value)\n",
    "    \n",
    "    return localized_cromwell_wdl_dict\n",
    "\n",
    "localized_cromwell_wdl_dict = get_localized_wdl_dict(json_fullfilename, dir_data_fullfilename)\n",
    "\n",
    "for k, v in localized_cromwell_wdl_dict.items():\n",
    "    print('%s\\n%s\\n'%(k,v))"
   ]
  },
  {
   "cell_type": "code",
   "execution_count": null,
   "metadata": {},
   "outputs": [],
   "source": []
  },
  {
   "cell_type": "code",
   "execution_count": null,
   "metadata": {},
   "outputs": [],
   "source": []
  },
  {
   "cell_type": "code",
   "execution_count": null,
   "metadata": {},
   "outputs": [],
   "source": []
  },
  {
   "cell_type": "code",
   "execution_count": null,
   "metadata": {},
   "outputs": [],
   "source": []
  },
  {
   "cell_type": "code",
   "execution_count": null,
   "metadata": {},
   "outputs": [],
   "source": []
  },
  {
   "cell_type": "code",
   "execution_count": null,
   "metadata": {},
   "outputs": [],
   "source": []
  },
  {
   "cell_type": "code",
   "execution_count": null,
   "metadata": {},
   "outputs": [],
   "source": []
  }
 ],
 "metadata": {
  "kernelspec": {
   "display_name": "Python 3",
   "language": "python",
   "name": "python3"
  },
  "language_info": {
   "codemirror_mode": {
    "name": "ipython",
    "version": 3
   },
   "file_extension": ".py",
   "mimetype": "text/x-python",
   "name": "python",
   "nbconvert_exporter": "python",
   "pygments_lexer": "ipython3",
   "version": "3.6.7"
  }
 },
 "nbformat": 4,
 "nbformat_minor": 2
}
