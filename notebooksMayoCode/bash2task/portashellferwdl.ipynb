{
 "cells": [
  {
   "cell_type": "code",
   "execution_count": 1,
   "metadata": {},
   "outputs": [],
   "source": [
    "import os\n",
    "import sys\n",
    "\n",
    "import pandas as pd\n",
    "import numpy as np\n",
    "import yaml\n",
    "import json"
   ]
  },
  {
   "cell_type": "code",
   "execution_count": 11,
   "metadata": {},
   "outputs": [
    {
     "data": {
      "text/plain": [
       "['mutect.sh',\n",
       " 'vqsr.sh',\n",
       " 'dedup.sh',\n",
       " 'shared_functions.sh',\n",
       " 'combine_variants.sh',\n",
       " 'manta.sh',\n",
       " 'trim_sequences.sh',\n",
       " 'haplotyper.sh',\n",
       " 'deliver_alignment.sh',\n",
       " 'gvcftyper.sh',\n",
       " 'phasing.sh',\n",
       " 'merge_bams.sh',\n",
       " 'deliver_haplotyperVC.sh',\n",
       " 'alignment.sh',\n",
       " 'GATK',\n",
       " 'bqsr.sh',\n",
       " 'realignment.sh',\n",
       " 'shell_preamble.sh',\n",
       " 'deliver_somaticVC.sh',\n",
       " 'strelka.sh']"
      ]
     },
     "execution_count": 11,
     "metadata": {},
     "output_type": "execute_result"
    }
   ],
   "source": [
    "MayomicsVC_directory = '../../../../Mayomics-Research'\n",
    "shell_script_dir = os.path.join(MayomicsVC_directory, 'MayomicsVC/src/shell')\n",
    "os.listdir(shell_script_dir)"
   ]
  },
  {
   "cell_type": "code",
   "execution_count": 35,
   "metadata": {},
   "outputs": [
    {
     "name": "stdout",
     "output_type": "stream",
     "text": [
      "s SAMPLE\n",
      "b INPUTBAM\n",
      "G REFGEN\n",
      "k KNOWN\n",
      "S SENTIEON\n",
      "t THR\n",
      "e ENV_PROFILE\n",
      "F SHARED_FUNCTIONS\n"
     ]
    }
   ],
   "source": [
    "keys_to_ignore = ['h', 'd']\n",
    "target_script = os.path.join(shell_script_dir, 'realignment.sh')\n",
    "with open(target_script, 'r') as fh:\n",
    "    lines = fh.readlines()\n",
    "    \n",
    "dosies = 0\n",
    "caseies = 0\n",
    "current_key = ''\n",
    "casy_dictionary = {}\n",
    "for line in lines:\n",
    "    l = line.strip()\n",
    "    \n",
    "    if len(l) > 0 and not l[0] == '#':\n",
    "        if 'case' in l: caseies += 1\n",
    "        if 'esac' in l: caseies -= 1\n",
    "        if caseies > 0:\n",
    "            if ')' in l and not '(' in l and not '\\?' in l and not ': )' in l:\n",
    "                current_key = l.strip()\n",
    "                if len(current_key) > 0 and not current_key[0] in keys_to_ignore:\n",
    "                    current_key = current_key[0]\n",
    "                    \n",
    "            elif '=${' in l and len(current_key) > 0:\n",
    "                v = l.strip().split('=')[0]\n",
    "                if len(v) > 0:\n",
    "                    casy_dictionary[current_key] = casy_dictionary\n",
    "                    print(current_key, v)\n"
   ]
  },
  {
   "cell_type": "code",
   "execution_count": 39,
   "metadata": {},
   "outputs": [
    {
     "name": "stdout",
     "output_type": "stream",
     "text": [
      "                   s:SAMPLE\n",
      "                   b:INPUTBAM\n",
      "                   G:REFGEN\n",
      "                   k:KNOWN\n",
      "                   S:SENTIEON\n",
      "                   t:THR\n",
      "                   e:ENV_PROFILE\n",
      "                   F:SHARED_FUNCTIONS\n"
     ]
    }
   ],
   "source": [
    "def get_bash_case_dict(fullfilename):\n",
    "    \n",
    "    keys_to_ignore = ['h', 'd']\n",
    "    with open(fullfilename, 'r') as fh:\n",
    "        lines = fh.readlines()\n",
    "        \n",
    "    caseies = 0\n",
    "    current_key = ''\n",
    "    casy_dictionary = {}\n",
    "    for line in lines:\n",
    "        l = line.strip()\n",
    "\n",
    "        if len(l) > 0 and not l[0] == '#':\n",
    "            if 'case' in l: caseies += 1\n",
    "            if 'esac' in l: caseies -= 1\n",
    "            if caseies > 0:\n",
    "                if ')' in l and not '(' in l and not '\\?' in l and not ': )' in l:\n",
    "                    current_key = l.strip()\n",
    "                    if len(current_key) > 0 and not current_key[0] in keys_to_ignore:\n",
    "                        current_key = current_key[0]\n",
    "\n",
    "                elif '=${' in l and len(current_key) > 0:\n",
    "                    v = l.strip().split('=')[0]\n",
    "                    if len(v) > 0:\n",
    "                        casy_dictionary[current_key] = v\n",
    "\n",
    "    return casy_dictionary\n",
    "\n",
    "target_script = os.path.join(shell_script_dir, 'realignment.sh')\n",
    "ca_dict = get_bash_case_dict(target_script)\n",
    "for k, v in ca_dict.items():\n",
    "    print('%20s:%s'%(k,v))"
   ]
  },
  {
   "cell_type": "code",
   "execution_count": 19,
   "metadata": {},
   "outputs": [
    {
     "name": "stdout",
     "output_type": "stream",
     "text": [
      "case ${OPT} in\n",
      "h )  # Flag to display usage\n",
      "echo -e \"\\n${DOCS}\\n\"\n",
      "exit 0\n",
      ";;\n",
      "s )  # Sample name\n",
      "SAMPLE=${OPTARG}\n",
      "checkArg\n",
      ";;\n",
      "b )  # Full path to the input deduped BAM\n",
      "INPUTBAM=${OPTARG}\n",
      "checkArg\n",
      ";;\n",
      "G )  # Full path to reference genome fasta file\n",
      "REFGEN=${OPTARG}\n",
      "checkArg\n",
      ";;\n",
      "k )  # Full path to known sites files\n",
      "KNOWN=${OPTARG}\n",
      "checkArg\n",
      ";;\n",
      "S )  # Full path to sentieon directory\n",
      "SENTIEON=${OPTARG}\n",
      "checkArg\n",
      ";;\n",
      "t )  # Number of threads available\n",
      "THR=${OPTARG}\n",
      "checkArg\n",
      ";;\n",
      "e )  # Path to file with environmental profile variables\n",
      "ENV_PROFILE=${OPTARG}\n",
      "checkArg\n",
      ";;\n",
      "F )  # Path to shared_functions.sh\n",
      "SHARED_FUNCTIONS=${OPTARG}\n",
      "checkArg\n",
      ";;\n",
      "d )  # Turn on debug mode. Initiates 'set -x' to print all text. Invoked with -d\n",
      "echo -e \"\\nDebug mode is ON.\\n\"\n",
      "set -x\n",
      ";;\n",
      "\\? )  # Check for unsupported flag, print usage and exit.\n",
      "echo -e \"\\nInvalid option: -${OPTARG}\\n\\n${DOCS}\\n\"\n",
      "exit 1\n",
      ";;\n",
      ": )  # Check for missing arguments, print usage and exit.\n",
      "echo -e \"\\nOption -${OPTARG} requires an argument.\\n\\n${DOCS}\\n\"\n",
      "exit 1\n",
      ";;\n"
     ]
    }
   ],
   "source": [
    "for line in lines:\n",
    "    l = line.strip()\n",
    "    if len(l) > 0 and not l[0] == '#':\n",
    "        if 'case' in l: caseies += 1\n",
    "        if 'esac' in l: caseies -= 1\n",
    "        if caseies > 0:\n",
    "            print(l)\n"
   ]
  },
  {
   "cell_type": "code",
   "execution_count": null,
   "metadata": {},
   "outputs": [],
   "source": []
  },
  {
   "cell_type": "code",
   "execution_count": null,
   "metadata": {},
   "outputs": [],
   "source": []
  }
 ],
 "metadata": {
  "kernelspec": {
   "display_name": "Python 3",
   "language": "python",
   "name": "python3"
  },
  "language_info": {
   "codemirror_mode": {
    "name": "ipython",
    "version": 3
   },
   "file_extension": ".py",
   "mimetype": "text/x-python",
   "name": "python",
   "nbconvert_exporter": "python",
   "pygments_lexer": "ipython3",
   "version": "3.6.7"
  }
 },
 "nbformat": 4,
 "nbformat_minor": 2
}
