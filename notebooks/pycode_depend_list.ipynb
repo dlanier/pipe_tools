{
 "cells": [
  {
   "cell_type": "markdown",
   "metadata": {},
   "source": [
    "# get the list of imports from python files in a clones repo\n",
    "    Inserted into:\n",
    "```bash\n",
    "src/utility.py\n",
    "```"
   ]
  },
  {
   "cell_type": "code",
   "execution_count": 1,
   "metadata": {},
   "outputs": [],
   "source": [
    "import os\n",
    "import sys\n",
    "import numpy as np\n",
    "import pandas as pd\n",
    "\n",
    "sys.path.insert(1, '../src')\n",
    "from utility import *"
   ]
  },
  {
   "cell_type": "code",
   "execution_count": 2,
   "metadata": {},
   "outputs": [
    {
     "name": "stdout",
     "output_type": "stream",
     "text": [
      "OutputFileWriter\n",
      "SequenceContainer\n",
      "argparse\n",
      "biopython_modified_bgzf\n",
      "bisect\n",
      "cPickle\n",
      "cmx\n",
      "colors\n",
      "copy\n",
      "fileinput\n",
      "gzip\n",
      "inputChecking\n",
      "math\n",
      "matplotlib\n",
      "matplotlib_venn\n",
      "mpl\n",
      "neat_cigar\n",
      "np\n",
      "numpy\n",
      "optparse\n",
      "os\n",
      "pickle\n",
      "probability\n",
      "random\n",
      "re\n",
      "refFunc\n",
      "struct\n",
      "sys\n",
      "time\n",
      "vcfFunc\n",
      "warnings\n",
      "zlib\n"
     ]
    }
   ],
   "source": [
    "py_clone = '../../../tmp_clone/neat-genreads/'\n",
    "modules_list = get_clone_imported_modules_list(dir_path=py_clone)\n",
    "for lib_line in modules_list:\n",
    "    print(lib_line)"
   ]
  },
  {
   "cell_type": "code",
   "execution_count": 3,
   "metadata": {},
   "outputs": [
    {
     "name": "stdout",
     "output_type": "stream",
     "text": [
      "OutputFileWriter\n",
      "SequenceContainer\n",
      "argparse\n",
      "biopython_modified_bgzf\n",
      "bisect\n",
      "cPickle\n",
      "cmx\n",
      "colors\n",
      "copy\n",
      "fileinput\n",
      "gzip\n",
      "inputChecking\n",
      "math\n",
      "matplotlib\n",
      "matplotlib_venn\n",
      "mpl\n",
      "neat_cigar\n",
      "np\n",
      "numpy\n",
      "optparse\n",
      "os\n",
      "pickle\n",
      "probability\n",
      "random\n",
      "re\n",
      "refFunc\n",
      "struct\n",
      "sys\n",
      "time\n",
      "vcfFunc\n",
      "warnings\n",
      "zlib\n"
     ]
    }
   ],
   "source": [
    "def proto_get_clone_imported_modules_list(dir_path):\n",
    "    \"\"\" Usage: modules_list = get_clone_imported_modules_list(dir_path) \"\"\"\n",
    "    lib_list = []\n",
    "    for dir, dir_list, files_list in os.walk(dir_path):\n",
    "        for file in files_list:\n",
    "            if len(file) > len('.py') and file[-3:] == '.py':\n",
    "                full_file = os.path.join(dir, file)\n",
    "                with open(full_file, 'r') as fh:\n",
    "                    lines = fh.readlines()\n",
    "                if len(lines) > 1:\n",
    "                    for line in lines:\n",
    "                        if line[0] != \"#\" and \"import\" in line:\n",
    "                            line_list = line.strip().split(' ')\n",
    "                            if line_list[0] == 'import':\n",
    "                                if len(line_list) > 2:\n",
    "                                    for lib in line_list[1:]:\n",
    "                                        if lib != 'import' and lib != 'as':\n",
    "                                            lib_list.append(lib.split('.')[0])\n",
    "                                else:\n",
    "                                    lib_list.append(line_list[1].split('.')[0])\n",
    "                            elif line_list[0] == 'from':\n",
    "                                lib = line_list[1].split('\\t')[0]\n",
    "                                lib_list.append(lib)\n",
    "\n",
    "    return sorted(list(set(lib_list)))\n",
    "    \n",
    "py_clone = '../../../tmp_clone/neat-genreads/'\n",
    "modules_list = proto_get_clone_imported_modules_list(dir_path=py_clone)\n",
    "for lib_line in modules_list:\n",
    "    print(lib_line)"
   ]
  },
  {
   "cell_type": "code",
   "execution_count": null,
   "metadata": {},
   "outputs": [],
   "source": []
  }
 ],
 "metadata": {
  "kernelspec": {
   "display_name": "Python 3",
   "language": "python",
   "name": "python3"
  },
  "language_info": {
   "codemirror_mode": {
    "name": "ipython",
    "version": 3
   },
   "file_extension": ".py",
   "mimetype": "text/x-python",
   "name": "python",
   "nbconvert_exporter": "python",
   "pygments_lexer": "ipython3",
   "version": "3.6.7"
  }
 },
 "nbformat": 4,
 "nbformat_minor": 2
}
