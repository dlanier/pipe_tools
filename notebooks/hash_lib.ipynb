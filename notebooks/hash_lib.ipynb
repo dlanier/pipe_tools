{
 "cells": [
  {
   "cell_type": "markdown",
   "metadata": {},
   "source": [
    "### Python Std Library \n",
    "[hashlib](https://docs.python.org/3/library/hashlib.html) <br>\n",
    "[hmac](https://docs.python.org/3/library/hmac.html) <br>"
   ]
  },
  {
   "cell_type": "code",
   "execution_count": 1,
   "metadata": {},
   "outputs": [],
   "source": [
    "import os\n",
    "import sys\n",
    "import numpy as np \n",
    "import pandas as pd\n",
    "import hashlib as hsh\n",
    "import hmac\n",
    "\n",
    "import multiprocessing as mp\n",
    "import json\n"
   ]
  },
  {
   "cell_type": "code",
   "execution_count": 8,
   "metadata": {},
   "outputs": [
    {
     "name": "stdout",
     "output_type": "stream",
     "text": [
      "hash for hash =  <_blake2.blake2s object at 0x1157d58e8>\n"
     ]
    }
   ],
   "source": [
    "x = hsh.blake2s(b'hash')\n",
    "print('hash for hash = ', x)"
   ]
  },
  {
   "cell_type": "code",
   "execution_count": 55,
   "metadata": {},
   "outputs": [
    {
     "name": "stdout",
     "output_type": "stream",
     "text": [
      "Array shape = [3, 2, 2] \n",
      "\n",
      "[\n",
      "[\n",
      "[\"aa\", \"ba\"],\n",
      "[\"ab\", \"bb\", \"cc\"]\n",
      "],\n",
      "[\n",
      "[\"aa\", \"ba\"],\n",
      "[\"ac\", \"b\"],\n",
      "[\"a\", \"b\"]\n",
      "],\n",
      "[\n",
      "[\"a\", \"b\"],\n",
      "[\"a\", \"b\"]\n",
      "]\n",
      "]\n"
     ]
    }
   ],
   "source": [
    "def threedeeparraylist2str(L, B):\n",
    "    \"\"\" Usage: S, arr_list_shape = threedeeparraylist2str(L, B) \"\"\"\n",
    "    S = ''\n",
    "    for i in range(len(L)):\n",
    "        if i == 0:\n",
    "            S += B[0] + '\\n'\n",
    "        L2 = L[i]\n",
    "        for j in range(len(L2)):\n",
    "            if j == 0:\n",
    "                S += B[0] + '\\n'\n",
    "            L3 = L2[j]\n",
    "            for k in range(len(L3)):\n",
    "                if k == 0:\n",
    "                    S += B[0]\n",
    "                if k == len(L3) - 1:\n",
    "                    S += '\"' + L3[k] + '\"'\n",
    "                else:\n",
    "                    S += '\"' + L3[k] + '\", '\n",
    "            if j < len(L2) - 1:\n",
    "                S += B[1] + ',\\n'\n",
    "            elif j == len(L2) - 1:\n",
    "                S += B[1] + '\\n'\n",
    "            else:\n",
    "                S += B[1]\n",
    "        if i < len(L2) - 1: \n",
    "            S += B[1] + ',\\n'\n",
    "        else:\n",
    "            S += B[1]\n",
    "    S += '\\n' + B[1]\n",
    "    arr_list_shape = [i+1, j+1, k+1]\n",
    "    \n",
    "    return S, arr_list_shape\n",
    "    \n",
    "B = ['[', ']']\n",
    "L = [  [ ['aa', 'ba'], ['ab', 'bb', 'cc'] ],  [ ['aa', 'ba'], ['ac', 'b'], ['a', 'b'] ], [ ['a', 'b'], ['a', 'b'] ]  ]\n",
    "\n",
    "S, arr_list_shape = threedeeparraylist2str(L, B)\n",
    "print('Array shape =', arr_list_shape, '\\n')\n",
    "print(S)"
   ]
  },
  {
   "cell_type": "code",
   "execution_count": null,
   "metadata": {},
   "outputs": [],
   "source": []
  },
  {
   "cell_type": "code",
   "execution_count": 53,
   "metadata": {},
   "outputs": [
    {
     "name": "stdout",
     "output_type": "stream",
     "text": [
      "List Shape =  3 2 2\n",
      "[\n",
      "[\n",
      "[\"aa\", \"ba\"],\n",
      "[\"ab\", \"bb\", \"cc\"]\n",
      "],\n",
      "[\n",
      "[\"aa\", \"ba\"],\n",
      "[\"ac\", \"b\"],\n",
      "[\"a\", \"b\"]\n",
      "],\n",
      "[\n",
      "[\"a\", \"b\"],\n",
      "[\"a\", \"b\"]\n",
      "]\n",
      "]\n"
     ]
    }
   ],
   "source": [
    "L = [  [ ['aa', 'ba'], ['ab', 'bb', 'cc'] ],  [ ['aa', 'ba'], ['ac', 'b'], ['a', 'b'] ], [ ['a', 'b'], ['a', 'b'] ]  ]\n",
    "\n",
    "B = ['[', ']']\n",
    "\n",
    "S = ''\n",
    "for i in range(len(L)):\n",
    "    if i == 0:\n",
    "        S += B[0] + '\\n'\n",
    "    L2 = L[i]\n",
    "    for j in range(len(L2)):\n",
    "        if j == 0:\n",
    "            S += B[0] + '\\n'\n",
    "        L3 = L2[j]\n",
    "        for k in range(len(L3)):\n",
    "            if k == 0:\n",
    "                S += B[0]\n",
    "            if k == len(L3) - 1:\n",
    "                S += '\"' + L3[k] + '\"'\n",
    "            else:\n",
    "                S += '\"' + L3[k] + '\", '\n",
    "        if j < len(L2) - 1:\n",
    "            S += B[1] + ',\\n'\n",
    "        elif j == len(L2) - 1:\n",
    "            S += B[1] + '\\n'\n",
    "        else:\n",
    "            S += B[1]\n",
    "    if i < len(L2) - 1: \n",
    "        S += B[1] + ',\\n'\n",
    "    else:\n",
    "        S += B[1]\n",
    "S += '\\n' + B[1]\n",
    "\n",
    "print('List Shape = ', i+1,j+1,k+1)\n",
    "\n",
    "print(S)"
   ]
  },
  {
   "cell_type": "code",
   "execution_count": 22,
   "metadata": {},
   "outputs": [
    {
     "data": {
      "text/plain": [
       "False"
      ]
     },
     "execution_count": 22,
     "metadata": {},
     "output_type": "execute_result"
    }
   ],
   "source": []
  },
  {
   "cell_type": "code",
   "execution_count": null,
   "metadata": {},
   "outputs": [],
   "source": []
  }
 ],
 "metadata": {
  "kernelspec": {
   "display_name": "Python 3",
   "language": "python",
   "name": "python3"
  },
  "language_info": {
   "codemirror_mode": {
    "name": "ipython",
    "version": 3
   },
   "file_extension": ".py",
   "mimetype": "text/x-python",
   "name": "python",
   "nbconvert_exporter": "python",
   "pygments_lexer": "ipython3",
   "version": "3.6.5"
  }
 },
 "nbformat": 4,
 "nbformat_minor": 2
}
