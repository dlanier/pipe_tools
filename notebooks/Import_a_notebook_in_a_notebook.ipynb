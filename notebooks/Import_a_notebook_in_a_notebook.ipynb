{
 "cells": [
  {
   "cell_type": "markdown",
   "metadata": {},
   "source": [
    "# This is not the notebook you were looking for:\n",
    "## see notebook_convert.ipynb in this directory \n",
    "### you need \n",
    "```python\n",
    "nb_dict = json.loads(open(notebook_name.ipynb))\n",
    "for k, v in nb_dict.items():\n",
    "    print(k, type(v))\n",
    "\"\"\"\n",
    "cells <class 'list'>\n",
    "metadata <class 'dict'>\n",
    "nbformat <class 'int'>\n",
    "nbformat_minor <class 'int'>\n",
    "\"\"\"\n",
    "```\n",
    "**** \n",
    "## Old hack - based on linked advice:\n",
    "[project jupyter version](https://jupyter-notebook.readthedocs.io/en/stable/examples/Notebook/Importing%20Notebooks.html) <br>\n",
    "### import notebook code: many have tried, many have made a mess\n",
    "[StackOverflow eval exec compile](https://stackoverflow.com/questions/2220699/whats-the-difference-between-eval-exec-and-compile) <br>"
   ]
  },
  {
   "cell_type": "code",
   "execution_count": null,
   "metadata": {},
   "outputs": [],
   "source": [
    "\"\"\"\n",
    "    This cell works if the notebook in question works - it imports the code and variables - or executes each cell\n",
    "\"\"\"\n",
    "import os\n",
    "from nbformat import read\n",
    "from IPython.core.interactiveshell import InteractiveShell\n",
    "shell = InteractiveShell.instance()\n",
    "\n",
    "notebook_full_path = os.path.join(os.getcwd(), 'pipe_tools_utility.ipynb')  ## << the notebook\n",
    "# notebook_full_path = os.path.join(os.getcwd(), 'template_type_check.ipynb')\n",
    "with open(notebook_full_path, 'r', encoding='utf-8') as fh:\n",
    "    nb = read(fh, 4)\n",
    "\n",
    "for cell in nb.cells:\n",
    "    if cell.cell_type == 'code':\n",
    "        if cell.source[0:11] == '%%writefile':\n",
    "            print('Writefile section')\n",
    "\n",
    "# Just imports the modules and function defs\n",
    "        elif 'import' in cell.source or 'def' in cell.source:\n",
    "            exec(shell.input_transformer_manager.transform_cell(cell.source))\n",
    "\n",
    "# Just do it all - variables, code everything imported  - run the notebook\n",
    "#         else:\n",
    "#             exec(shell.input_transformer_manager.transform_cell(cell.source))\n",
    "dir()"
   ]
  },
  {
   "cell_type": "code",
   "execution_count": null,
   "metadata": {},
   "outputs": [],
   "source": []
  },
  {
   "cell_type": "markdown",
   "metadata": {},
   "source": [
    "## Works simple: ipynb\n",
    "[ipynb on github](https://github.com/ipython/ipynb) <br>\n",
    "[ipynb docs - disconnected from github maybe](https://ipynb.readthedocs.io/en/stable/) <br>"
   ]
  },
  {
   "cell_type": "code",
   "execution_count": null,
   "metadata": {},
   "outputs": [],
   "source": [
    "import ipynb\n",
    "import ipynb.fs.full.pipe_tools_utility as pitou"
   ]
  },
  {
   "cell_type": "code",
   "execution_count": null,
   "metadata": {},
   "outputs": [],
   "source": [
    "help(pitou)"
   ]
  },
  {
   "cell_type": "markdown",
   "metadata": {},
   "source": [
    "## Works - needs more headspace to use - may be the best: importnb\n",
    "[ipynb on github](https://github.com/ipython/ipynb) <br>\n",
    "[ipynb fully doc](https://ipynb.readthedocs.io/en/latest/) <br>"
   ]
  },
  {
   "cell_type": "code",
   "execution_count": null,
   "metadata": {},
   "outputs": [],
   "source": [
    "import os, sys\n",
    "import importnb\n",
    "from importnb import Notebook"
   ]
  },
  {
   "cell_type": "code",
   "execution_count": null,
   "metadata": {},
   "outputs": [],
   "source": [
    "help(Notebook)"
   ]
  },
  {
   "cell_type": "code",
   "execution_count": null,
   "metadata": {},
   "outputs": [],
   "source": [
    "# from importnb import Notebook\n",
    "notebook_full_path = os.path.join(os.getcwd(), 'pipe_tools_utility.ipynb')\n",
    "Notebook().load(notebook_full_path)\n",
    "import pipe_tools_utility"
   ]
  },
  {
   "cell_type": "code",
   "execution_count": null,
   "metadata": {},
   "outputs": [],
   "source": [
    "help(pipe_tools_utility)"
   ]
  },
  {
   "cell_type": "code",
   "execution_count": null,
   "metadata": {},
   "outputs": [],
   "source": []
  },
  {
   "cell_type": "markdown",
   "metadata": {},
   "source": [
    "## Simple and works: import_ipynb\n",
    "[Only one file - installs with pip](https://github.com/axil/import-ipynb) <br>\n",
    "[refers to project jupyter](https://jupyter-notebook.readthedocs.io/en/latest/examples/Notebook/Importing%20Notebooks.html) <br>"
   ]
  },
  {
   "cell_type": "code",
   "execution_count": null,
   "metadata": {},
   "outputs": [],
   "source": [
    "import import_ipynb\n",
    "import pipe_tools_utility as ptu"
   ]
  },
  {
   "cell_type": "code",
   "execution_count": null,
   "metadata": {},
   "outputs": [],
   "source": [
    "help(ptu)"
   ]
  },
  {
   "cell_type": "code",
   "execution_count": null,
   "metadata": {},
   "outputs": [],
   "source": []
  }
 ],
 "metadata": {
  "kernelspec": {
   "display_name": "Python 3",
   "language": "python",
   "name": "python3"
  },
  "language_info": {
   "codemirror_mode": {
    "name": "ipython",
    "version": 3
   },
   "file_extension": ".py",
   "mimetype": "text/x-python",
   "name": "python",
   "nbconvert_exporter": "python",
   "pygments_lexer": "ipython3",
   "version": "3.6.7"
  }
 },
 "nbformat": 4,
 "nbformat_minor": 2
}
