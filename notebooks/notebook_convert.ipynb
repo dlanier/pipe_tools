{
 "cells": [
  {
   "cell_type": "markdown",
   "metadata": {},
   "source": [
    "# Notebook conversion:"
   ]
  },
  {
   "cell_type": "code",
   "execution_count": 1,
   "metadata": {},
   "outputs": [
    {
     "data": {
      "text/plain": [
       "['docker_extraction.ipynb',\n",
       " 'AAA_ssl_trick.ipynb',\n",
       " 'pycode_depend_list.ipynb',\n",
       " 'KSOO_v00.ipynb',\n",
       " 'Untitled.ipynb',\n",
       " 'SelectViewRun_widget.ipynb',\n",
       " '__pycache__',\n",
       " 'python_http_server',\n",
       " 'pipeline_output_check_notebook.ipynb',\n",
       " 'pipe_tools_utility.ipynb',\n",
       " 'pipeline_output_check_notebook-Copy1.ipynb',\n",
       " 'hash_lib.ipynb',\n",
       " 'pipe_tools_summary.ipynb',\n",
       " 'ed_yaml.ipynb',\n",
       " '.ipynb_checkpoints',\n",
       " 'code_test',\n",
       " 'Import_a_notebook_in_a_notebook.ipynb']"
      ]
     },
     "execution_count": 1,
     "metadata": {},
     "output_type": "execute_result"
    }
   ],
   "source": [
    "import os\n",
    "import sys\n",
    "import json\n",
    "import pandas as pd\n",
    "import numpy as np\n",
    "\n",
    "os.listdir()"
   ]
  },
  {
   "cell_type": "code",
   "execution_count": 10,
   "metadata": {},
   "outputs": [
    {
     "name": "stdout",
     "output_type": "stream",
     "text": [
      "cells <class 'list'>\n",
      "metadata <class 'dict'>\n",
      "nbformat <class 'int'>\n",
      "nbformat_minor <class 'int'>\n"
     ]
    }
   ],
   "source": [
    "nb_file = 'ed_yaml.ipynb'\n",
    "nb_dict = json.load(open(nb_file))\n",
    "for k, v in nb_dict.items():\n",
    "    print(k, type(v))"
   ]
  },
  {
   "cell_type": "code",
   "execution_count": 37,
   "metadata": {},
   "outputs": [
    {
     "name": "stdout",
     "output_type": "stream",
     "text": [
      "{'cell_type': 'markdown', 'metadata': {}, 'source': ['# construct a simple run_parameters editor\\n', '\\n', '[Widgets List](http://ipywidgets.readthedocs.io/en/latest/examples/Widget%20List.html)\\n', '\\n', '## Using a list of needed file names get & display a set of one par editors.\\n', '\\n', '## Using a list of editable keys get & display a set of one par editors.\\n', '\\n', '## When OK is pushed merge the edited parameters into a dict and write a new yaml file.']}\n"
     ]
    }
   ],
   "source": [
    "for cel in nb_dict['cells']:\n",
    "    if cel['cell_type'] == 'markdown':\n",
    "        print(cel)"
   ]
  },
  {
   "cell_type": "code",
   "execution_count": 36,
   "metadata": {},
   "outputs": [
    {
     "name": "stdout",
     "output_type": "stream",
     "text": [
      "markdown\n",
      "code\n",
      "code\n",
      "code\n",
      "code\n",
      "code\n",
      "code\n",
      "code\n",
      "code\n",
      "code\n",
      "code\n",
      "code\n",
      "code\n",
      "code\n",
      "code\n",
      "code\n",
      "code\n",
      "code\n",
      "code\n",
      "code\n"
     ]
    }
   ],
   "source": [
    "for cel in nb_dict['cells']:\n",
    "    print(cel['cell_type'])"
   ]
  },
  {
   "cell_type": "code",
   "execution_count": 32,
   "metadata": {},
   "outputs": [
    {
     "name": "stdout",
     "output_type": "stream",
     "text": [
      "\n",
      "\n",
      " kernelspec\n",
      "{'display_name': 'Python 3', 'language': 'python', 'name': 'python3'}\n",
      "\n",
      "\n",
      " language_info\n",
      "{'codemirror_mode': {'name': 'ipython', 'version': 3}, 'file_extension': '.py', 'mimetype': 'text/x-python', 'name': 'python', 'nbconvert_exporter': 'python', 'pygments_lexer': 'ipython3', 'version': '3.6.7'}\n"
     ]
    }
   ],
   "source": [
    "for k, v in nb_dict['metadata'].items():\n",
    "    print('\\n\\n',k)\n",
    "    print(v)"
   ]
  },
  {
   "cell_type": "code",
   "execution_count": 30,
   "metadata": {},
   "outputs": [
    {
     "name": "stdout",
     "output_type": "stream",
     "text": [
      "\n",
      "\t\t\n",
      " 0\n",
      "import os\n",
      "import sys\n",
      "import pandas as pd\n",
      "import numpy as np\n",
      "\n",
      "import knpackage.toolbox as kn\n",
      "\n",
      "from IPython.display import display\n",
      "import ipywidgets as widgets\n",
      "\n",
      "\n",
      "def get_one_par_edit(par_key, par_value):\n",
      "    \"\"\" get a one parameter text editor \"\"\"\n",
      "    par_key = widgets.Label(value=par_key)\n",
      "    par_key.data_type_str = type(par_value)\n",
      "    par_key.ed_val = widgets.Text(value=str(par_value), disabled=False)\n",
      "    par_key.view_box = widgets.HBox([par_key, par_key.ed_val])\n",
      "    return par_key\n",
      "\n",
      "class ParametersEditor():\n",
      "    def __init__(self, pars_dict):\n",
      "        self.pars_dict = pars_dict\n",
      "        self.pars_keys = sorted(list(pars_dict.keys()))\n",
      "        self.display_box_list = []\n",
      "        self.keys_list = []\n",
      "        for key in self.pars_keys:\n",
      "            par_key = get_one_par_edit(key, pars_dict[key])\n",
      "            self.keys_list.append(par_key)\n",
      "            self.display_box_list.append(par_key.view_box)\n",
      "        self.view_box = widgets.VBox(self.display_box_list)\n",
      "        display(self.view_box)\n",
      "\n",
      "\t\t\n",
      " 1\n",
      "# Select a set of run parameters and display controls for them\n",
      "run_file_dir = '../../Samples_Clustering_Pipeline/data/run_files/'\n",
      "os.listdir(run_file_dir)\n",
      "run_file = 'BENCHMARK_1_SC_nmf.yml'\n",
      "run_parameters = kn.get_run_parameters(run_file_dir, run_file)\n",
      "for k, v, in run_parameters.items():\n",
      "    print('%30s: %s'%(k,v))\n",
      "\n",
      "\t\t\n",
      " 2\n",
      "pars_list = ['nmf_max_iterations', 'nmf_conv_check_freq', 'nmf_max_invariance', 'top_number_of_genes']\n",
      "\n",
      "rp_copy = {}\n",
      "for k, v in run_parameters.items():\n",
      "    if k in pars_list:\n",
      "        rp_copy[k] = v\n",
      "        print('%25s: %s'%(k,v))\n",
      "    \n",
      "par_ed = ParametersEditor(rp_copy)\n",
      "\n",
      "\t\t\n",
      " 3\n",
      "for key in par_ed.keys_list:\n",
      "    key.ed_val.value\n",
      "\n",
      "\t\t\n",
      " 4\n",
      "par_key = 'nmf_max_iterations'\n",
      "par_value = run_parameters[par_key]\n",
      "\n",
      "\t\t\n",
      " 5\n",
      "ed_controls = get_one_par_edit(par_key, par_value)\n",
      "\n",
      "\t\t\n",
      " 6\n",
      "display(ed_controls.view_box)\n",
      "\n",
      "\t\t\n",
      " 7\n",
      "v = ed_controls.ed_val.value\n",
      "if ed_controls.data_type_str == int:\n",
      "    print('True')\n",
      "    v = int(v)\n",
      "type(v)\n",
      "\n",
      "\t\t\n",
      " 8\n",
      "ed_controls.data_type_str\n"
     ]
    }
   ],
   "source": [
    "code_cell_strings_dict = {}\n",
    "code_cell_number = 0\n",
    "for cell in nb_dict['cells']:\n",
    "    if cell['cell_type'] == 'code':\n",
    "        s = ''\n",
    "        for l in cell['source']:\n",
    "            s += l\n",
    "            \n",
    "        if len(s) > 0:\n",
    "            code_cell_strings_dict[code_cell_number] = s\n",
    "            print('\\n\\t\\t\\n',code_cell_number); print(s)\n",
    "            code_cell_number += 1"
   ]
  },
  {
   "cell_type": "code",
   "execution_count": 26,
   "metadata": {},
   "outputs": [
    {
     "name": "stdout",
     "output_type": "stream",
     "text": [
      "\n",
      "\t\t\tcell 0\n",
      "import os\n",
      "import sys\n",
      "import pandas as pd\n",
      "import numpy as np\n",
      "\n",
      "import knpackage.toolbox as kn\n",
      "\n",
      "from IPython.display import display\n",
      "import ipywidgets as widgets\n",
      "\n",
      "\n",
      "def get_one_par_edit(par_key, par_value):\n",
      "    \"\"\" get a one parameter text editor \"\"\"\n",
      "    par_key = widgets.Label(value=par_key)\n",
      "    par_key.data_type_str = type(par_value)\n",
      "    par_key.ed_val = widgets.Text(value=str(par_value), disabled=False)\n",
      "    par_key.view_box = widgets.HBox([par_key, par_key.ed_val])\n",
      "    return par_key\n",
      "\n",
      "class ParametersEditor():\n",
      "    def __init__(self, pars_dict):\n",
      "        self.pars_dict = pars_dict\n",
      "        self.pars_keys = sorted(list(pars_dict.keys()))\n",
      "        self.display_box_list = []\n",
      "        self.keys_list = []\n",
      "        for key in self.pars_keys:\n",
      "            par_key = get_one_par_edit(key, pars_dict[key])\n",
      "            self.keys_list.append(par_key)\n",
      "            self.display_box_list.append(par_key.view_box)\n",
      "        self.view_box = widgets.VBox(self.display_box_list)\n",
      "        display(self.view_box)\n",
      "\n",
      "\t\t\tcell 1\n",
      "# Select a set of run parameters and display controls for them\n",
      "run_file_dir = '../../Samples_Clustering_Pipeline/data/run_files/'\n",
      "os.listdir(run_file_dir)\n",
      "run_file = 'BENCHMARK_1_SC_nmf.yml'\n",
      "run_parameters = kn.get_run_parameters(run_file_dir, run_file)\n",
      "for k, v, in run_parameters.items():\n",
      "    print('%30s: %s'%(k,v))\n",
      "\n",
      "\t\t\tcell 2\n",
      "pars_list = ['nmf_max_iterations', 'nmf_conv_check_freq', 'nmf_max_invariance', 'top_number_of_genes']\n",
      "\n",
      "rp_copy = {}\n",
      "for k, v in run_parameters.items():\n",
      "    if k in pars_list:\n",
      "        rp_copy[k] = v\n",
      "        print('%25s: %s'%(k,v))\n",
      "    \n",
      "par_ed = ParametersEditor(rp_copy)\n",
      "\n",
      "\t\t\tcell 3\n",
      "for key in par_ed.keys_list:\n",
      "    key.ed_val.value\n",
      "\n",
      "\t\t\tcell 5\n",
      "par_key = 'nmf_max_iterations'\n",
      "par_value = run_parameters[par_key]\n",
      "\n",
      "\t\t\tcell 6\n",
      "ed_controls = get_one_par_edit(par_key, par_value)\n",
      "\n",
      "\t\t\tcell 7\n",
      "display(ed_controls.view_box)\n",
      "\n",
      "\t\t\tcell 8\n",
      "v = ed_controls.ed_val.value\n",
      "if ed_controls.data_type_str == int:\n",
      "    print('True')\n",
      "    v = int(v)\n",
      "type(v)\n",
      "\n",
      "\t\t\tcell 9\n",
      "ed_controls.data_type_str\n"
     ]
    }
   ],
   "source": [
    "for k, v in code_cell_strings_dict.items():\n",
    "    if len(v) == 0:\n",
    "        pass\n",
    "    else:\n",
    "        print('\\n\\t\\t\\tcell {}'.format(k))\n",
    "        print(v)"
   ]
  },
  {
   "cell_type": "code",
   "execution_count": 31,
   "metadata": {},
   "outputs": [
    {
     "data": {
      "text/plain": [
       "['import os\\n',\n",
       " 'import sys\\n',\n",
       " 'import pandas as pd\\n',\n",
       " 'import numpy as np\\n',\n",
       " '\\n',\n",
       " 'import knpackage.toolbox as kn\\n',\n",
       " '\\n',\n",
       " 'from IPython.display import display\\n',\n",
       " 'import ipywidgets as widgets\\n',\n",
       " '\\n',\n",
       " '\\n',\n",
       " 'def get_one_par_edit(par_key, par_value):\\n',\n",
       " '    \"\"\" get a one parameter text editor \"\"\"\\n',\n",
       " '    par_key = widgets.Label(value=par_key)\\n',\n",
       " '    par_key.data_type_str = type(par_value)\\n',\n",
       " '    par_key.ed_val = widgets.Text(value=str(par_value), disabled=False)\\n',\n",
       " '    par_key.view_box = widgets.HBox([par_key, par_key.ed_val])\\n',\n",
       " '    return par_key\\n',\n",
       " '\\n',\n",
       " 'class ParametersEditor():\\n',\n",
       " '    def __init__(self, pars_dict):\\n',\n",
       " '        self.pars_dict = pars_dict\\n',\n",
       " '        self.pars_keys = sorted(list(pars_dict.keys()))\\n',\n",
       " '        self.display_box_list = []\\n',\n",
       " '        self.keys_list = []\\n',\n",
       " '        for key in self.pars_keys:\\n',\n",
       " '            par_key = get_one_par_edit(key, pars_dict[key])\\n',\n",
       " '            self.keys_list.append(par_key)\\n',\n",
       " '            self.display_box_list.append(par_key.view_box)\\n',\n",
       " '        self.view_box = widgets.VBox(self.display_box_list)\\n',\n",
       " '        display(self.view_box)']"
      ]
     },
     "execution_count": 31,
     "metadata": {},
     "output_type": "execute_result"
    }
   ],
   "source": [
    "nb_dict['cells'][1]['source']"
   ]
  },
  {
   "cell_type": "code",
   "execution_count": null,
   "metadata": {},
   "outputs": [],
   "source": []
  }
 ],
 "metadata": {
  "kernelspec": {
   "display_name": "Python 3",
   "language": "python",
   "name": "python3"
  },
  "language_info": {
   "codemirror_mode": {
    "name": "ipython",
    "version": 3
   },
   "file_extension": ".py",
   "mimetype": "text/x-python",
   "name": "python",
   "nbconvert_exporter": "python",
   "pygments_lexer": "ipython3",
   "version": "3.6.7"
  }
 },
 "nbformat": 4,
 "nbformat_minor": 2
}
