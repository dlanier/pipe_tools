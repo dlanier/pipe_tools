{
 "cells": [
  {
   "cell_type": "code",
   "execution_count": 1,
   "metadata": {},
   "outputs": [],
   "source": [
    "import os\n",
    "import sys\n",
    "sys.path.insert(0, '../src')\n",
    "from stringy_stuff import find_in_files\n"
   ]
  },
  {
   "cell_type": "code",
   "execution_count": 4,
   "metadata": {},
   "outputs": [
    {
     "name": "stdout",
     "output_type": "stream",
     "text": [
      "Help on function find_in_files in module stringy_stuff:\n",
      "\n",
      "find_in_files(root_dir, f_types_list, seek_strings_list)\n",
      "    search files in a directory tree for strings\n",
      "    \n",
      "    Args:\n",
      "        root_dir:           search tree root\n",
      "        f_types_list:       list of file extensions (with '.') like ['.py', '.wdl', '.json', 'etc']\n",
      "        seek_strings_list:  list of strings to hunt for in files of f-type in the code-rood_dir\n",
      "        \n",
      "    Returns:\n",
      "        file_targets_line:  dict of file-names: dict of locations for seed strings\n",
      "        target_files_dict:  dict of seek-list-string: to list of files containing it\n",
      "                            (empty if no seek_list strings found)\n",
      "\n"
     ]
    }
   ],
   "source": [
    "# src_dir = '../src'\n",
    "# os.listdir(src_dir)\n",
    "help(find_in_files)"
   ]
  },
  {
   "cell_type": "code",
   "execution_count": 5,
   "metadata": {},
   "outputs": [
    {
     "name": "stdout",
     "output_type": "stream",
     "text": [
      "find_in_files searched in 1312 files in 2.000 s\n",
      "2\n"
     ]
    }
   ],
   "source": [
    "root_dir = '/Users/mojo/git_clone/dlanier/'\n",
    "f_types_list = ['.py', '.ipynb']\n",
    "seek_strings_list = ['guido', 'Guido']\n",
    "file_targets_line, target_files_dict = find_in_files(root_dir, f_types_list, seek_strings_list)\n",
    "print(len(target_files_dict))"
   ]
  },
  {
   "cell_type": "code",
   "execution_count": 6,
   "metadata": {},
   "outputs": [
    {
     "data": {
      "text/plain": [
       "['/Users/mojo/git_clone/dlanier/esse_corpus_sciens_cosmos/existental_reckoner_functional_pilgramage/.ipynb_checkpoints/Reckoning_Pythonic-checkpoint.ipynb',\n",
       " '/Users/mojo/git_clone/dlanier/esse_corpus_sciens_cosmos/existental_reckoner_functional_pilgramage/Reckoning_Pythonic.ipynb',\n",
       " '/Users/mojo/git_clone/dlanier/pipe_tools/src_demo/Untitled.ipynb']"
      ]
     },
     "execution_count": 6,
     "metadata": {},
     "output_type": "execute_result"
    }
   ],
   "source": [
    "target_files_dict['guido']"
   ]
  },
  {
   "cell_type": "code",
   "execution_count": 7,
   "metadata": {},
   "outputs": [
    {
     "data": {
      "text/plain": [
       "['/Users/mojo/git_clone/dlanier/La_Machina_Fractal_Arien/notebooksML/.ipynb_checkpoints/IAC-checkpoint.ipynb',\n",
       " '/Users/mojo/git_clone/dlanier/La_Machina_Fractal_Arien/notebooksML/IAC.ipynb',\n",
       " '/Users/mojo/git_clone/dlanier/esse_corpus_sciens_cosmos/existental_reckoner_functional_pilgramage/.ipynb_checkpoints/Reckoning_Pythonic-checkpoint.ipynb',\n",
       " '/Users/mojo/git_clone/dlanier/esse_corpus_sciens_cosmos/existental_reckoner_functional_pilgramage/.ipynb_checkpoints/Reckoning_Pythonic_Adj_Mat_View-checkpoint.ipynb',\n",
       " '/Users/mojo/git_clone/dlanier/esse_corpus_sciens_cosmos/existental_reckoner_functional_pilgramage/Reckoning_Pythonic.ipynb',\n",
       " '/Users/mojo/git_clone/dlanier/esse_corpus_sciens_cosmos/existental_reckoner_functional_pilgramage/Reckoning_Pythonic_Adj_Mat_View.ipynb',\n",
       " '/Users/mojo/git_clone/dlanier/pipe_tools/src_demo/Untitled.ipynb']"
      ]
     },
     "execution_count": 7,
     "metadata": {},
     "output_type": "execute_result"
    }
   ],
   "source": [
    "target_files_dict['Guido']"
   ]
  },
  {
   "cell_type": "code",
   "execution_count": null,
   "metadata": {},
   "outputs": [],
   "source": []
  },
  {
   "cell_type": "code",
   "execution_count": null,
   "metadata": {},
   "outputs": [],
   "source": []
  },
  {
   "cell_type": "code",
   "execution_count": null,
   "metadata": {},
   "outputs": [],
   "source": []
  },
  {
   "cell_type": "code",
   "execution_count": null,
   "metadata": {},
   "outputs": [],
   "source": []
  },
  {
   "cell_type": "code",
   "execution_count": null,
   "metadata": {},
   "outputs": [],
   "source": []
  },
  {
   "cell_type": "code",
   "execution_count": null,
   "metadata": {},
   "outputs": [],
   "source": []
  },
  {
   "cell_type": "code",
   "execution_count": null,
   "metadata": {},
   "outputs": [],
   "source": []
  },
  {
   "cell_type": "code",
   "execution_count": null,
   "metadata": {},
   "outputs": [],
   "source": []
  }
 ],
 "metadata": {
  "kernelspec": {
   "display_name": "Python 3",
   "language": "python",
   "name": "python3"
  },
  "language_info": {
   "codemirror_mode": {
    "name": "ipython",
    "version": 3
   },
   "file_extension": ".py",
   "mimetype": "text/x-python",
   "name": "python",
   "nbconvert_exporter": "python",
   "pygments_lexer": "ipython3",
   "version": "3.7.3"
  }
 },
 "nbformat": 4,
 "nbformat_minor": 2
}
