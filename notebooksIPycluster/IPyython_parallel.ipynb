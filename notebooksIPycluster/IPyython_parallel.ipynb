{
 "cells": [
  {
   "cell_type": "markdown",
   "metadata": {},
   "source": [
    "# IPycluster experiment with PBS\n",
    "[ipynbhpc - tunnel to a tunnel](https://github.com/pyHPC/ipynbhpc) <br>\n",
    "[IPython paralell](https://ipython.org/ipython-doc/3/parallel/) <br>\n",
    "[ipython paralell](https://ipython.org/ipython-doc/3/parallel/) <br>\n",
    "\n",
    "[sh](https://amoffat.github.io/sh/) <br>\n",
    "[python subprocess](https://docs.python.org/3/library/subprocess.html?highlight=popen#module-subprocess) <br>\n",
    "[stackoverflow](https://stackoverflow.com/questions/89228/calling-an-external-command-in-python) <br>"
   ]
  },
  {
   "cell_type": "code",
   "execution_count": null,
   "metadata": {},
   "outputs": [],
   "source": []
  },
  {
   "cell_type": "code",
   "execution_count": null,
   "metadata": {},
   "outputs": [],
   "source": []
  },
  {
   "cell_type": "code",
   "execution_count": null,
   "metadata": {},
   "outputs": [],
   "source": []
  },
  {
   "cell_type": "code",
   "execution_count": null,
   "metadata": {},
   "outputs": [],
   "source": []
  },
  {
   "cell_type": "code",
   "execution_count": null,
   "metadata": {},
   "outputs": [],
   "source": []
  }
 ],
 "metadata": {
  "kernelspec": {
   "display_name": "Python 3",
   "language": "python",
   "name": "python3"
  },
  "language_info": {
   "codemirror_mode": {
    "name": "ipython",
    "version": 3
   },
   "file_extension": ".py",
   "mimetype": "text/x-python",
   "name": "python",
   "nbconvert_exporter": "python",
   "pygments_lexer": "ipython3",
   "version": "3.7.3"
  }
 },
 "nbformat": 4,
 "nbformat_minor": 2
}
