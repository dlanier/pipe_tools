{
 "cells": [
  {
   "cell_type": "markdown",
   "metadata": {},
   "source": [
    "# fastq\n",
    "\n",
    "[illumina fastq def](http://support.illumina.com/content/dam/illumina-support/help/BaseSpaceHelp_v2/Content/Vault/Informatics/Sequencing_Analysis/BS/swSEQ_mBS_FASTQFiles.htm) <br>\n",
    "[]() <br>\n",
    "[]() <br>\n",
    "[]() <br>\n",
    "[]() <br>\n",
    "[]() <br>\n",
    "[]() <br>\n",
    "[]() <br>"
   ]
  },
  {
   "cell_type": "code",
   "execution_count": 4,
   "metadata": {},
   "outputs": [],
   "source": [
    "line = '@SIM:1:FCX:1:15:6329:1045 1:N:0:2'\n",
    "#              Sequence Identifier Split    if line[0] == \"@\"\n",
    "sequence_identifier = line.strip().strip('@').split(' ')[0]\n",
    "read_number_element = line.strip().split(' ')[1].split(':')\n",
    "#              Split\n",
    "sequence_id_list = sequence_identifier.split(':')\n",
    "instrument_id = sequence_id_list[0]\n",
    "run_number = sequence_id_list[1]\n",
    "flowcell_id = sequence_id_list[2]\n",
    "lane_number = sequence_id_list[3]\n",
    "tile_number = sequence_id_list[4]\n",
    "x_pos = sequence_id_list[5]\n",
    "y_pos = sequence_id_list[6]\n",
    "\n",
    "read_number = read_number_element[0]\n",
    "filtered_y_er_no = read_number_element[1]\n",
    "control_number = read_number_element[2]\n",
    "sample_number = read_number_element[3]\n",
    "\n"
   ]
  },
  {
   "cell_type": "code",
   "execution_count": 5,
   "metadata": {
    "scrolled": true
   },
   "outputs": [
    {
     "name": "stdout",
     "output_type": "stream",
     "text": [
      "Variable              Type    Data/Info\n",
      "---------------------------------------\n",
      "control_number        str     0\n",
      "filtered_y_er_no      str     N\n",
      "flowcell_id           str     FCX\n",
      "instrument_id         str     SIM\n",
      "lane_number           str     1\n",
      "line                  str     @SIM:1:FCX:1:15:6329:1045 1:N:0:2\n",
      "read_number           str     1\n",
      "read_number_element   list    n=4\n",
      "run_number            str     1\n",
      "sample_number         str     2\n",
      "sequence_id_list      list    n=7\n",
      "sequence_identifier   str     SIM:1:FCX:1:15:6329:1045\n",
      "tile_number           str     15\n",
      "x_pos                 str     6329\n",
      "y_pos                 str     1045\n"
     ]
    }
   ],
   "source": [
    "%whos"
   ]
  },
  {
   "cell_type": "code",
   "execution_count": null,
   "metadata": {},
   "outputs": [],
   "source": []
  }
 ],
 "metadata": {
  "kernelspec": {
   "display_name": "Python 3",
   "language": "python",
   "name": "python3"
  },
  "language_info": {
   "codemirror_mode": {
    "name": "ipython",
    "version": 3
   },
   "file_extension": ".py",
   "mimetype": "text/x-python",
   "name": "python",
   "nbconvert_exporter": "python",
   "pygments_lexer": "ipython3",
   "version": "3.6.5"
  }
 },
 "nbformat": 4,
 "nbformat_minor": 2
}
