{
 "cells": [
  {
   "cell_type": "code",
   "execution_count": 1,
   "metadata": {},
   "outputs": [],
   "source": [
    "import os\n",
    "import sys\n",
    "import numpy as np\n",
    "import pandas as pd"
   ]
  },
  {
   "cell_type": "code",
   "execution_count": 9,
   "metadata": {},
   "outputs": [
    {
     "data": {
      "text/plain": [
       "['memory_info.txt', 'tool_info.txt', 'sample_info.txt', 'run_info.txt']"
      ]
     },
     "execution_count": 9,
     "metadata": {},
     "output_type": "execute_result"
    }
   ],
   "source": [
    "os.listdir('../data/Config/AA_MayomicsVCMaster/')"
   ]
  },
  {
   "cell_type": "markdown",
   "metadata": {},
   "source": [
    "# extracted config files:\n",
    "```bash\n",
    "/projects/abv/mken/variant_calling_demo/Config\n",
    "```"
   ]
  },
  {
   "cell_type": "code",
   "execution_count": 2,
   "metadata": {},
   "outputs": [
    {
     "name": "stdout",
     "output_type": "stream",
     "text": [
      "Writing ../data/Config/AA_MayomicsVCMaster/sample_info.txt\n"
     ]
    }
   ],
   "source": [
    "%%writefile ../data/Config/AA_MayomicsVCMaster/sample_info.txt\n",
    "SampleName=\"NEAT_synthetic\""
   ]
  },
  {
   "cell_type": "code",
   "execution_count": 8,
   "metadata": {},
   "outputs": [
    {
     "name": "stdout",
     "output_type": "stream",
     "text": [
      "Writing ../data/Config/AA_MayomicsVCMaster/tool_info.txt\n"
     ]
    }
   ],
   "source": [
    "%%writefile ../data/Config/AA_MayomicsVCMaster/tool_info.txt\n",
    "CutAdapt=\"/usr/local/apps/bioapps/python/Python-3.6.1/bin\"\n",
    "TrimSeqScript=\"/projects/abv/mken/variant_calling_demo/MayomicsVC/src/shell/trim_sequences.sh\"\n",
    "\n",
    "CutAdaptThreads=\"8\"\n",
    "\n",
    "Sentieon=\"/usr/local/apps/bioapps/sentieon/sentieon-genomics-201808.01\"\n",
    "SentieonThreads=\"40\"\n",
    "\n",
    "BashSharedFunctions=\"/projects/abv/mken/variant_calling_demo/MayomicsVC/src/shell/shared_functions.sh\"\n",
    "BashPreamble=\"/projects/abv/mken/variant_calling_demo/MayomicsVC/src/shell/shell_preamble.sh\"\n",
    "AlignmentScript=\"/projects/abv/mken/variant_calling_demo/MayomicsVC/src/shell/alignment.sh\"\n",
    "DedupScript=\"/projects/abv/mken/variant_calling_demo/MayomicsVC/src/shell/dedup.sh\"\n",
    "RealignmentScript=\"/projects/abv/mken/variant_calling_demo/MayomicsVC/src/shell/realignment.sh\"\n",
    "BqsrScript=\"/projects/abv/mken/variant_calling_demo/MayomicsVC/src/shell/bqsr.sh\"\n",
    "HaplotyperScript=\"/projects/abv/mken/variant_calling_demo/MayomicsVC/src/shell/haplotyper.sh\"\n",
    "VqsrScript=\"/projects/abv/mken/variant_calling_demo/MayomicsVC/src/shell/vqsr.sh\"\n",
    "MergeSomaticVC_Script=\"/projects/abv/mken/variant_calling_demo/MayomicsVC/src/shell/merge_somatic_vcf.sh\"\n",
    "DeliveryAlignment_Script=\"/projects/abv/mken/variant_calling_demo/MayomicsVC/src/shell/deliver_alignment.sh\"\n",
    "MergeBamScript=\"/projects/abv/mken/variant_calling_demo/MayomicsVC/src/shell/merge_bams.sh\"\n",
    "DeliveryHaplotyperVC_Script=\"/projects/abv/mken/variant_calling_demo/MayomicsVC/src/shell/deliver_haplotyperVC.sh\"\n",
    "DeliverySomaticVC_Script=\"/projects/abv/mken/variant_calling_demo/MayomicsVC/src/shell/deliver_haplotyperVC.sh\"\n",
    "\n",
    "WorkflowJson=\"/projects/abv/mken/variant_calling_demo/Jsons/GermlineMasterWorkflow.FilledIn.json\"\n",
    "\n",
    "AlignEnvProfile=\"/projects/abv/mken/variant_calling_demo/Config/AlignEnvProfile.file\"\n",
    "DedupEnvProfile=\"/projects/abv/mken/variant_calling_demo/Config/DedupEnvProfile.file\"\n",
    "TrimEnvProfile=\"/projects/abv/mken/variant_calling_demo/Config/TrimEnvProfile.file\"\n",
    "BqsrEnvProfile=\"/projects/abv/mken/variant_calling_demo/Config/BqsrEnvProfile.file\"\n",
    "RealignEnvProfile=\"/projects/abv/mken/variant_calling_demo/Config/RealignEnvProfile.file\"\n",
    "HaplotyperEnvProfile=\"/projects/abv/mken/variant_calling_demo/Config/HaplotyperEnvProfile.file\"\n",
    "VqsrEnvProfile=\"/projects/abv/mken/variant_calling_demo/Config/VqsrEnvProfile.file\"\n",
    "MergeBamEnvProfile=\"/projects/abv/mken/variant_calling_demo/Config/DedupEnvProfile.file\""
   ]
  },
  {
   "cell_type": "code",
   "execution_count": 7,
   "metadata": {},
   "outputs": [
    {
     "name": "stdout",
     "output_type": "stream",
     "text": [
      "Writing ../data/Config/AA_MayomicsVCMaster/run_info.txt\n"
     ]
    }
   ],
   "source": [
    "%%writefile ../data/Config/AA_MayomicsVCMaster/run_info.txt\n",
    "DebugMode=\"-d\"\n",
    "\n",
    "PairedEnd=\"true\"\n",
    "Trimming=\"false\"\n",
    "MarkDuplicates=\"true\"\n",
    "Bqsr=\"true\"\n",
    "Vqsr=\"true\"\n",
    "\n",
    "NormalInputRead1=\"/projects/abv/mken/variant_calling_demo/MayomicsVC_TestData/Reads/NEAT_L1_R1.fastq.gz\"\n",
    "\n",
    "NormalInputRead2=\"/projects/abv/mken/variant_calling_demo/MayomicsVC_TestData/Reads/NEAT_L1_R2.fastq.gz\"\n",
    "\n",
    "Adapters=\"/projects/abv/mken/variant_calling_demo/MayomicsVC_TestData/TruSeqAdaptors.fasta\"\n",
    "\n",
    "Ref=\"/projects/abv/mken/variant_calling_demo/MayomicsVC_TestData/Reference/Homo_sapiens_assembly38.fasta\"\n",
    "RefAnn=\"/projects/abv/mken/variant_calling_demo/MayomicsVC_TestData/Reference/Homo_sapiens_assembly38.fasta.ann\"\n",
    "RefSa=\"/projects/abv/mken/variant_calling_demo/MayomicsVC_TestData/Reference/Homo_sapiens_assembly38.fasta.sa\"\n",
    "RefBwt=\"/projects/abv/mken/variant_calling_demo/MayomicsVC_TestData/Reference/Homo_sapiens_assembly38.fasta.bwt\"\n",
    "RefPac=\"/projects/abv/mken/variant_calling_demo/MayomicsVC_TestData/Reference/Homo_sapiens_assembly38.fasta.pac\"\n",
    "RefAmb=\"/projects/abv/mken/variant_calling_demo/MayomicsVC_TestData/Reference/Homo_sapiens_assembly38.fasta.amb\"\n",
    "RefFai=\"/projects/abv/mken/variant_calling_demo/MayomicsVC_TestData/Reference/Homo_sapiens_assembly38.fasta.fai\"\n",
    "\n",
    "Platform=\"Illumina\"\n",
    "Library=\"lib_name\"\n",
    "CenterName=\"ABV\"\n",
    "PlatformUnit=\"FLOWCELL_BARCODE.LANE1.SAMPLE_BARCODE\"\n",
    "\n",
    "BWAExtraOptionsString=\"-M\"\n",
    "\n",
    "ChunkSizeInBases=\"10000000\"\n",
    "\n",
    "BqsrKnownSites=\"/projects/abv/mken/variant_calling_demo/MayomicsVC_TestData/Reference/dbsnp_138.hg38.vcf\"\n",
    "RealignmentKnownSites=\"/projects/abv/mken/variant_calling_demo/MayomicsVC_TestData/Reference/Mills_and_1000G_gold_standard.indels.hg38.vcf\"\n",
    "\n",
    "DBSNP=\"/projects/abv/mken/variant_calling_demo/MayomicsVC_TestData/Reference/dbsnp_138.hg38.vcf\"\n",
    "DBSNPIdx=\"/projects/abv/mken/variant_calling_demo/MayomicsVC_TestData/Reference/dbsnp_138.hg38.vcf.idx\"\n",
    "\n",
    "\n",
    "HaplotyperExtraOptionsString=\"\"'--emit_mode variant --gq_bands 1-60,60-99/19,99 --min_base_qual 10 --pcr_indel_model CONSERVATIVE --phasing 1 --ploidy 2 --prune_factor 2'\"\"\n",
    "HaplotyperVCFSourceField=\"Sentieon\"\n",
    "\n",
    "VqsrSnpResourceString=\"\"'--resource /projects/abv/mken/variant_calling_demo/MayomicsVC_TestData/Reference/1000G_phase1.snps.high_confidence.hg38.vcf.gz --resource_param 1000G,known=false,training=true,truth=false,prior=10.0 --resource /projects/abv/mken/variant_calling_demo/MayomicsVC_TestData/Reference/1000G_omni2.5.hg38.vcf.gz --resource_param omni,known=false,training=true,truth=false,prior=12.0 --resource /projects/abv/mken/variant_calling_demo/MayomicsVC_TestData/Reference/dbsnp_138.hg38.vcf --resource_param dbsnp,known=true,training=false,truth=false,prior=2.0 --resource /projects/abv/mken/variant_calling_demo/MayomicsVC_TestData/Reference/hapmap_3.3.hg38.vcf.gz --resource_param hapmap,known=false,training=true,truth=true,prior=15.0'\"\"\n",
    "\n",
    "VqsrIndelResourceString=\"\"'--resource /projects/abv/mken/variant_calling_demo/MayomicsVC_TestData/Reference/dbsnp_138.hg38.vcf --resource_param dbsnp,known=true,training=false,truth=false,prior=2.0 --resource /projects/abv/mken/variant_calling_demo/MayomicsVC_TestData/Reference/Mills_and_1000G_gold_standard.indels.hg38.vcf --resource_param Mills,known=false,training=true,truth=true,prior=12.0'\"\"\n",
    "\n",
    "AnnotateText=\"\"'--annotation DP --annotation QD --annotation FS --annotation SOR --annotation MQ --annotation MQRankSum --annotation ReadPosRankSum'\"\"\n",
    "\n",
    "\n",
    "DeliveryFolder_Alignment=\"/projects/abv/mken/variant_calling_demo/Delivery/Alignment\"\n",
    "DeliveryFolder_HaplotyperVC=\"/projects/abv/mken/variant_calling_demo/Delivery/HaplotyperVC\""
   ]
  },
  {
   "cell_type": "code",
   "execution_count": 6,
   "metadata": {},
   "outputs": [
    {
     "name": "stdout",
     "output_type": "stream",
     "text": [
      "Writing ../data/Config/AA_MayomicsVCMaster/memory_info.txt\n"
     ]
    }
   ],
   "source": [
    "%%writefile ../data/Config/AA_MayomicsVCMaster/memory_info.txt\n",
    "#### SCRIPTS MEMORY ARGUMENTS\n",
    "\n",
    "####################\n",
    "#### alignment and BAM formatting jobs\n",
    "##################\n",
    "TrimHardMemLimit=\"100G\"\n",
    "TrimSoftMemLimit=\"100G\"\n",
    "\n",
    "AlignHardMemLimit=\"100G\"\n",
    "AlignSoftMemLimit=\"100G\"\n",
    "\n",
    "DedupHardMemLimit=\"100G\"\n",
    "DedupSoftMemLimit=\"100G\"\n",
    "\n",
    "MergeHardMemLimit=\"100G\"\n",
    "MergeSoftMemLimit=\"100G\"\n",
    "\n",
    "\n",
    "#################\n",
    "### realignment and recalibration and BAM for visualization\n",
    "##################\n",
    "RealignHardMemLimit=\"100G\"\n",
    "RealignSoftMemLimit=\"100G\"\n",
    "\n",
    "BqsrHardMemLimit=\"100G\"\n",
    "BqsrSoftMemLimit=\"100G\"\n",
    "\n",
    "\n",
    "########################\n",
    "### variant calling and VCF manipulation jobs\n",
    "#######################\n",
    "VqsrHardMemLimit=\"100G\"\n",
    "VqsrSoftMemLimit=\"100G\"\n",
    "\n",
    "HaplotyperHardMemLimit=\"100G\"\n",
    "HaplotyperSoftMemLimit=\"100G\""
   ]
  },
  {
   "cell_type": "code",
   "execution_count": null,
   "metadata": {},
   "outputs": [],
   "source": []
  }
 ],
 "metadata": {
  "kernelspec": {
   "display_name": "Python 3",
   "language": "python",
   "name": "python3"
  },
  "language_info": {
   "codemirror_mode": {
    "name": "ipython",
    "version": 3
   },
   "file_extension": ".py",
   "mimetype": "text/x-python",
   "name": "python",
   "nbconvert_exporter": "python",
   "pygments_lexer": "ipython3",
   "version": "3.6.5"
  }
 },
 "nbformat": 4,
 "nbformat_minor": 2
}
