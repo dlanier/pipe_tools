{
 "cells": [
  {
   "cell_type": "markdown",
   "metadata": {},
   "source": [
    "## HiPlot discovered June 9, 2020.\n",
    "##### BookmarksBar > LearnedMachinest > VisualML\n",
    "Facebook AI blog [HiPlot](https://ai.facebook.com/blog/hiplot-high-dimensional-interactive-plots-made-easy/) Janurary 30, 2020. \n",
    "Github [HiPlot](https://github.com/facebookresearch/hiplot) and git io \n",
    "[hiplot demo](https://facebookresearch.github.io/hiplot/) and \n",
    "[documentation](https://facebookresearch.github.io/hiplot/index.html) <br>\n",
    "[]() <br>"
   ]
  },
  {
   "cell_type": "code",
   "execution_count": 1,
   "metadata": {},
   "outputs": [],
   "source": [
    "import hiplot as hip"
   ]
  },
  {
   "cell_type": "code",
   "execution_count": 3,
   "metadata": {
    "scrolled": false
   },
   "outputs": [
    {
     "name": "stdout",
     "output_type": "stream",
     "text": [
      "Help on class Experiment in module hiplot.experiment:\n",
      "\n",
      "class Experiment(_DictSerializable)\n",
      " |  Experiment(datapoints: Union[List[hiplot.experiment.Datapoint], NoneType] = None, parameters_definition: Union[Dict[str, hiplot.experiment.ValueDef], NoneType] = None, colormap: Union[str, NoneType] = None) -> None\n",
      " |  \n",
      " |  Object that can be rendered by HiPlot. It essential contains a list of metrics, but also some options on how to render it.\n",
      " |  \n",
      " |  See :meth:`Experiment.display` to display an :class:`Experiment` in an ipython notebook.\n",
      " |  \n",
      " |  :ivar datapoints: All the measurements we have. One datapoint corresponds to one line in the parallel plot and to one line in the table.\n",
      " |  :ivar parameters_definition: Characteristics of the columns (ordering, type, etc...)\n",
      " |  \n",
      " |  :Example:\n",
      " |  \n",
      " |  .. code-block:: python\n",
      " |  \n",
      " |      import hiplot as hip\n",
      " |      data = [{'param': 1, 'loss': 10, 'hidden_field': 'value1', 'c': 'red'},\n",
      " |          {'param': 2, 'loss': 5, 'hidden_field': 'value2', 'c': 'black'}]\n",
      " |      exp = hip.Experiment.from_iterable(data)\n",
      " |  \n",
      " |  Method resolution order:\n",
      " |      Experiment\n",
      " |      _DictSerializable\n",
      " |      builtins.object\n",
      " |  \n",
      " |  Methods defined here:\n",
      " |  \n",
      " |  __init__(self, datapoints: Union[List[hiplot.experiment.Datapoint], NoneType] = None, parameters_definition: Union[Dict[str, hiplot.experiment.ValueDef], NoneType] = None, colormap: Union[str, NoneType] = None) -> None\n",
      " |      Initialize self.  See help(type(self)) for accurate signature.\n",
      " |  \n",
      " |  display(self, force_full_width: bool = False, store_state_key: Union[str, NoneType] = None, **kwargs: Any) -> 'ExperimentDisplayed'\n",
      " |      Displays an experiment in an ipython notebook.\n",
      " |      \n",
      " |      :param force_full_width: allows to force to have 100% width on Jupyter Notebooks only.\n",
      " |      :param store_state_key: a string identifier for the HiPlot instance.\n",
      " |          If not `None`, HiPlot will store dynamic modifications (removing/reordering columns...)\n",
      " |          in the URL, and restore them when calling `display` with the same value for `store_state_key` - see :ref:`tutoNotebookState`\n",
      " |      :returns: An :class:`ExperimentDisplayed` object that can be used to interact with the visualization\n",
      " |          - only implemented for Jupyter notebook.\n",
      " |          See :ref:`tutonotebookdisplayedexperiment`\n",
      " |  \n",
      " |  display_data(self, plugin: str) -> Dict[str, Any]\n",
      " |      Retrieve data dictionnary for a plugin, which can be modified.\n",
      " |      \n",
      " |      :param plugin: Name of the plugin\n",
      " |      \n",
      " |      :Example:\n",
      " |      \n",
      " |      .. code-block:: python\n",
      " |      \n",
      " |          exp.display_data(hip.Displays.XY).update({\n",
      " |              \"axis_x\": \"time\",\n",
      " |              \"axis_y\": \"loss\"\n",
      " |          })\n",
      " |  \n",
      " |  remove_missing_parents(self) -> 'Experiment'\n",
      " |      Sets :attr:`hiplot.Datapoint.from_uid` to None when set to a non-existing Datapoint.\n",
      " |  \n",
      " |  to_csv(self, file: Union[pathlib.Path, str, IO[str]]) -> None\n",
      " |      Dumps this Experiment as a .csv file.\n",
      " |      Information about display_data, parameters definition will be lost.\n",
      " |      \n",
      " |      :param file: Path/handle to a file to write\n",
      " |  \n",
      " |  to_html(self, file: Union[pathlib.Path, str, IO[str], NoneType] = None, **kwargs: Any) -> str\n",
      " |      Returns the content of a standalone .html file that displays this experiment\n",
      " |      without any dependency to HiPlot server or static files.\n",
      " |      \n",
      " |      :param file: Path/handle to a file to write (optional)\n",
      " |      :returns: A standalone HTML code to display this Experiment.\n",
      " |  \n",
      " |  validate(self) -> 'Experiment'\n",
      " |      Makes sure that this object is valid. Raises a :class:`hiplot.ExperimentValidationError` otherwise.\n",
      " |      Experiments with circular references, non-existent parents, or without datapoints are invalid.\n",
      " |  \n",
      " |  ----------------------------------------------------------------------\n",
      " |  Static methods defined here:\n",
      " |  \n",
      " |  from_csv(file: Union[pathlib.Path, str, IO[str]]) -> 'Experiment'\n",
      " |      Creates a HiPlot experiment from a CSV file.\n",
      " |      \n",
      " |      :param file: CSV file path\n",
      " |  \n",
      " |  from_dataframe(dataframe: Any) -> 'Experiment'\n",
      " |      Creates a HiPlot experiment from a pandas DataFrame.\n",
      " |      \n",
      " |      :param dataframe: Pandas DataFrame\n",
      " |  \n",
      " |  from_iterable(it: Iterable[Dict[str, Any]]) -> 'Experiment'\n",
      " |      Creates a HiPlot experiment from an iterable/list of dictionnaries.\n",
      " |      This is the easiest way to generate an `hiplot.Experiment` object.\n",
      " |      \n",
      " |      :param it: A list (or iterable) of dictionnaries\n",
      " |      \n",
      " |      :Example:\n",
      " |      \n",
      " |      >>> import hiplot as hip\n",
      " |      >>> hip.Experiment.from_iterable([{\"p\": \"a\"}, {\"p\": \"b\"}])\n",
      " |      <hiplot.experiment.Experiment object at 0x7f0f2e13c590>\n",
      " |  \n",
      " |  merge(xp_dict: Dict[str, ForwardRef('Experiment')]) -> 'Experiment'\n",
      " |      Merge several experiments into a single one\n",
      " |  \n",
      " |  ----------------------------------------------------------------------\n",
      " |  Data descriptors inherited from _DictSerializable:\n",
      " |  \n",
      " |  __dict__\n",
      " |      dictionary for instance variables (if defined)\n",
      " |  \n",
      " |  __weakref__\n",
      " |      list of weak references to the object (if defined)\n",
      "\n"
     ]
    }
   ],
   "source": [
    "help(hip.Experiment)"
   ]
  },
  {
   "cell_type": "code",
   "execution_count": null,
   "metadata": {
    "scrolled": false
   },
   "outputs": [],
   "source": []
  }
 ],
 "metadata": {
  "kernelspec": {
   "display_name": "Python 3",
   "language": "python",
   "name": "python3"
  },
  "language_info": {
   "codemirror_mode": {
    "name": "ipython",
    "version": 3
   },
   "file_extension": ".py",
   "mimetype": "text/x-python",
   "name": "python",
   "nbconvert_exporter": "python",
   "pygments_lexer": "ipython3",
   "version": "3.7.3"
  }
 },
 "nbformat": 4,
 "nbformat_minor": 2
}
