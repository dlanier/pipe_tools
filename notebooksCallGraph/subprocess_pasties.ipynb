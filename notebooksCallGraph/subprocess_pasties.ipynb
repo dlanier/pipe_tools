{
 "cells": [
  {
   "cell_type": "markdown",
   "metadata": {},
   "source": [
    "## subprocess story: run multiple commands including java call from python function\n",
    "[stackoverflow multi-bash](https://stackoverflow.com/questions/17742789/running-multiple-bash-commands-with-subprocess) <br>\n",
    "[stackoverflow synchronously](https://stackoverflow.com/questions/39721924/how-to-run-multiple-commands-synchronously-from-one-subprocess-popen-command/39722695) <br>\n",
    "[stackoverflow run java w io](https://stackoverflow.com/questions/9333637/how-to-execute-java-program-using-python-considering-inputs-and-outputs-both?rq=1) <br>\n",
    "[]() <br>\n",
    "[]() <br>\n",
    "[]() <br>\n",
    "[]() <br>\n",
    "[]() <br>\n",
    "```python\n",
    "import shlex\n",
    "dakine_list = shlex.split('ls -la')\n",
    "print(type(dakine))\n",
    "print(dakine)\n",
    "# <class 'list'>\n",
    "# ['ls','-la']\n",
    "\n",
    "# or (werks):\n",
    "import sys\n",
    "import subprocess\n",
    "import shlex\n",
    "\n",
    "cmds = ['date', 'sleep 2', 'date']\n",
    "cmds = [shlex.split(x) for x in cmds]\n",
    "\n",
    "outputs =[]\n",
    "for cmd in cmds:\n",
    "    outputs.append(subprocess.Popen(cmd, stdout=subprocess.PIPE, stderr=subprocess.STDOUT).communicate())\n",
    "\n",
    "for line in outputs:\n",
    "    print(line[0].strip())    \n",
    "```\n",
    "```bash\n",
    "b'Tue Apr 30 10:49:51 CDT 2019'\n",
    "b''\n",
    "b'Tue Apr 30 10:49:53 CDT 2019'\n",
    "```"
   ]
  },
  {
   "cell_type": "code",
   "execution_count": 1,
   "metadata": {},
   "outputs": [],
   "source": [
    "import os\n",
    "import sys\n",
    "from subprocess import Popen, PIPE\n",
    "import shlex\n"
   ]
  },
  {
   "cell_type": "code",
   "execution_count": 3,
   "metadata": {},
   "outputs": [
    {
     "name": "stdout",
     "output_type": "stream",
     "text": [
      "<class 'list'>\n"
     ]
    },
    {
     "data": {
      "text/plain": [
       "['ls', '-la']"
      ]
     },
     "execution_count": 3,
     "metadata": {},
     "output_type": "execute_result"
    }
   ],
   "source": [
    "one_command = 'ls -la'\n",
    "dakine = shlex.split(one_command)\n",
    "print(type(dakine))\n",
    "dakine"
   ]
  },
  {
   "cell_type": "code",
   "execution_count": 7,
   "metadata": {},
   "outputs": [
    {
     "name": "stdout",
     "output_type": "stream",
     "text": [
      "b'Tue Apr 30 10:49:51 CDT 2019'\n",
      "b''\n",
      "b'Tue Apr 30 10:49:53 CDT 2019'\n"
     ]
    }
   ],
   "source": [
    "import sys\n",
    "import subprocess\n",
    "import shlex\n",
    "\n",
    "cmds = ['date', 'sleep 2', 'date']\n",
    "\n",
    "cmds = [shlex.split(x) for x in cmds]\n",
    "\n",
    "outputs =[]\n",
    "for cmd in cmds:\n",
    "    outputs.append(subprocess.Popen(cmd, stdout=subprocess.PIPE, stderr=subprocess.STDOUT).communicate())\n",
    "\n",
    "for line in outputs:\n",
    "    print(line[0].strip())"
   ]
  },
  {
   "cell_type": "code",
   "execution_count": 8,
   "metadata": {},
   "outputs": [
    {
     "data": {
      "text/plain": [
       "[['date'], ['sleep', '2'], ['date']]"
      ]
     },
     "execution_count": 8,
     "metadata": {},
     "output_type": "execute_result"
    }
   ],
   "source": [
    "cmds"
   ]
  }
 ],
 "metadata": {
  "kernelspec": {
   "display_name": "Python 3",
   "language": "python",
   "name": "python3"
  },
  "language_info": {
   "codemirror_mode": {
    "name": "ipython",
    "version": 3
   },
   "file_extension": ".py",
   "mimetype": "text/x-python",
   "name": "python",
   "nbconvert_exporter": "python",
   "pygments_lexer": "ipython3",
   "version": "3.7.3"
  }
 },
 "nbformat": 4,
 "nbformat_minor": 2
}
